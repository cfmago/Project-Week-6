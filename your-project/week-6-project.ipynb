{
 "cells": [
  {
   "cell_type": "code",
   "execution_count": 411,
   "metadata": {},
   "outputs": [],
   "source": [
    "import pandas as pd\n",
    "import numpy as np\n",
    "import matplotlib.pyplot as plt\n",
    "import seaborn as sns\n",
    "import scipy.stats as stats"
   ]
  },
  {
   "cell_type": "code",
   "execution_count": 412,
   "metadata": {},
   "outputs": [],
   "source": [
    "responses = pd.read_excel('Covid-19 lockdowns (Responses).xlsx')"
   ]
  },
  {
   "cell_type": "code",
   "execution_count": 413,
   "metadata": {},
   "outputs": [
    {
     "data": {
      "text/html": [
       "<div>\n",
       "<style scoped>\n",
       "    .dataframe tbody tr th:only-of-type {\n",
       "        vertical-align: middle;\n",
       "    }\n",
       "\n",
       "    .dataframe tbody tr th {\n",
       "        vertical-align: top;\n",
       "    }\n",
       "\n",
       "    .dataframe thead th {\n",
       "        text-align: right;\n",
       "    }\n",
       "</style>\n",
       "<table border=\"1\" class=\"dataframe\">\n",
       "  <thead>\n",
       "    <tr style=\"text-align: right;\">\n",
       "      <th></th>\n",
       "      <th>Timestamp</th>\n",
       "      <th>I believe that Covid-19 poses a relevant threat to my personal health and well-being.</th>\n",
       "      <th>I believe that Covid-19 poses a relevant threat to the health and well-being of my loved ones.</th>\n",
       "      <th>I strictly follow the recommendations of my country’s health authority to avoid Covid-19.</th>\n",
       "      <th>I dedicated more time to personal hobbies during lockdown.</th>\n",
       "      <th>I spent more time watching TV during lockdown.</th>\n",
       "      <th>I spent more time browsing the internet during lockdown.</th>\n",
       "      <th>Average number of hours of sleep per night before Covid-19.</th>\n",
       "      <th>Average number of hours of sleep per night after Covid-19.</th>\n",
       "      <th>Average number of cigarettes smoked per day before Covid-19. If none, type 0.</th>\n",
       "      <th>...</th>\n",
       "      <th>My work hours were reduced during lockdown.</th>\n",
       "      <th>I experienced loss of income after lockdown went into effect.</th>\n",
       "      <th>If you answered \"yes\" to the previous question, indicate the percentage of income lost.</th>\n",
       "      <th>Gender</th>\n",
       "      <th>Age</th>\n",
       "      <th>City of residence</th>\n",
       "      <th>Marital status</th>\n",
       "      <th>Number of children. If none, type 0.</th>\n",
       "      <th>Profession</th>\n",
       "      <th>You may use this space for additional comments</th>\n",
       "    </tr>\n",
       "  </thead>\n",
       "  <tbody>\n",
       "    <tr>\n",
       "      <th>0</th>\n",
       "      <td>2020-08-04 21:26:36.732</td>\n",
       "      <td>3</td>\n",
       "      <td>4</td>\n",
       "      <td>4</td>\n",
       "      <td>2</td>\n",
       "      <td>3</td>\n",
       "      <td>4</td>\n",
       "      <td>7</td>\n",
       "      <td>8</td>\n",
       "      <td>0</td>\n",
       "      <td>...</td>\n",
       "      <td>No</td>\n",
       "      <td>No</td>\n",
       "      <td>NaN</td>\n",
       "      <td>Male</td>\n",
       "      <td>30</td>\n",
       "      <td>Carnide, Lisboa</td>\n",
       "      <td>Single</td>\n",
       "      <td>0</td>\n",
       "      <td>Grad Student</td>\n",
       "      <td>Olá Celina! Bjs, Martim</td>\n",
       "    </tr>\n",
       "    <tr>\n",
       "      <th>1</th>\n",
       "      <td>2020-08-04 21:49:33.398</td>\n",
       "      <td>3</td>\n",
       "      <td>4</td>\n",
       "      <td>4</td>\n",
       "      <td>2</td>\n",
       "      <td>3</td>\n",
       "      <td>4</td>\n",
       "      <td>7</td>\n",
       "      <td>8</td>\n",
       "      <td>0</td>\n",
       "      <td>...</td>\n",
       "      <td>No</td>\n",
       "      <td>No</td>\n",
       "      <td>NaN</td>\n",
       "      <td>Male</td>\n",
       "      <td>30</td>\n",
       "      <td>Lisboa</td>\n",
       "      <td>Single</td>\n",
       "      <td>0</td>\n",
       "      <td>Grad Student</td>\n",
       "      <td>Additional comments are undervalued</td>\n",
       "    </tr>\n",
       "    <tr>\n",
       "      <th>2</th>\n",
       "      <td>2020-08-04 22:08:05.243</td>\n",
       "      <td>4</td>\n",
       "      <td>4</td>\n",
       "      <td>3</td>\n",
       "      <td>2</td>\n",
       "      <td>3</td>\n",
       "      <td>4</td>\n",
       "      <td>8</td>\n",
       "      <td>6</td>\n",
       "      <td>0</td>\n",
       "      <td>...</td>\n",
       "      <td>No</td>\n",
       "      <td>No</td>\n",
       "      <td>NaN</td>\n",
       "      <td>Female</td>\n",
       "      <td>28</td>\n",
       "      <td>Lisboa</td>\n",
       "      <td>Single</td>\n",
       "      <td>0</td>\n",
       "      <td>Art gallery assistant</td>\n",
       "      <td>NaN</td>\n",
       "    </tr>\n",
       "    <tr>\n",
       "      <th>3</th>\n",
       "      <td>2020-08-04 22:08:24.789</td>\n",
       "      <td>4</td>\n",
       "      <td>4</td>\n",
       "      <td>3</td>\n",
       "      <td>4</td>\n",
       "      <td>4</td>\n",
       "      <td>4</td>\n",
       "      <td>7</td>\n",
       "      <td>8</td>\n",
       "      <td>0</td>\n",
       "      <td>...</td>\n",
       "      <td>No</td>\n",
       "      <td>Yes</td>\n",
       "      <td>NaN</td>\n",
       "      <td>Female</td>\n",
       "      <td>28</td>\n",
       "      <td>Lisbon</td>\n",
       "      <td>In a civil union</td>\n",
       "      <td>0</td>\n",
       "      <td>Researcher</td>\n",
       "      <td>NaN</td>\n",
       "    </tr>\n",
       "    <tr>\n",
       "      <th>4</th>\n",
       "      <td>2020-08-04 22:16:24.963</td>\n",
       "      <td>3</td>\n",
       "      <td>4</td>\n",
       "      <td>4</td>\n",
       "      <td>4</td>\n",
       "      <td>2</td>\n",
       "      <td>2</td>\n",
       "      <td>8</td>\n",
       "      <td>8</td>\n",
       "      <td>0</td>\n",
       "      <td>...</td>\n",
       "      <td>Yes</td>\n",
       "      <td>No</td>\n",
       "      <td>NaN</td>\n",
       "      <td>Female</td>\n",
       "      <td>33</td>\n",
       "      <td>Lisboa</td>\n",
       "      <td>Single</td>\n",
       "      <td>0</td>\n",
       "      <td>Conservator- restorer</td>\n",
       "      <td>NaN</td>\n",
       "    </tr>\n",
       "  </tbody>\n",
       "</table>\n",
       "<p>5 rows × 30 columns</p>\n",
       "</div>"
      ],
      "text/plain": [
       "                Timestamp  \\\n",
       "0 2020-08-04 21:26:36.732   \n",
       "1 2020-08-04 21:49:33.398   \n",
       "2 2020-08-04 22:08:05.243   \n",
       "3 2020-08-04 22:08:24.789   \n",
       "4 2020-08-04 22:16:24.963   \n",
       "\n",
       "   I believe that Covid-19 poses a relevant threat to my personal health and well-being.  \\\n",
       "0                                                  3                                       \n",
       "1                                                  3                                       \n",
       "2                                                  4                                       \n",
       "3                                                  4                                       \n",
       "4                                                  3                                       \n",
       "\n",
       "   I believe that Covid-19 poses a relevant threat to the health and well-being of my loved ones.  \\\n",
       "0                                                  4                                                \n",
       "1                                                  4                                                \n",
       "2                                                  4                                                \n",
       "3                                                  4                                                \n",
       "4                                                  4                                                \n",
       "\n",
       "   I strictly follow the recommendations of my country’s health authority to avoid Covid-19.  \\\n",
       "0                                                  4                                           \n",
       "1                                                  4                                           \n",
       "2                                                  3                                           \n",
       "3                                                  3                                           \n",
       "4                                                  4                                           \n",
       "\n",
       "   I dedicated more time to personal hobbies during lockdown.  \\\n",
       "0                                                  2            \n",
       "1                                                  2            \n",
       "2                                                  2            \n",
       "3                                                  4            \n",
       "4                                                  4            \n",
       "\n",
       "   I spent more time watching TV during lockdown.  \\\n",
       "0                                               3   \n",
       "1                                               3   \n",
       "2                                               3   \n",
       "3                                               4   \n",
       "4                                               2   \n",
       "\n",
       "   I spent more time browsing the internet during lockdown.  \\\n",
       "0                                                  4          \n",
       "1                                                  4          \n",
       "2                                                  4          \n",
       "3                                                  4          \n",
       "4                                                  2          \n",
       "\n",
       "   Average number of hours of sleep per night before Covid-19.  \\\n",
       "0                                                  7             \n",
       "1                                                  7             \n",
       "2                                                  8             \n",
       "3                                                  7             \n",
       "4                                                  8             \n",
       "\n",
       "   Average number of hours of sleep per night after Covid-19.  \\\n",
       "0                                                  8            \n",
       "1                                                  8            \n",
       "2                                                  6            \n",
       "3                                                  8            \n",
       "4                                                  8            \n",
       "\n",
       "   Average number of cigarettes smoked per day before Covid-19. If none, type 0.  \\\n",
       "0                                                  0                               \n",
       "1                                                  0                               \n",
       "2                                                  0                               \n",
       "3                                                  0                               \n",
       "4                                                  0                               \n",
       "\n",
       "   ...  My work hours were reduced during lockdown.  \\\n",
       "0  ...                                           No   \n",
       "1  ...                                           No   \n",
       "2  ...                                           No   \n",
       "3  ...                                           No   \n",
       "4  ...                                          Yes   \n",
       "\n",
       "   I experienced loss of income after lockdown went into effect.  \\\n",
       "0                                                 No               \n",
       "1                                                 No               \n",
       "2                                                 No               \n",
       "3                                                Yes               \n",
       "4                                                 No               \n",
       "\n",
       "   If you answered \"yes\" to the previous question, indicate the percentage of income lost.  \\\n",
       "0                                                NaN                                         \n",
       "1                                                NaN                                         \n",
       "2                                                NaN                                         \n",
       "3                                                NaN                                         \n",
       "4                                                NaN                                         \n",
       "\n",
       "   Gender  Age City of residence    Marital status  \\\n",
       "0    Male   30   Carnide, Lisboa            Single   \n",
       "1    Male   30            Lisboa            Single   \n",
       "2  Female   28            Lisboa            Single   \n",
       "3  Female   28            Lisbon  In a civil union   \n",
       "4  Female   33            Lisboa            Single   \n",
       "\n",
       "   Number of children. If none, type 0.             Profession  \\\n",
       "0                                     0           Grad Student   \n",
       "1                                     0           Grad Student   \n",
       "2                                     0  Art gallery assistant   \n",
       "3                                     0             Researcher   \n",
       "4                                     0  Conservator- restorer   \n",
       "\n",
       "  You may use this space for additional comments  \n",
       "0                        Olá Celina! Bjs, Martim  \n",
       "1            Additional comments are undervalued  \n",
       "2                                            NaN  \n",
       "3                                            NaN  \n",
       "4                                            NaN  \n",
       "\n",
       "[5 rows x 30 columns]"
      ]
     },
     "execution_count": 413,
     "metadata": {},
     "output_type": "execute_result"
    }
   ],
   "source": [
    "responses.head()"
   ]
  },
  {
   "cell_type": "code",
   "execution_count": 414,
   "metadata": {},
   "outputs": [
    {
     "data": {
      "text/plain": [
       "Index(['Timestamp',\n",
       "       'I believe that Covid-19 poses a relevant threat to my personal health and well-being.',\n",
       "       'I believe that Covid-19 poses a relevant threat to the health and well-being of my loved ones.',\n",
       "       'I strictly follow the recommendations of my country’s health authority to avoid Covid-19.',\n",
       "       'I dedicated more time to personal hobbies during lockdown.',\n",
       "       'I spent more time watching TV during lockdown.',\n",
       "       'I spent more time browsing the internet during lockdown.',\n",
       "       'Average number of hours of sleep per night before Covid-19.',\n",
       "       'Average number of hours of sleep per night after Covid-19.',\n",
       "       'Average number of cigarettes smoked per day before Covid-19. If none, type 0.',\n",
       "       'Average number of cigarettes smoked per day after Covid-19. If none, type 0.',\n",
       "       'Average number of hours per week dedicated to physical activity before Covid-19.',\n",
       "       'Average number of hours per week dedicated to physical activity after Covid-19.',\n",
       "       'Average number of hours per week dedicated to personal hobbies before Covid-19.',\n",
       "       'Average number of hours per week dedicated to personal hobbies after Covid-19.',\n",
       "       'Average number of minutes per day spent commuting before Covid-19.',\n",
       "       'Average number of minutes per day spent commuting after Covid-19.',\n",
       "       'Average number of working hours per day before Covid-19.',\n",
       "       'Average number of working hours per day after Covid-19.',\n",
       "       'My workplace transitioned to remote during lockdown.',\n",
       "       'My work hours were reduced during lockdown.',\n",
       "       'I experienced loss of income after lockdown went into effect.',\n",
       "       'If you answered \"yes\" to the previous question, indicate the percentage of income lost.',\n",
       "       'Gender', 'Age', 'City of residence', 'Marital status',\n",
       "       'Number of children. If none, type 0.', 'Profession',\n",
       "       'You may use this space for additional comments'],\n",
       "      dtype='object')"
      ]
     },
     "execution_count": 414,
     "metadata": {},
     "output_type": "execute_result"
    }
   ],
   "source": [
    "responses.columns"
   ]
  },
  {
   "cell_type": "markdown",
   "metadata": {},
   "source": [
    "# Data cleaning"
   ]
  },
  {
   "cell_type": "code",
   "execution_count": 415,
   "metadata": {},
   "outputs": [],
   "source": [
    "responses.rename(columns={'I believe that Covid-19 poses a relevant threat to my personal health and well-being.': \"COV_threat_personal\", 'I believe that Covid-19 poses a relevant threat to the health and well-being of my loved ones.': \"COV_threat_others\", 'I strictly follow the recommendations of my country’s health authority to avoid Covid-19.' : 'adherence_recom', 'I dedicated more time to personal hobbies during lockdown.': 'more_time_hobbies_LD', 'I spent more time watching TV during lockdown.' : 'more_time_TV_LD', 'I spent more time browsing the internet during lockdown.' : 'more_time_internet_LD', 'Average number of hours of sleep per night before Covid-19.' : 'avg_sleep_preCOV', 'Average number of hours of sleep per night after Covid-19.' : 'avg_sleep_postCOV', 'Average number of cigarettes smoked per day before Covid-19. If none, type 0.' : 'avg_cig_preCOV', 'Average number of cigarettes smoked per day after Covid-19. If none, type 0.' : 'avg_cig_postCOV', 'Average number of hours per week dedicated to physical activity before Covid-19.' : 'avg_phy-act_preCOV', 'Average number of hours per week dedicated to physical activity after Covid-19.' : 'avg_phy-act_postCOV', 'Average number of hours per week dedicated to personal hobbies before Covid-19.' : 'avg_hobbies_preCOV', 'Average number of hours per week dedicated to personal hobbies after Covid-19.' : 'avg_hobbies_postCOV', 'Average number of minutes per day spent commuting before Covid-19.' : 'avg_commute_preCOV', 'Average number of minutes per day spent commuting after Covid-19.' : 'avg_commute_postCOV', 'Average number of working hours per day before Covid-19.' : 'avg_work_preCOV', 'Average number of working hours per day after Covid-19.' : 'avg_work_postCOV', 'My workplace transitioned to remote during lockdown.' : 'work_remote_LD', 'My work hours were reduced during lockdown.' : 'work_reduced_LD', 'I experienced loss of income after lockdown went into effect.' : 'loss_income', 'If you answered \"yes\" to the previous question, indicate the percentage of income lost.' : 'loss_income_%', 'Number of children. If none, type 0.' : 'number_children', 'You may use this space for additional comments' : 'comments'}, inplace=True)\n"
   ]
  },
  {
   "cell_type": "code",
   "execution_count": 416,
   "metadata": {},
   "outputs": [
    {
     "data": {
      "text/plain": [
       "Index(['Timestamp', 'COV_threat_personal', 'COV_threat_others',\n",
       "       'adherence_recom', 'more_time_hobbies_LD', 'more_time_TV_LD',\n",
       "       'more_time_internet_LD', 'avg_sleep_preCOV', 'avg_sleep_postCOV',\n",
       "       'avg_cig_preCOV', 'avg_cig_postCOV', 'avg_phy-act_preCOV',\n",
       "       'avg_phy-act_postCOV', 'avg_hobbies_preCOV', 'avg_hobbies_postCOV',\n",
       "       'avg_commute_preCOV', 'avg_commute_postCOV', 'avg_work_preCOV',\n",
       "       'avg_work_postCOV', 'work_remote_LD', 'work_reduced_LD', 'loss_income',\n",
       "       'loss_income_%', 'Gender', 'Age', 'City of residence', 'Marital status',\n",
       "       'number_children', 'Profession', 'comments'],\n",
       "      dtype='object')"
      ]
     },
     "execution_count": 416,
     "metadata": {},
     "output_type": "execute_result"
    }
   ],
   "source": [
    "responses.columns"
   ]
  },
  {
   "cell_type": "code",
   "execution_count": 417,
   "metadata": {
    "scrolled": true
   },
   "outputs": [],
   "source": [
    "responses.drop(0, axis=0, inplace=True) # Martim (pre-test)"
   ]
  },
  {
   "cell_type": "code",
   "execution_count": 418,
   "metadata": {},
   "outputs": [],
   "source": [
    "# perhaps I should remove the timestamp in order to find duplicates\n",
    "responses.drop('Timestamp', axis=1, inplace=True)"
   ]
  },
  {
   "cell_type": "code",
   "execution_count": 419,
   "metadata": {},
   "outputs": [],
   "source": [
    "data = responses.drop_duplicates(ignore_index=True)"
   ]
  },
  {
   "cell_type": "code",
   "execution_count": 420,
   "metadata": {},
   "outputs": [
    {
     "data": {
      "text/plain": [
       "(52, 29)"
      ]
     },
     "execution_count": 420,
     "metadata": {},
     "output_type": "execute_result"
    }
   ],
   "source": [
    "data.shape"
   ]
  },
  {
   "cell_type": "code",
   "execution_count": 421,
   "metadata": {},
   "outputs": [],
   "source": [
    "data.reset_index(inplace=True)"
   ]
  },
  {
   "cell_type": "code",
   "execution_count": 422,
   "metadata": {},
   "outputs": [
    {
     "name": "stderr",
     "output_type": "stream",
     "text": [
      "/opt/anaconda3/lib/python3.7/site-packages/pandas/core/frame.py:4133: SettingWithCopyWarning: \n",
      "A value is trying to be set on a copy of a slice from a DataFrame\n",
      "\n",
      "See the caveats in the documentation: https://pandas.pydata.org/pandas-docs/stable/user_guide/indexing.html#returning-a-view-versus-a-copy\n",
      "  errors=errors,\n"
     ]
    }
   ],
   "source": [
    "data.rename(columns={'index' : 'respondent_id'}, inplace=True)"
   ]
  },
  {
   "cell_type": "code",
   "execution_count": 423,
   "metadata": {},
   "outputs": [
    {
     "name": "stderr",
     "output_type": "stream",
     "text": [
      "/opt/anaconda3/lib/python3.7/site-packages/ipykernel_launcher.py:1: SettingWithCopyWarning: \n",
      "A value is trying to be set on a copy of a slice from a DataFrame.\n",
      "Try using .loc[row_indexer,col_indexer] = value instead\n",
      "\n",
      "See the caveats in the documentation: https://pandas.pydata.org/pandas-docs/stable/user_guide/indexing.html#returning-a-view-versus-a-copy\n",
      "  \"\"\"Entry point for launching an IPython kernel.\n"
     ]
    }
   ],
   "source": [
    "\n",
    "data['respondent_id'] = np.arange(1,53)"
   ]
  },
  {
   "cell_type": "code",
   "execution_count": 424,
   "metadata": {},
   "outputs": [
    {
     "data": {
      "text/html": [
       "<div>\n",
       "<style scoped>\n",
       "    .dataframe tbody tr th:only-of-type {\n",
       "        vertical-align: middle;\n",
       "    }\n",
       "\n",
       "    .dataframe tbody tr th {\n",
       "        vertical-align: top;\n",
       "    }\n",
       "\n",
       "    .dataframe thead th {\n",
       "        text-align: right;\n",
       "    }\n",
       "</style>\n",
       "<table border=\"1\" class=\"dataframe\">\n",
       "  <thead>\n",
       "    <tr style=\"text-align: right;\">\n",
       "      <th></th>\n",
       "      <th>respondent_id</th>\n",
       "      <th>COV_threat_personal</th>\n",
       "      <th>COV_threat_others</th>\n",
       "      <th>adherence_recom</th>\n",
       "      <th>more_time_hobbies_LD</th>\n",
       "      <th>more_time_TV_LD</th>\n",
       "      <th>more_time_internet_LD</th>\n",
       "      <th>avg_sleep_preCOV</th>\n",
       "      <th>avg_sleep_postCOV</th>\n",
       "      <th>avg_cig_preCOV</th>\n",
       "      <th>...</th>\n",
       "      <th>work_reduced_LD</th>\n",
       "      <th>loss_income</th>\n",
       "      <th>loss_income_%</th>\n",
       "      <th>Gender</th>\n",
       "      <th>Age</th>\n",
       "      <th>City of residence</th>\n",
       "      <th>Marital status</th>\n",
       "      <th>number_children</th>\n",
       "      <th>Profession</th>\n",
       "      <th>comments</th>\n",
       "    </tr>\n",
       "  </thead>\n",
       "  <tbody>\n",
       "    <tr>\n",
       "      <th>0</th>\n",
       "      <td>1</td>\n",
       "      <td>3</td>\n",
       "      <td>4</td>\n",
       "      <td>4</td>\n",
       "      <td>2</td>\n",
       "      <td>3</td>\n",
       "      <td>4</td>\n",
       "      <td>7</td>\n",
       "      <td>8</td>\n",
       "      <td>0</td>\n",
       "      <td>...</td>\n",
       "      <td>No</td>\n",
       "      <td>No</td>\n",
       "      <td>NaN</td>\n",
       "      <td>Male</td>\n",
       "      <td>30</td>\n",
       "      <td>Lisboa</td>\n",
       "      <td>Single</td>\n",
       "      <td>0</td>\n",
       "      <td>Grad Student</td>\n",
       "      <td>Additional comments are undervalued</td>\n",
       "    </tr>\n",
       "    <tr>\n",
       "      <th>1</th>\n",
       "      <td>2</td>\n",
       "      <td>4</td>\n",
       "      <td>4</td>\n",
       "      <td>3</td>\n",
       "      <td>2</td>\n",
       "      <td>3</td>\n",
       "      <td>4</td>\n",
       "      <td>8</td>\n",
       "      <td>6</td>\n",
       "      <td>0</td>\n",
       "      <td>...</td>\n",
       "      <td>No</td>\n",
       "      <td>No</td>\n",
       "      <td>NaN</td>\n",
       "      <td>Female</td>\n",
       "      <td>28</td>\n",
       "      <td>Lisboa</td>\n",
       "      <td>Single</td>\n",
       "      <td>0</td>\n",
       "      <td>Art gallery assistant</td>\n",
       "      <td>NaN</td>\n",
       "    </tr>\n",
       "    <tr>\n",
       "      <th>2</th>\n",
       "      <td>3</td>\n",
       "      <td>4</td>\n",
       "      <td>4</td>\n",
       "      <td>3</td>\n",
       "      <td>4</td>\n",
       "      <td>4</td>\n",
       "      <td>4</td>\n",
       "      <td>7</td>\n",
       "      <td>8</td>\n",
       "      <td>0</td>\n",
       "      <td>...</td>\n",
       "      <td>No</td>\n",
       "      <td>Yes</td>\n",
       "      <td>NaN</td>\n",
       "      <td>Female</td>\n",
       "      <td>28</td>\n",
       "      <td>Lisbon</td>\n",
       "      <td>In a civil union</td>\n",
       "      <td>0</td>\n",
       "      <td>Researcher</td>\n",
       "      <td>NaN</td>\n",
       "    </tr>\n",
       "    <tr>\n",
       "      <th>3</th>\n",
       "      <td>4</td>\n",
       "      <td>3</td>\n",
       "      <td>4</td>\n",
       "      <td>4</td>\n",
       "      <td>4</td>\n",
       "      <td>2</td>\n",
       "      <td>2</td>\n",
       "      <td>8</td>\n",
       "      <td>8</td>\n",
       "      <td>0</td>\n",
       "      <td>...</td>\n",
       "      <td>Yes</td>\n",
       "      <td>No</td>\n",
       "      <td>NaN</td>\n",
       "      <td>Female</td>\n",
       "      <td>33</td>\n",
       "      <td>Lisboa</td>\n",
       "      <td>Single</td>\n",
       "      <td>0</td>\n",
       "      <td>Conservator- restorer</td>\n",
       "      <td>NaN</td>\n",
       "    </tr>\n",
       "    <tr>\n",
       "      <th>4</th>\n",
       "      <td>5</td>\n",
       "      <td>4</td>\n",
       "      <td>4</td>\n",
       "      <td>4</td>\n",
       "      <td>3</td>\n",
       "      <td>2</td>\n",
       "      <td>3</td>\n",
       "      <td>8</td>\n",
       "      <td>8</td>\n",
       "      <td>0</td>\n",
       "      <td>...</td>\n",
       "      <td>Yes</td>\n",
       "      <td>No</td>\n",
       "      <td>NaN</td>\n",
       "      <td>Female</td>\n",
       "      <td>34</td>\n",
       "      <td>Lisboa</td>\n",
       "      <td>In a civil union</td>\n",
       "      <td>0</td>\n",
       "      <td>Investigadora</td>\n",
       "      <td>NaN</td>\n",
       "    </tr>\n",
       "  </tbody>\n",
       "</table>\n",
       "<p>5 rows × 30 columns</p>\n",
       "</div>"
      ],
      "text/plain": [
       "   respondent_id  COV_threat_personal  COV_threat_others  adherence_recom  \\\n",
       "0              1                    3                  4                4   \n",
       "1              2                    4                  4                3   \n",
       "2              3                    4                  4                3   \n",
       "3              4                    3                  4                4   \n",
       "4              5                    4                  4                4   \n",
       "\n",
       "   more_time_hobbies_LD  more_time_TV_LD  more_time_internet_LD  \\\n",
       "0                     2                3                      4   \n",
       "1                     2                3                      4   \n",
       "2                     4                4                      4   \n",
       "3                     4                2                      2   \n",
       "4                     3                2                      3   \n",
       "\n",
       "   avg_sleep_preCOV  avg_sleep_postCOV  avg_cig_preCOV  ...  work_reduced_LD  \\\n",
       "0                 7                  8               0  ...               No   \n",
       "1                 8                  6               0  ...               No   \n",
       "2                 7                  8               0  ...               No   \n",
       "3                 8                  8               0  ...              Yes   \n",
       "4                 8                  8               0  ...              Yes   \n",
       "\n",
       "   loss_income  loss_income_%  Gender  Age City of residence  \\\n",
       "0           No            NaN    Male   30            Lisboa   \n",
       "1           No            NaN  Female   28            Lisboa   \n",
       "2          Yes            NaN  Female   28            Lisbon   \n",
       "3           No            NaN  Female   33            Lisboa   \n",
       "4           No            NaN  Female   34           Lisboa    \n",
       "\n",
       "     Marital status  number_children             Profession  \\\n",
       "0            Single                0           Grad Student   \n",
       "1            Single                0  Art gallery assistant   \n",
       "2  In a civil union                0             Researcher   \n",
       "3            Single                0  Conservator- restorer   \n",
       "4  In a civil union                0          Investigadora   \n",
       "\n",
       "                              comments  \n",
       "0  Additional comments are undervalued  \n",
       "1                                  NaN  \n",
       "2                                  NaN  \n",
       "3                                  NaN  \n",
       "4                                  NaN  \n",
       "\n",
       "[5 rows x 30 columns]"
      ]
     },
     "execution_count": 424,
     "metadata": {},
     "output_type": "execute_result"
    }
   ],
   "source": [
    "data.head()"
   ]
  },
  {
   "cell_type": "code",
   "execution_count": 425,
   "metadata": {},
   "outputs": [
    {
     "name": "stderr",
     "output_type": "stream",
     "text": [
      "/opt/anaconda3/lib/python3.7/site-packages/ipykernel_launcher.py:1: SettingWithCopyWarning: \n",
      "A value is trying to be set on a copy of a slice from a DataFrame.\n",
      "Try using .loc[row_indexer,col_indexer] = value instead\n",
      "\n",
      "See the caveats in the documentation: https://pandas.pydata.org/pandas-docs/stable/user_guide/indexing.html#returning-a-view-versus-a-copy\n",
      "  \"\"\"Entry point for launching an IPython kernel.\n"
     ]
    }
   ],
   "source": [
    "data['respondent_id'] = data['respondent_id'].astype(str)"
   ]
  },
  {
   "cell_type": "code",
   "execution_count": 426,
   "metadata": {},
   "outputs": [
    {
     "data": {
      "text/plain": [
       "dtype('O')"
      ]
     },
     "execution_count": 426,
     "metadata": {},
     "output_type": "execute_result"
    }
   ],
   "source": [
    "data['respondent_id'].dtype"
   ]
  },
  {
   "cell_type": "code",
   "execution_count": 427,
   "metadata": {},
   "outputs": [
    {
     "data": {
      "text/plain": [
       "array([ nan, 30. ,  0.2,  0.3,  0.4,  0. ,  0.1,  0.7,  1. ])"
      ]
     },
     "execution_count": 427,
     "metadata": {},
     "output_type": "execute_result"
    }
   ],
   "source": [
    "data['loss_income_%'].unique()"
   ]
  },
  {
   "cell_type": "code",
   "execution_count": 428,
   "metadata": {},
   "outputs": [
    {
     "name": "stdout",
     "output_type": "stream",
     "text": [
      "[0.  0.3 0.2 0.4 0.1 0.7 1. ]\n",
      "float64\n"
     ]
    },
    {
     "name": "stderr",
     "output_type": "stream",
     "text": [
      "/opt/anaconda3/lib/python3.7/site-packages/pandas/core/generic.py:6245: SettingWithCopyWarning: \n",
      "A value is trying to be set on a copy of a slice from a DataFrame\n",
      "\n",
      "See the caveats in the documentation: https://pandas.pydata.org/pandas-docs/stable/user_guide/indexing.html#returning-a-view-versus-a-copy\n",
      "  self._update_inplace(new_data)\n",
      "/opt/anaconda3/lib/python3.7/site-packages/pandas/core/generic.py:6746: SettingWithCopyWarning: \n",
      "A value is trying to be set on a copy of a slice from a DataFrame\n",
      "\n",
      "See the caveats in the documentation: https://pandas.pydata.org/pandas-docs/stable/user_guide/indexing.html#returning-a-view-versus-a-copy\n",
      "  self._update_inplace(new_data)\n"
     ]
    }
   ],
   "source": [
    "data['loss_income_%'].fillna(0, inplace=True)\n",
    "data['loss_income_%'].replace(to_replace=30, value=0.3, inplace=True)\n",
    "print(data['loss_income_%'].unique())\n",
    "print(data['loss_income_%'].dtype)"
   ]
  },
  {
   "cell_type": "code",
   "execution_count": 429,
   "metadata": {},
   "outputs": [],
   "source": [
    "data['comments'].fillna('No comments', inplace=True)"
   ]
  },
  {
   "cell_type": "code",
   "execution_count": 430,
   "metadata": {},
   "outputs": [
    {
     "data": {
      "text/plain": [
       "array(['Lisboa', 'Lisbon', 'Lisboa ', 'Sintra', 'Sabadell', 'Barcelona',\n",
       "       'Portugal', 'Brussels', 'Porto Salvo', 'Lisbon / Oeiras',\n",
       "       'Torres Vedras', 'Madrid', 'Madrid ', 'Setúbal', 'Pt', 'Berlin',\n",
       "       'Ls Rozas', 'Odivelas ', 'Aveiro'], dtype=object)"
      ]
     },
     "execution_count": 430,
     "metadata": {},
     "output_type": "execute_result"
    }
   ],
   "source": [
    "data['City of residence'].unique()"
   ]
  },
  {
   "cell_type": "code",
   "execution_count": 431,
   "metadata": {},
   "outputs": [],
   "source": [
    "#data['City of residence'].replace(to_replace=['Lisboa ', 'Lisboa'], value='Lisbon', inplace=True)\n",
    "#data['City of residence'].replace(to_replace='Sabadell', value='Barcelona', inplace=True)\n",
    "\n",
    "data['City of residence'].replace(to_replace=['Barcelona', 'Madrid ', 'Ls Rozas', 'Sabadell', 'Madrid'], value='Spain', inplace=True)\n",
    "data['City of residence'].replace(to_replace=['Torres Vedras', 'Lisbon', 'Lisboa', 'Lisboa ', 'Lisbon / Oeiras', 'Sintra', 'Odivelas ', 'Porto Salvo', 'Aveiro', 'Setúbal', 'Pt'], value='Portugal', inplace=True)\n",
    "data['City of residence'].replace(to_replace='Brussels', value='Belgium', inplace=True)\n",
    "data['City of residence'].replace(to_replace='Berlin', value='Germany', inplace=True)\n"
   ]
  },
  {
   "cell_type": "code",
   "execution_count": 432,
   "metadata": {},
   "outputs": [
    {
     "data": {
      "text/plain": [
       "array(['Portugal', 'Spain', 'Belgium', 'Germany'], dtype=object)"
      ]
     },
     "execution_count": 432,
     "metadata": {},
     "output_type": "execute_result"
    }
   ],
   "source": [
    "data['City of residence'].unique()"
   ]
  },
  {
   "cell_type": "code",
   "execution_count": 433,
   "metadata": {},
   "outputs": [
    {
     "name": "stderr",
     "output_type": "stream",
     "text": [
      "/opt/anaconda3/lib/python3.7/site-packages/pandas/core/frame.py:4133: SettingWithCopyWarning: \n",
      "A value is trying to be set on a copy of a slice from a DataFrame\n",
      "\n",
      "See the caveats in the documentation: https://pandas.pydata.org/pandas-docs/stable/user_guide/indexing.html#returning-a-view-versus-a-copy\n",
      "  errors=errors,\n"
     ]
    }
   ],
   "source": [
    "data.rename(columns={'City of residence' : 'Country'}, inplace=True)\n"
   ]
  },
  {
   "cell_type": "code",
   "execution_count": 434,
   "metadata": {},
   "outputs": [
    {
     "name": "stderr",
     "output_type": "stream",
     "text": [
      "/opt/anaconda3/lib/python3.7/site-packages/ipykernel_launcher.py:3: SettingWithCopyWarning: \n",
      "A value is trying to be set on a copy of a slice from a DataFrame.\n",
      "Try using .loc[row_indexer,col_indexer] = value instead\n",
      "\n",
      "See the caveats in the documentation: https://pandas.pydata.org/pandas-docs/stable/user_guide/indexing.html#returning-a-view-versus-a-copy\n",
      "  This is separate from the ipykernel package so we can avoid doing imports until\n"
     ]
    }
   ],
   "source": [
    "# New column categorizing people as parents or not parents\n",
    "\n",
    "data['Children'] = np.where(data['number_children'] == 0, 'No', 'Yes')\n"
   ]
  },
  {
   "cell_type": "markdown",
   "metadata": {},
   "source": [
    "# Save cleaned data to excel"
   ]
  },
  {
   "cell_type": "code",
   "execution_count": 435,
   "metadata": {},
   "outputs": [],
   "source": [
    "data.to_excel('data.xlsx')"
   ]
  },
  {
   "cell_type": "markdown",
   "metadata": {},
   "source": [
    "# Explore data"
   ]
  },
  {
   "cell_type": "code",
   "execution_count": 436,
   "metadata": {},
   "outputs": [
    {
     "data": {
      "text/plain": [
       "respondent_id             object\n",
       "COV_threat_personal        int64\n",
       "COV_threat_others          int64\n",
       "adherence_recom            int64\n",
       "more_time_hobbies_LD       int64\n",
       "more_time_TV_LD            int64\n",
       "more_time_internet_LD      int64\n",
       "avg_sleep_preCOV           int64\n",
       "avg_sleep_postCOV          int64\n",
       "avg_cig_preCOV             int64\n",
       "avg_cig_postCOV            int64\n",
       "avg_phy-act_preCOV         int64\n",
       "avg_phy-act_postCOV        int64\n",
       "avg_hobbies_preCOV         int64\n",
       "avg_hobbies_postCOV        int64\n",
       "avg_commute_preCOV        object\n",
       "avg_commute_postCOV       object\n",
       "avg_work_preCOV            int64\n",
       "avg_work_postCOV           int64\n",
       "work_remote_LD            object\n",
       "work_reduced_LD           object\n",
       "loss_income               object\n",
       "loss_income_%            float64\n",
       "Gender                    object\n",
       "Age                        int64\n",
       "Country                   object\n",
       "Marital status            object\n",
       "number_children            int64\n",
       "Profession                object\n",
       "comments                  object\n",
       "Children                  object\n",
       "dtype: object"
      ]
     },
     "execution_count": 436,
     "metadata": {},
     "output_type": "execute_result"
    }
   ],
   "source": [
    "data.dtypes"
   ]
  },
  {
   "cell_type": "code",
   "execution_count": 437,
   "metadata": {},
   "outputs": [
    {
     "data": {
      "text/html": [
       "<div>\n",
       "<style scoped>\n",
       "    .dataframe tbody tr th:only-of-type {\n",
       "        vertical-align: middle;\n",
       "    }\n",
       "\n",
       "    .dataframe tbody tr th {\n",
       "        vertical-align: top;\n",
       "    }\n",
       "\n",
       "    .dataframe thead th {\n",
       "        text-align: right;\n",
       "    }\n",
       "</style>\n",
       "<table border=\"1\" class=\"dataframe\">\n",
       "  <thead>\n",
       "    <tr style=\"text-align: right;\">\n",
       "      <th></th>\n",
       "      <th>COV_threat_personal</th>\n",
       "      <th>COV_threat_others</th>\n",
       "      <th>adherence_recom</th>\n",
       "      <th>more_time_hobbies_LD</th>\n",
       "      <th>more_time_TV_LD</th>\n",
       "      <th>more_time_internet_LD</th>\n",
       "      <th>avg_sleep_preCOV</th>\n",
       "      <th>avg_sleep_postCOV</th>\n",
       "      <th>avg_cig_preCOV</th>\n",
       "      <th>avg_cig_postCOV</th>\n",
       "      <th>avg_phy-act_preCOV</th>\n",
       "      <th>avg_phy-act_postCOV</th>\n",
       "      <th>avg_hobbies_preCOV</th>\n",
       "      <th>avg_hobbies_postCOV</th>\n",
       "      <th>avg_work_preCOV</th>\n",
       "      <th>avg_work_postCOV</th>\n",
       "      <th>loss_income_%</th>\n",
       "      <th>Age</th>\n",
       "      <th>number_children</th>\n",
       "    </tr>\n",
       "  </thead>\n",
       "  <tbody>\n",
       "    <tr>\n",
       "      <th>count</th>\n",
       "      <td>52.000000</td>\n",
       "      <td>52.000000</td>\n",
       "      <td>52.000000</td>\n",
       "      <td>52.000000</td>\n",
       "      <td>52.000000</td>\n",
       "      <td>52.000000</td>\n",
       "      <td>52.000000</td>\n",
       "      <td>52.000000</td>\n",
       "      <td>52.000000</td>\n",
       "      <td>52.000000</td>\n",
       "      <td>52.000000</td>\n",
       "      <td>52.000000</td>\n",
       "      <td>52.000000</td>\n",
       "      <td>52.000000</td>\n",
       "      <td>52.000000</td>\n",
       "      <td>52.000000</td>\n",
       "      <td>52.000000</td>\n",
       "      <td>52.000000</td>\n",
       "      <td>52.000000</td>\n",
       "    </tr>\n",
       "    <tr>\n",
       "      <th>mean</th>\n",
       "      <td>2.826923</td>\n",
       "      <td>3.384615</td>\n",
       "      <td>3.096154</td>\n",
       "      <td>2.750000</td>\n",
       "      <td>2.326923</td>\n",
       "      <td>2.942308</td>\n",
       "      <td>7.134615</td>\n",
       "      <td>7.269231</td>\n",
       "      <td>0.788462</td>\n",
       "      <td>0.961538</td>\n",
       "      <td>2.807692</td>\n",
       "      <td>2.711538</td>\n",
       "      <td>3.980769</td>\n",
       "      <td>4.653846</td>\n",
       "      <td>6.826923</td>\n",
       "      <td>6.961538</td>\n",
       "      <td>0.057692</td>\n",
       "      <td>34.923077</td>\n",
       "      <td>0.230769</td>\n",
       "    </tr>\n",
       "    <tr>\n",
       "      <th>std</th>\n",
       "      <td>0.984610</td>\n",
       "      <td>0.889015</td>\n",
       "      <td>0.822708</td>\n",
       "      <td>1.026607</td>\n",
       "      <td>1.004327</td>\n",
       "      <td>1.017753</td>\n",
       "      <td>1.252900</td>\n",
       "      <td>1.285140</td>\n",
       "      <td>2.569325</td>\n",
       "      <td>3.112036</td>\n",
       "      <td>2.551727</td>\n",
       "      <td>2.659327</td>\n",
       "      <td>2.445407</td>\n",
       "      <td>2.902903</td>\n",
       "      <td>2.805605</td>\n",
       "      <td>2.963580</td>\n",
       "      <td>0.182946</td>\n",
       "      <td>12.153989</td>\n",
       "      <td>0.614063</td>\n",
       "    </tr>\n",
       "    <tr>\n",
       "      <th>min</th>\n",
       "      <td>1.000000</td>\n",
       "      <td>1.000000</td>\n",
       "      <td>1.000000</td>\n",
       "      <td>1.000000</td>\n",
       "      <td>1.000000</td>\n",
       "      <td>1.000000</td>\n",
       "      <td>2.000000</td>\n",
       "      <td>2.000000</td>\n",
       "      <td>0.000000</td>\n",
       "      <td>0.000000</td>\n",
       "      <td>0.000000</td>\n",
       "      <td>0.000000</td>\n",
       "      <td>0.000000</td>\n",
       "      <td>0.000000</td>\n",
       "      <td>0.000000</td>\n",
       "      <td>0.000000</td>\n",
       "      <td>0.000000</td>\n",
       "      <td>18.000000</td>\n",
       "      <td>0.000000</td>\n",
       "    </tr>\n",
       "    <tr>\n",
       "      <th>25%</th>\n",
       "      <td>2.000000</td>\n",
       "      <td>3.000000</td>\n",
       "      <td>3.000000</td>\n",
       "      <td>2.000000</td>\n",
       "      <td>1.750000</td>\n",
       "      <td>2.000000</td>\n",
       "      <td>7.000000</td>\n",
       "      <td>7.000000</td>\n",
       "      <td>0.000000</td>\n",
       "      <td>0.000000</td>\n",
       "      <td>1.000000</td>\n",
       "      <td>0.750000</td>\n",
       "      <td>2.000000</td>\n",
       "      <td>2.000000</td>\n",
       "      <td>6.000000</td>\n",
       "      <td>6.000000</td>\n",
       "      <td>0.000000</td>\n",
       "      <td>28.000000</td>\n",
       "      <td>0.000000</td>\n",
       "    </tr>\n",
       "    <tr>\n",
       "      <th>50%</th>\n",
       "      <td>3.000000</td>\n",
       "      <td>4.000000</td>\n",
       "      <td>3.000000</td>\n",
       "      <td>3.000000</td>\n",
       "      <td>2.000000</td>\n",
       "      <td>3.000000</td>\n",
       "      <td>7.000000</td>\n",
       "      <td>8.000000</td>\n",
       "      <td>0.000000</td>\n",
       "      <td>0.000000</td>\n",
       "      <td>2.000000</td>\n",
       "      <td>2.000000</td>\n",
       "      <td>4.000000</td>\n",
       "      <td>5.000000</td>\n",
       "      <td>8.000000</td>\n",
       "      <td>8.000000</td>\n",
       "      <td>0.000000</td>\n",
       "      <td>32.000000</td>\n",
       "      <td>0.000000</td>\n",
       "    </tr>\n",
       "    <tr>\n",
       "      <th>75%</th>\n",
       "      <td>4.000000</td>\n",
       "      <td>4.000000</td>\n",
       "      <td>4.000000</td>\n",
       "      <td>4.000000</td>\n",
       "      <td>3.000000</td>\n",
       "      <td>4.000000</td>\n",
       "      <td>8.000000</td>\n",
       "      <td>8.000000</td>\n",
       "      <td>0.000000</td>\n",
       "      <td>0.000000</td>\n",
       "      <td>4.000000</td>\n",
       "      <td>4.000000</td>\n",
       "      <td>5.000000</td>\n",
       "      <td>7.000000</td>\n",
       "      <td>8.250000</td>\n",
       "      <td>9.000000</td>\n",
       "      <td>0.000000</td>\n",
       "      <td>35.000000</td>\n",
       "      <td>0.000000</td>\n",
       "    </tr>\n",
       "    <tr>\n",
       "      <th>max</th>\n",
       "      <td>4.000000</td>\n",
       "      <td>4.000000</td>\n",
       "      <td>4.000000</td>\n",
       "      <td>4.000000</td>\n",
       "      <td>4.000000</td>\n",
       "      <td>4.000000</td>\n",
       "      <td>10.000000</td>\n",
       "      <td>9.000000</td>\n",
       "      <td>13.000000</td>\n",
       "      <td>17.000000</td>\n",
       "      <td>10.000000</td>\n",
       "      <td>10.000000</td>\n",
       "      <td>10.000000</td>\n",
       "      <td>10.000000</td>\n",
       "      <td>10.000000</td>\n",
       "      <td>10.000000</td>\n",
       "      <td>1.000000</td>\n",
       "      <td>81.000000</td>\n",
       "      <td>2.000000</td>\n",
       "    </tr>\n",
       "  </tbody>\n",
       "</table>\n",
       "</div>"
      ],
      "text/plain": [
       "       COV_threat_personal  COV_threat_others  adherence_recom  \\\n",
       "count            52.000000          52.000000        52.000000   \n",
       "mean              2.826923           3.384615         3.096154   \n",
       "std               0.984610           0.889015         0.822708   \n",
       "min               1.000000           1.000000         1.000000   \n",
       "25%               2.000000           3.000000         3.000000   \n",
       "50%               3.000000           4.000000         3.000000   \n",
       "75%               4.000000           4.000000         4.000000   \n",
       "max               4.000000           4.000000         4.000000   \n",
       "\n",
       "       more_time_hobbies_LD  more_time_TV_LD  more_time_internet_LD  \\\n",
       "count             52.000000        52.000000              52.000000   \n",
       "mean               2.750000         2.326923               2.942308   \n",
       "std                1.026607         1.004327               1.017753   \n",
       "min                1.000000         1.000000               1.000000   \n",
       "25%                2.000000         1.750000               2.000000   \n",
       "50%                3.000000         2.000000               3.000000   \n",
       "75%                4.000000         3.000000               4.000000   \n",
       "max                4.000000         4.000000               4.000000   \n",
       "\n",
       "       avg_sleep_preCOV  avg_sleep_postCOV  avg_cig_preCOV  avg_cig_postCOV  \\\n",
       "count         52.000000          52.000000       52.000000        52.000000   \n",
       "mean           7.134615           7.269231        0.788462         0.961538   \n",
       "std            1.252900           1.285140        2.569325         3.112036   \n",
       "min            2.000000           2.000000        0.000000         0.000000   \n",
       "25%            7.000000           7.000000        0.000000         0.000000   \n",
       "50%            7.000000           8.000000        0.000000         0.000000   \n",
       "75%            8.000000           8.000000        0.000000         0.000000   \n",
       "max           10.000000           9.000000       13.000000        17.000000   \n",
       "\n",
       "       avg_phy-act_preCOV  avg_phy-act_postCOV  avg_hobbies_preCOV  \\\n",
       "count           52.000000            52.000000           52.000000   \n",
       "mean             2.807692             2.711538            3.980769   \n",
       "std              2.551727             2.659327            2.445407   \n",
       "min              0.000000             0.000000            0.000000   \n",
       "25%              1.000000             0.750000            2.000000   \n",
       "50%              2.000000             2.000000            4.000000   \n",
       "75%              4.000000             4.000000            5.000000   \n",
       "max             10.000000            10.000000           10.000000   \n",
       "\n",
       "       avg_hobbies_postCOV  avg_work_preCOV  avg_work_postCOV  loss_income_%  \\\n",
       "count            52.000000        52.000000         52.000000      52.000000   \n",
       "mean              4.653846         6.826923          6.961538       0.057692   \n",
       "std               2.902903         2.805605          2.963580       0.182946   \n",
       "min               0.000000         0.000000          0.000000       0.000000   \n",
       "25%               2.000000         6.000000          6.000000       0.000000   \n",
       "50%               5.000000         8.000000          8.000000       0.000000   \n",
       "75%               7.000000         8.250000          9.000000       0.000000   \n",
       "max              10.000000        10.000000         10.000000       1.000000   \n",
       "\n",
       "             Age  number_children  \n",
       "count  52.000000        52.000000  \n",
       "mean   34.923077         0.230769  \n",
       "std    12.153989         0.614063  \n",
       "min    18.000000         0.000000  \n",
       "25%    28.000000         0.000000  \n",
       "50%    32.000000         0.000000  \n",
       "75%    35.000000         0.000000  \n",
       "max    81.000000         2.000000  "
      ]
     },
     "execution_count": 437,
     "metadata": {},
     "output_type": "execute_result"
    }
   ],
   "source": [
    "data.describe()"
   ]
  },
  {
   "cell_type": "code",
   "execution_count": 438,
   "metadata": {},
   "outputs": [
    {
     "name": "stdout",
     "output_type": "stream",
     "text": [
      "<class 'pandas.core.frame.DataFrame'>\n",
      "RangeIndex: 52 entries, 0 to 51\n",
      "Data columns (total 31 columns):\n",
      " #   Column                 Non-Null Count  Dtype  \n",
      "---  ------                 --------------  -----  \n",
      " 0   respondent_id          52 non-null     object \n",
      " 1   COV_threat_personal    52 non-null     int64  \n",
      " 2   COV_threat_others      52 non-null     int64  \n",
      " 3   adherence_recom        52 non-null     int64  \n",
      " 4   more_time_hobbies_LD   52 non-null     int64  \n",
      " 5   more_time_TV_LD        52 non-null     int64  \n",
      " 6   more_time_internet_LD  52 non-null     int64  \n",
      " 7   avg_sleep_preCOV       52 non-null     int64  \n",
      " 8   avg_sleep_postCOV      52 non-null     int64  \n",
      " 9   avg_cig_preCOV         52 non-null     int64  \n",
      " 10  avg_cig_postCOV        52 non-null     int64  \n",
      " 11  avg_phy-act_preCOV     52 non-null     int64  \n",
      " 12  avg_phy-act_postCOV    52 non-null     int64  \n",
      " 13  avg_hobbies_preCOV     52 non-null     int64  \n",
      " 14  avg_hobbies_postCOV    52 non-null     int64  \n",
      " 15  avg_commute_preCOV     52 non-null     object \n",
      " 16  avg_commute_postCOV    52 non-null     object \n",
      " 17  avg_work_preCOV        52 non-null     int64  \n",
      " 18  avg_work_postCOV       52 non-null     int64  \n",
      " 19  work_remote_LD         52 non-null     object \n",
      " 20  work_reduced_LD        52 non-null     object \n",
      " 21  loss_income            52 non-null     object \n",
      " 22  loss_income_%          52 non-null     float64\n",
      " 23  Gender                 52 non-null     object \n",
      " 24  Age                    52 non-null     int64  \n",
      " 25  Country                52 non-null     object \n",
      " 26  Marital status         52 non-null     object \n",
      " 27  number_children        52 non-null     int64  \n",
      " 28  Profession             52 non-null     object \n",
      " 29  comments               52 non-null     object \n",
      " 30  Children               52 non-null     object \n",
      "dtypes: float64(1), int64(18), object(12)\n",
      "memory usage: 12.7+ KB\n"
     ]
    }
   ],
   "source": [
    "data.info()"
   ]
  },
  {
   "cell_type": "code",
   "execution_count": 439,
   "metadata": {},
   "outputs": [
    {
     "data": {
      "text/plain": [
       "respondent_id            0\n",
       "COV_threat_personal      0\n",
       "COV_threat_others        0\n",
       "adherence_recom          0\n",
       "more_time_hobbies_LD     0\n",
       "more_time_TV_LD          0\n",
       "more_time_internet_LD    0\n",
       "avg_sleep_preCOV         0\n",
       "avg_sleep_postCOV        0\n",
       "avg_cig_preCOV           0\n",
       "avg_cig_postCOV          0\n",
       "avg_phy-act_preCOV       0\n",
       "avg_phy-act_postCOV      0\n",
       "avg_hobbies_preCOV       0\n",
       "avg_hobbies_postCOV      0\n",
       "avg_commute_preCOV       0\n",
       "avg_commute_postCOV      0\n",
       "avg_work_preCOV          0\n",
       "avg_work_postCOV         0\n",
       "work_remote_LD           0\n",
       "work_reduced_LD          0\n",
       "loss_income              0\n",
       "loss_income_%            0\n",
       "Gender                   0\n",
       "Age                      0\n",
       "Country                  0\n",
       "Marital status           0\n",
       "number_children          0\n",
       "Profession               0\n",
       "comments                 0\n",
       "Children                 0\n",
       "dtype: int64"
      ]
     },
     "execution_count": 439,
     "metadata": {},
     "output_type": "execute_result"
    }
   ],
   "source": [
    "data.isnull().sum()"
   ]
  },
  {
   "cell_type": "markdown",
   "metadata": {},
   "source": [
    "# Descriptive statistics"
   ]
  },
  {
   "cell_type": "code",
   "execution_count": 440,
   "metadata": {},
   "outputs": [
    {
     "data": {
      "text/plain": [
       "respondent_id            2.374169e+92\n",
       "COV_threat_personal      2.826923e+00\n",
       "COV_threat_others        3.384615e+00\n",
       "adherence_recom          3.096154e+00\n",
       "more_time_hobbies_LD     2.750000e+00\n",
       "more_time_TV_LD          2.326923e+00\n",
       "more_time_internet_LD    2.942308e+00\n",
       "avg_sleep_preCOV         7.134615e+00\n",
       "avg_sleep_postCOV        7.269231e+00\n",
       "avg_cig_preCOV           7.884615e-01\n",
       "avg_cig_postCOV          9.615385e-01\n",
       "avg_phy-act_preCOV       2.807692e+00\n",
       "avg_phy-act_postCOV      2.711538e+00\n",
       "avg_hobbies_preCOV       3.980769e+00\n",
       "avg_hobbies_postCOV      4.653846e+00\n",
       "avg_work_preCOV          6.826923e+00\n",
       "avg_work_postCOV         6.961538e+00\n",
       "loss_income_%            5.769231e-02\n",
       "Age                      3.492308e+01\n",
       "number_children          2.307692e-01\n",
       "dtype: float64"
      ]
     },
     "execution_count": 440,
     "metadata": {},
     "output_type": "execute_result"
    }
   ],
   "source": [
    "data.mean()"
   ]
  },
  {
   "cell_type": "code",
   "execution_count": 441,
   "metadata": {},
   "outputs": [
    {
     "data": {
      "text/plain": [
       "COV_threat_personal       0.984610\n",
       "COV_threat_others         0.889015\n",
       "adherence_recom           0.822708\n",
       "more_time_hobbies_LD      1.026607\n",
       "more_time_TV_LD           1.004327\n",
       "more_time_internet_LD     1.017753\n",
       "avg_sleep_preCOV          1.252900\n",
       "avg_sleep_postCOV         1.285140\n",
       "avg_cig_preCOV            2.569325\n",
       "avg_cig_postCOV           3.112036\n",
       "avg_phy-act_preCOV        2.551727\n",
       "avg_phy-act_postCOV       2.659327\n",
       "avg_hobbies_preCOV        2.445407\n",
       "avg_hobbies_postCOV       2.902903\n",
       "avg_work_preCOV           2.805605\n",
       "avg_work_postCOV          2.963580\n",
       "loss_income_%             0.182946\n",
       "Age                      12.153989\n",
       "number_children           0.614063\n",
       "dtype: float64"
      ]
     },
     "execution_count": 441,
     "metadata": {},
     "output_type": "execute_result"
    }
   ],
   "source": [
    "data.std()"
   ]
  },
  {
   "cell_type": "markdown",
   "metadata": {},
   "source": [
    "# Descriptive statistics: plots"
   ]
  },
  {
   "cell_type": "code",
   "execution_count": 442,
   "metadata": {},
   "outputs": [
    {
     "data": {
      "image/png": "[encoded data removed]",
      "text/plain": [
       "<Figure size 432x288 with 1 Axes>"
      ]
     },
     "metadata": {},
     "output_type": "display_data"
    }
   ],
   "source": [
    "x = data['COV_threat_personal']\n",
    "\n",
    "sns.set(style=\"whitegrid\")\n",
    "\n",
    "ax = sns.boxplot(x)\n",
    "plt.show()"
   ]
  },
  {
   "cell_type": "code",
   "execution_count": 443,
   "metadata": {},
   "outputs": [
    {
     "data": {
      "image/png": "[encoded data removed]",
      "text/plain": [
       "<Figure size 432x288 with 1 Axes>"
      ]
     },
     "metadata": {},
     "output_type": "display_data"
    }
   ],
   "source": [
    "x = data['COV_threat_others']\n",
    "\n",
    "sns.set(style=\"whitegrid\")\n",
    "\n",
    "ax = sns.boxplot(x)\n",
    "plt.show()"
   ]
  },
  {
   "cell_type": "code",
   "execution_count": 446,
   "metadata": {},
   "outputs": [
    {
     "data": {
      "image/png": "[encoded data removed]",
      "text/plain": [
       "<Figure size 432x288 with 1 Axes>"
      ]
     },
     "metadata": {},
     "output_type": "display_data"
    }
   ],
   "source": [
    "x = data['adherence_recom']\n",
    "\n",
    "sns.set(style=\"whitegrid\")\n",
    "\n",
    "ax = sns.boxplot(x)\n",
    "plt.show()"
   ]
  },
  {
   "cell_type": "code",
   "execution_count": 447,
   "metadata": {},
   "outputs": [
    {
     "data": {
      "image/png": "[encoded data removed]",
      "text/plain": [
       "<Figure size 432x288 with 1 Axes>"
      ]
     },
     "metadata": {},
     "output_type": "display_data"
    }
   ],
   "source": [
    "x = data['adherence_recom']\n",
    "\n",
    "sns.set(style=None)\n",
    "\n",
    "ax = sns.distplot(x, bins=4)\n",
    "plt.show()"
   ]
  },
  {
   "cell_type": "code",
   "execution_count": 448,
   "metadata": {},
   "outputs": [
    {
     "data": {
      "image/png": "[encoded data removed]",
      "text/plain": [
       "<Figure size 432x288 with 1 Axes>"
      ]
     },
     "metadata": {},
     "output_type": "display_data"
    }
   ],
   "source": [
    "x = data['more_time_hobbies_LD']\n",
    "\n",
    "sns.set(style=\"whitegrid\")\n",
    "\n",
    "ax = sns.boxplot(x)\n",
    "plt.show()"
   ]
  },
  {
   "cell_type": "code",
   "execution_count": 449,
   "metadata": {},
   "outputs": [
    {
     "data": {
      "image/png": "[encoded data removed]",
      "text/plain": [
       "<Figure size 432x288 with 1 Axes>"
      ]
     },
     "metadata": {},
     "output_type": "display_data"
    }
   ],
   "source": [
    "x = data['more_time_hobbies_LD']\n",
    "\n",
    "sns.set(style=None)\n",
    "\n",
    "ax = sns.distplot(x, bins=4)\n",
    "plt.show()"
   ]
  },
  {
   "cell_type": "code",
   "execution_count": 450,
   "metadata": {},
   "outputs": [
    {
     "data": {
      "image/png": "[encoded data removed]",
      "text/plain": [
       "<Figure size 432x288 with 1 Axes>"
      ]
     },
     "metadata": {},
     "output_type": "display_data"
    }
   ],
   "source": [
    "x = data['more_time_internet_LD']\n",
    "\n",
    "sns.set(style=\"whitegrid\")\n",
    "\n",
    "ax = sns.boxplot(x)\n",
    "plt.show()"
   ]
  },
  {
   "cell_type": "code",
   "execution_count": 451,
   "metadata": {},
   "outputs": [
    {
     "data": {
      "image/png": "[encoded data removed]",
      "text/plain": [
       "<Figure size 432x288 with 1 Axes>"
      ]
     },
     "metadata": {},
     "output_type": "display_data"
    }
   ],
   "source": [
    "x = data['more_time_internet_LD']\n",
    "\n",
    "sns.set(style=None)\n",
    "\n",
    "ax = sns.distplot(x, bins=4)\n",
    "plt.show()"
   ]
  },
  {
   "cell_type": "code",
   "execution_count": 562,
   "metadata": {},
   "outputs": [
    {
     "data": {
      "image/png": "[encoded data removed]",
      "text/plain": [
       "<Figure size 432x288 with 1 Axes>"
      ]
     },
     "metadata": {},
     "output_type": "display_data"
    }
   ],
   "source": [
    "x = data['avg_sleep_preCOV']\n",
    "\n",
    "sns.set(style=\"whitegrid\")\n",
    "\n",
    "ax = sns.boxplot(x)\n",
    "\n",
    "plt.savefig('Figures/sleep_pre_COV_boxplot.jpg')\n",
    "plt.show()"
   ]
  },
  {
   "cell_type": "code",
   "execution_count": 565,
   "metadata": {},
   "outputs": [
    {
     "data": {
      "image/png": "[encoded data removed]",
      "text/plain": [
       "<Figure size 432x288 with 1 Axes>"
      ]
     },
     "metadata": {},
     "output_type": "display_data"
    }
   ],
   "source": [
    "x = data['avg_sleep_preCOV']\n",
    "\n",
    "sns.set(style=\"whitegrid\")\n",
    "\n",
    "ax = sns.violinplot(x)\n",
    "\n",
    "plt.savefig('Figures/sleep_pre_COV_violin.jpg')\n",
    "plt.show()"
   ]
  },
  {
   "cell_type": "code",
   "execution_count": 636,
   "metadata": {},
   "outputs": [
    {
     "data": {
      "image/png": "[encoded data removed]",
      "text/plain": [
       "<Figure size 432x288 with 1 Axes>"
      ]
     },
     "metadata": {},
     "output_type": "display_data"
    }
   ],
   "source": [
    "sns.set(style='whitegrid')\n",
    "\n",
    "x = data['avg_sleep_preCOV']\n",
    "\n",
    "ax = sns.distplot(x, bins=10, kde=False)\n",
    "\n",
    "plt.savefig('Figures/sleep_pre_COV_hist.jpg')\n",
    "plt.show()"
   ]
  },
  {
   "cell_type": "code",
   "execution_count": 637,
   "metadata": {},
   "outputs": [
    {
     "data": {
      "text/plain": [
       "dtype('int64')"
      ]
     },
     "execution_count": 637,
     "metadata": {},
     "output_type": "execute_result"
    }
   ],
   "source": [
    "data['avg_sleep_preCOV'].dtype"
   ]
  },
  {
   "cell_type": "code",
   "execution_count": 564,
   "metadata": {},
   "outputs": [
    {
     "data": {
      "text/plain": [
       "7     21\n",
       "8     14\n",
       "6      9\n",
       "9      4\n",
       "5      2\n",
       "10     1\n",
       "2      1\n",
       "Name: avg_sleep_preCOV, dtype: int64"
      ]
     },
     "execution_count": 564,
     "metadata": {},
     "output_type": "execute_result"
    }
   ],
   "source": [
    "data['avg_sleep_preCOV'].value_counts()"
   ]
  },
  {
   "cell_type": "code",
   "execution_count": 573,
   "metadata": {},
   "outputs": [
    {
     "data": {
      "image/png": "[encoded data removed]",
      "text/plain": [
       "<Figure size 432x288 with 1 Axes>"
      ]
     },
     "metadata": {},
     "output_type": "display_data"
    }
   ],
   "source": [
    "x = data['avg_sleep_postCOV']\n",
    "\n",
    "sns.set(style=\"whitegrid\")\n",
    "\n",
    "ax = sns.boxplot(x)\n",
    "\n",
    "plt.show()"
   ]
  },
  {
   "cell_type": "code",
   "execution_count": 574,
   "metadata": {},
   "outputs": [
    {
     "data": {
      "image/png": "[encoded data removed]",
      "text/plain": [
       "<Figure size 432x288 with 1 Axes>"
      ]
     },
     "metadata": {},
     "output_type": "display_data"
    }
   ],
   "source": [
    "x = data['avg_sleep_postCOV']\n",
    "\n",
    "sns.axes_style(\"white\")\n",
    "\n",
    "ax = sns.distplot(x, bins=9, kde=False)\n",
    "\n",
    "plt.savefig('Figures/sleep_post_COV_hist.jpg')\n",
    "\n",
    "plt.show()"
   ]
  },
  {
   "cell_type": "code",
   "execution_count": 570,
   "metadata": {},
   "outputs": [
    {
     "data": {
      "text/plain": [
       "8    22\n",
       "7    15\n",
       "9     5\n",
       "6     5\n",
       "5     4\n",
       "2     1\n",
       "Name: avg_sleep_postCOV, dtype: int64"
      ]
     },
     "execution_count": 570,
     "metadata": {},
     "output_type": "execute_result"
    }
   ],
   "source": [
    "data['avg_sleep_postCOV'].value_counts()"
   ]
  },
  {
   "cell_type": "code",
   "execution_count": 456,
   "metadata": {},
   "outputs": [
    {
     "data": {
      "text/plain": [
       "array([ 0,  2, 10,  4,  8, 13])"
      ]
     },
     "execution_count": 456,
     "metadata": {},
     "output_type": "execute_result"
    }
   ],
   "source": [
    "data['avg_cig_preCOV'].unique()"
   ]
  },
  {
   "cell_type": "code",
   "execution_count": 583,
   "metadata": {},
   "outputs": [
    {
     "data": {
      "image/png": "[encoded data removed]",
      "text/plain": [
       "<Figure size 432x288 with 1 Axes>"
      ]
     },
     "metadata": {},
     "output_type": "display_data"
    }
   ],
   "source": [
    "x = data['avg_cig_preCOV']\n",
    "\n",
    "sns.set(style=None)\n",
    "\n",
    "ax = sns.distplot(x, bins=6, kde=False)\n",
    "\n",
    "plt.savefig('Figures/cig_pre_COV_hist.jpg')\n",
    "\n",
    "plt.show()"
   ]
  },
  {
   "cell_type": "code",
   "execution_count": 582,
   "metadata": {},
   "outputs": [
    {
     "data": {
      "text/plain": [
       "0     46\n",
       "8      2\n",
       "17     1\n",
       "10     1\n",
       "4      1\n",
       "3      1\n",
       "Name: avg_cig_postCOV, dtype: int64"
      ]
     },
     "execution_count": 582,
     "metadata": {},
     "output_type": "execute_result"
    }
   ],
   "source": [
    "data['avg_cig_postCOV'].value_counts()"
   ]
  },
  {
   "cell_type": "code",
   "execution_count": 584,
   "metadata": {},
   "outputs": [
    {
     "data": {
      "image/png": "[encoded data removed]",
      "text/plain": [
       "<Figure size 432x288 with 1 Axes>"
      ]
     },
     "metadata": {},
     "output_type": "display_data"
    }
   ],
   "source": [
    "x = data['avg_cig_postCOV']\n",
    "\n",
    "sns.set(style=None)\n",
    "\n",
    "ax = sns.distplot(x, bins=6, kde=False)\n",
    "plt.savefig('Figures/cig_post_COV_hist.jpg')\n",
    "plt.show()"
   ]
  },
  {
   "cell_type": "code",
   "execution_count": 463,
   "metadata": {},
   "outputs": [
    {
     "data": {
      "image/png": "[encoded data removed]",
      "text/plain": [
       "<Figure size 432x288 with 1 Axes>"
      ]
     },
     "metadata": {},
     "output_type": "display_data"
    }
   ],
   "source": [
    "x = data['avg_phy-act_preCOV']\n",
    "\n",
    "sns.set(style=\"whitegrid\")\n",
    "\n",
    "ax = sns.boxplot(x)\n",
    "plt.show()"
   ]
  },
  {
   "cell_type": "code",
   "execution_count": 645,
   "metadata": {},
   "outputs": [
    {
     "data": {
      "image/png": "[encoded data removed]",
      "text/plain": [
       "<Figure size 432x288 with 1 Axes>"
      ]
     },
     "metadata": {},
     "output_type": "display_data"
    }
   ],
   "source": [
    "sns.set(style='whitegrid')\n",
    "\n",
    "x = data['avg_phy-act_preCOV']\n",
    "\n",
    "ax = sns.distplot(x, bins=11, kde=False)\n",
    "plt.xticks(range(11))\n",
    "plt.show()"
   ]
  },
  {
   "cell_type": "code",
   "execution_count": 465,
   "metadata": {},
   "outputs": [
    {
     "data": {
      "image/png": "[encoded data removed]",
      "text/plain": [
       "<Figure size 432x288 with 1 Axes>"
      ]
     },
     "metadata": {},
     "output_type": "display_data"
    }
   ],
   "source": [
    "x = data['avg_phy-act_postCOV']\n",
    "\n",
    "sns.set(style=\"whitegrid\")\n",
    "\n",
    "ax = sns.boxplot(x)\n",
    "plt.show()"
   ]
  },
  {
   "cell_type": "code",
   "execution_count": 591,
   "metadata": {},
   "outputs": [
    {
     "data": {
      "image/png": "[encoded data removed]",
      "text/plain": [
       "<Figure size 432x288 with 1 Axes>"
      ]
     },
     "metadata": {},
     "output_type": "display_data"
    }
   ],
   "source": [
    "x = data['avg_phy-act_postCOV']\n",
    "\n",
    "sns.set(style=None)\n",
    "\n",
    "ax = sns.distplot(x, bins=11, kde=False)\n",
    "plt.show()"
   ]
  },
  {
   "cell_type": "code",
   "execution_count": 467,
   "metadata": {},
   "outputs": [
    {
     "data": {
      "image/png": "[encoded data removed]",
      "text/plain": [
       "<Figure size 432x288 with 1 Axes>"
      ]
     },
     "metadata": {},
     "output_type": "display_data"
    }
   ],
   "source": [
    "x = data['avg_hobbies_preCOV']\n",
    "\n",
    "sns.set(style=\"whitegrid\")\n",
    "\n",
    "ax = sns.boxplot(x)\n",
    "plt.show()"
   ]
  },
  {
   "cell_type": "code",
   "execution_count": 468,
   "metadata": {},
   "outputs": [
    {
     "data": {
      "image/png": "[encoded data removed]",
      "text/plain": [
       "<Figure size 432x288 with 1 Axes>"
      ]
     },
     "metadata": {},
     "output_type": "display_data"
    }
   ],
   "source": [
    "x = data['avg_hobbies_preCOV']\n",
    "\n",
    "sns.set(style=None)\n",
    "\n",
    "ax = sns.distplot(x, bins=11, kde=False)\n",
    "plt.show()"
   ]
  },
  {
   "cell_type": "code",
   "execution_count": 469,
   "metadata": {},
   "outputs": [
    {
     "data": {
      "image/png": "[encoded data removed]",
      "text/plain": [
       "<Figure size 432x288 with 1 Axes>"
      ]
     },
     "metadata": {},
     "output_type": "display_data"
    }
   ],
   "source": [
    "x = data['avg_hobbies_postCOV']\n",
    "\n",
    "sns.set(style=\"whitegrid\")\n",
    "\n",
    "ax = sns.boxplot(x)\n",
    "plt.show()"
   ]
  },
  {
   "cell_type": "code",
   "execution_count": 470,
   "metadata": {},
   "outputs": [
    {
     "data": {
      "image/png": "[encoded data removed]",
      "text/plain": [
       "<Figure size 432x288 with 1 Axes>"
      ]
     },
     "metadata": {},
     "output_type": "display_data"
    }
   ],
   "source": [
    "x = data['avg_hobbies_postCOV']\n",
    "\n",
    "sns.set(style=None)\n",
    "\n",
    "ax = sns.distplot(x, bins=11, kde=False)\n",
    "plt.show()"
   ]
  },
  {
   "cell_type": "code",
   "execution_count": 471,
   "metadata": {},
   "outputs": [
    {
     "data": {
      "text/plain": [
       "array(['Between 30 and 60 minutes', 'Less than 30 minutes',\n",
       "       'Between 90 and 120 minutes', 'Between 60 and 90 minutes',\n",
       "       'More than 120 minutes'], dtype=object)"
      ]
     },
     "execution_count": 471,
     "metadata": {},
     "output_type": "execute_result"
    }
   ],
   "source": [
    "data['avg_commute_preCOV'].unique()"
   ]
  },
  {
   "cell_type": "code",
   "execution_count": 472,
   "metadata": {},
   "outputs": [
    {
     "data": {
      "text/plain": [
       "Between 30 and 60 minutes     23\n",
       "Less than 30 minutes          15\n",
       "Between 60 and 90 minutes     10\n",
       "Between 90 and 120 minutes     2\n",
       "More than 120 minutes          2\n",
       "Name: avg_commute_preCOV, dtype: int64"
      ]
     },
     "execution_count": 472,
     "metadata": {},
     "output_type": "execute_result"
    }
   ],
   "source": [
    "data['avg_commute_preCOV'].value_counts()"
   ]
  },
  {
   "cell_type": "code",
   "execution_count": 633,
   "metadata": {},
   "outputs": [
    {
     "data": {
      "image/png": "[encoded data removed]",
      "text/plain": [
       "<Figure size 936x432 with 1 Axes>"
      ]
     },
     "metadata": {},
     "output_type": "display_data"
    }
   ],
   "source": [
    "# categorical variable\n",
    "\n",
    "x = data['avg_commute_preCOV'].unique()\n",
    "y = data['avg_commute_preCOV'].value_counts()\n",
    "\n",
    "sns.set(style=None)\n",
    "plt.figure(figsize=(13, 6))\n",
    "\n",
    "ax = sns.barplot(x,y)\n",
    "plt.show()"
   ]
  },
  {
   "cell_type": "code",
   "execution_count": 627,
   "metadata": {},
   "outputs": [
    {
     "data": {
      "text/plain": [
       "Between 30 and 60 minutes     23\n",
       "Less than 30 minutes          15\n",
       "Between 60 and 90 minutes     10\n",
       "Between 90 and 120 minutes     2\n",
       "More than 120 minutes          2\n",
       "Name: avg_commute_preCOV, dtype: int64"
      ]
     },
     "execution_count": 627,
     "metadata": {},
     "output_type": "execute_result"
    }
   ],
   "source": [
    "data['avg_commute_preCOV'].value_counts()"
   ]
  },
  {
   "cell_type": "code",
   "execution_count": 632,
   "metadata": {},
   "outputs": [
    {
     "data": {
      "image/png": "[encoded data removed]",
      "text/plain": [
       "<Figure size 936x432 with 1 Axes>"
      ]
     },
     "metadata": {},
     "output_type": "display_data"
    }
   ],
   "source": [
    "# categorical variable\n",
    "\n",
    "labels = ['< 30min', '30-60min', '60-90min', '90-120min', '> 120min']\n",
    "\n",
    "x = data['avg_commute_postCOV'].unique()\n",
    "y = data['avg_commute_postCOV'].value_counts()\n",
    "\n",
    "sns.set(style=None)\n",
    "plt.figure(figsize=(13, 6))\n",
    "\n",
    "ax = sns.barplot(x,y)\n",
    "plt.show()"
   ]
  },
  {
   "cell_type": "code",
   "execution_count": 630,
   "metadata": {},
   "outputs": [
    {
     "data": {
      "text/plain": [
       "Less than 30 minutes          34\n",
       "Between 30 and 60 minutes     12\n",
       "Between 60 and 90 minutes      4\n",
       "Between 90 and 120 minutes     1\n",
       "More than 120 minutes          1\n",
       "Name: avg_commute_postCOV, dtype: int64"
      ]
     },
     "execution_count": 630,
     "metadata": {},
     "output_type": "execute_result"
    }
   ],
   "source": [
    "data['avg_commute_postCOV'].value_counts()"
   ]
  },
  {
   "cell_type": "code",
   "execution_count": 475,
   "metadata": {},
   "outputs": [
    {
     "data": {
      "image/png": "[encoded data removed]",
      "text/plain": [
       "<Figure size 432x288 with 1 Axes>"
      ]
     },
     "metadata": {},
     "output_type": "display_data"
    }
   ],
   "source": [
    "x = data['avg_work_preCOV']\n",
    "\n",
    "sns.set(style=\"whitegrid\")\n",
    "\n",
    "ax = sns.boxplot(x)\n",
    "plt.show()"
   ]
  },
  {
   "cell_type": "code",
   "execution_count": 476,
   "metadata": {},
   "outputs": [
    {
     "data": {
      "image/png": "[encoded data removed]",
      "text/plain": [
       "<Figure size 432x288 with 1 Axes>"
      ]
     },
     "metadata": {},
     "output_type": "display_data"
    }
   ],
   "source": [
    "x = data['avg_work_preCOV']\n",
    "\n",
    "sns.set(style=None)\n",
    "\n",
    "ax = sns.distplot(x, bins=11, kde=False)\n",
    "plt.show()"
   ]
  },
  {
   "cell_type": "code",
   "execution_count": 477,
   "metadata": {},
   "outputs": [
    {
     "data": {
      "image/png": "[encoded data removed]",
      "text/plain": [
       "<Figure size 432x288 with 1 Axes>"
      ]
     },
     "metadata": {},
     "output_type": "display_data"
    }
   ],
   "source": [
    "x = data['avg_work_postCOV']\n",
    "\n",
    "sns.set(style=\"whitegrid\")\n",
    "\n",
    "ax = sns.boxplot(x)\n",
    "plt.show()"
   ]
  },
  {
   "cell_type": "code",
   "execution_count": 478,
   "metadata": {},
   "outputs": [
    {
     "data": {
      "image/png": "[encoded data removed]",
      "text/plain": [
       "<Figure size 432x288 with 1 Axes>"
      ]
     },
     "metadata": {},
     "output_type": "display_data"
    }
   ],
   "source": [
    "x = data['avg_work_postCOV']\n",
    "\n",
    "sns.set(style=None)\n",
    "\n",
    "ax = sns.distplot(x, bins=11, kde=False)\n",
    "plt.show()"
   ]
  },
  {
   "cell_type": "code",
   "execution_count": 479,
   "metadata": {},
   "outputs": [
    {
     "data": {
      "image/png": "[encoded data removed]",
      "text/plain": [
       "<Figure size 432x288 with 1 Axes>"
      ]
     },
     "metadata": {},
     "output_type": "display_data"
    }
   ],
   "source": [
    "# categorical variable\n",
    "\n",
    "x = data['work_remote_LD'].values\n",
    "y = data['work_remote_LD'].index\n",
    "\n",
    "sns.set(style=None)\n",
    "\n",
    "ax = sns.barplot(x,y)\n",
    "plt.show()"
   ]
  },
  {
   "cell_type": "code",
   "execution_count": 480,
   "metadata": {},
   "outputs": [
    {
     "data": {
      "image/png": "[encoded data removed]",
      "text/plain": [
       "<Figure size 432x288 with 1 Axes>"
      ]
     },
     "metadata": {},
     "output_type": "display_data"
    }
   ],
   "source": [
    "# categorical variable\n",
    "\n",
    "x = data['work_reduced_LD'].values\n",
    "y = data['work_reduced_LD'].index\n",
    "\n",
    "sns.set(style=None)\n",
    "\n",
    "ax = sns.barplot(x,y)\n",
    "plt.show()"
   ]
  },
  {
   "cell_type": "code",
   "execution_count": 481,
   "metadata": {},
   "outputs": [
    {
     "data": {
      "image/png": "[encoded data removed]",
      "text/plain": [
       "<Figure size 432x288 with 1 Axes>"
      ]
     },
     "metadata": {},
     "output_type": "display_data"
    }
   ],
   "source": [
    "# categorical variable\n",
    "\n",
    "x = data['loss_income'].values\n",
    "y = data['loss_income'].index\n",
    "\n",
    "sns.set(style=None)\n",
    "\n",
    "ax = sns.barplot(x,y)\n",
    "plt.show()"
   ]
  },
  {
   "cell_type": "code",
   "execution_count": 482,
   "metadata": {},
   "outputs": [
    {
     "data": {
      "image/png": "[encoded data removed]",
      "text/plain": [
       "<Figure size 432x288 with 1 Axes>"
      ]
     },
     "metadata": {},
     "output_type": "display_data"
    }
   ],
   "source": [
    "x = data['loss_income_%']\n",
    "\n",
    "sns.set(style=\"whitegrid\")\n",
    "\n",
    "ax = sns.violinplot(x, palette=\"deep\")\n",
    "plt.show()"
   ]
  },
  {
   "cell_type": "code",
   "execution_count": 483,
   "metadata": {},
   "outputs": [
    {
     "data": {
      "image/png": "[encoded data removed]",
      "text/plain": [
       "<Figure size 432x288 with 1 Axes>"
      ]
     },
     "metadata": {},
     "output_type": "display_data"
    }
   ],
   "source": [
    "filter = data[\"loss_income_%\"] != 0.\n",
    "\n",
    "x = data['loss_income_%'].where(filter)\n",
    "\n",
    "sns.set(style=\"whitegrid\")\n",
    "\n",
    "ax = sns.boxplot(x)\n",
    "plt.show()"
   ]
  },
  {
   "cell_type": "code",
   "execution_count": 484,
   "metadata": {},
   "outputs": [
    {
     "data": {
      "text/plain": [
       "7"
      ]
     },
     "execution_count": 484,
     "metadata": {},
     "output_type": "execute_result"
    }
   ],
   "source": [
    "data['loss_income_%'].where(filter).count()"
   ]
  },
  {
   "cell_type": "code",
   "execution_count": 485,
   "metadata": {},
   "outputs": [
    {
     "data": {
      "text/plain": [
       "Female    29\n",
       "Male      23\n",
       "Name: Gender, dtype: int64"
      ]
     },
     "execution_count": 485,
     "metadata": {},
     "output_type": "execute_result"
    }
   ],
   "source": [
    "data['Gender'].value_counts()"
   ]
  },
  {
   "cell_type": "code",
   "execution_count": 552,
   "metadata": {},
   "outputs": [
    {
     "data": {
      "image/png": "[encoded data removed]",
      "text/plain": [
       "<Figure size 432x288 with 1 Axes>"
      ]
     },
     "metadata": {},
     "output_type": "display_data"
    }
   ],
   "source": [
    "\n",
    "x = data['Gender'].unique()\n",
    "y = data['Gender'].value_counts(ascending=True)\n",
    "\n",
    "sns.set(style=None)\n",
    "\n",
    "ax = sns.barplot(x,y)\n",
    "\n",
    "#plt.figure(figsize=(15, 8))\n",
    "\n",
    "plt.savefig('Figures/gender_barplot.jpg')\n",
    "\n",
    "plt.show()"
   ]
  },
  {
   "cell_type": "code",
   "execution_count": 487,
   "metadata": {},
   "outputs": [
    {
     "data": {
      "text/plain": [
       "Female    29\n",
       "Male      23\n",
       "Name: Gender, dtype: int64"
      ]
     },
     "execution_count": 487,
     "metadata": {},
     "output_type": "execute_result"
    }
   ],
   "source": [
    "data['Gender'].value_counts()"
   ]
  },
  {
   "cell_type": "code",
   "execution_count": 488,
   "metadata": {},
   "outputs": [
    {
     "data": {
      "image/png": "[encoded data removed]",
      "text/plain": [
       "<Figure size 720x432 with 1 Axes>"
      ]
     },
     "metadata": {},
     "output_type": "display_data"
    }
   ],
   "source": [
    "\n",
    "x = data['Country'].unique()\n",
    "y = data['Country'].value_counts()\n",
    "\n",
    "#sns.set(style=None)\n",
    "\n",
    "plt.figure(figsize=(10, 6))\n",
    "\n",
    "ax = sns.barplot(x,y)\n",
    "\n",
    "plt.savefig('Figures/country_barplot.jpg')\n",
    "\n",
    "plt.show()"
   ]
  },
  {
   "cell_type": "code",
   "execution_count": 489,
   "metadata": {},
   "outputs": [
    {
     "data": {
      "text/plain": [
       "Portugal    40\n",
       "Spain       10\n",
       "Germany      1\n",
       "Belgium      1\n",
       "Name: Country, dtype: int64"
      ]
     },
     "execution_count": 489,
     "metadata": {},
     "output_type": "execute_result"
    }
   ],
   "source": [
    "data['Country'].value_counts()"
   ]
  },
  {
   "cell_type": "code",
   "execution_count": 490,
   "metadata": {},
   "outputs": [
    {
     "data": {
      "text/plain": [
       "Portugal    40\n",
       "Spain       10\n",
       "Germany      1\n",
       "Belgium      1\n",
       "Name: Country, dtype: int64"
      ]
     },
     "execution_count": 490,
     "metadata": {},
     "output_type": "execute_result"
    }
   ],
   "source": [
    "data['Country'].value_counts()"
   ]
  },
  {
   "cell_type": "code",
   "execution_count": 557,
   "metadata": {},
   "outputs": [
    {
     "data": {
      "image/png": "[encoded data removed]",
      "text/plain": [
       "<Figure size 720x432 with 1 Axes>"
      ]
     },
     "metadata": {},
     "output_type": "display_data"
    }
   ],
   "source": [
    "# also not counting the values\n",
    "\n",
    "x = data['Marital status'].unique()\n",
    "y = data['Marital status'].value_counts()\n",
    "\n",
    "#sns.set(style=None)\n",
    "\n",
    "plt.figure(figsize=(10, 6))\n",
    "ax = sns.barplot(x,y)\n",
    "\n",
    "plt.savefig('Figures/marstatus_barplot.jpg')\n",
    "\n",
    "plt.show()"
   ]
  },
  {
   "cell_type": "code",
   "execution_count": 492,
   "metadata": {},
   "outputs": [
    {
     "data": {
      "text/plain": [
       "Single              33\n",
       "In a civil union     9\n",
       "Married              7\n",
       "Divorced             2\n",
       "Widowed              1\n",
       "Name: Marital status, dtype: int64"
      ]
     },
     "execution_count": 492,
     "metadata": {},
     "output_type": "execute_result"
    }
   ],
   "source": [
    "data['Marital status'].value_counts()"
   ]
  },
  {
   "cell_type": "code",
   "execution_count": 493,
   "metadata": {},
   "outputs": [
    {
     "data": {
      "image/png": "[encoded data removed]",
      "text/plain": [
       "<Figure size 432x288 with 1 Axes>"
      ]
     },
     "metadata": {},
     "output_type": "display_data"
    }
   ],
   "source": [
    "# make a violin plot\n",
    "\n",
    "x = data['number_children']\n",
    "ax = sns.violinplot(x)\n",
    "plt.show()"
   ]
  },
  {
   "cell_type": "code",
   "execution_count": 494,
   "metadata": {},
   "outputs": [
    {
     "data": {
      "text/plain": [
       "array([0, 1, 2])"
      ]
     },
     "execution_count": 494,
     "metadata": {},
     "output_type": "execute_result"
    }
   ],
   "source": [
    "data['number_children'].unique()"
   ]
  },
  {
   "cell_type": "code",
   "execution_count": 495,
   "metadata": {},
   "outputs": [
    {
     "data": {
      "text/plain": [
       "0    45\n",
       "2     5\n",
       "1     2\n",
       "Name: number_children, dtype: int64"
      ]
     },
     "execution_count": 495,
     "metadata": {},
     "output_type": "execute_result"
    }
   ],
   "source": [
    "data['number_children'].value_counts()"
   ]
  },
  {
   "cell_type": "code",
   "execution_count": 496,
   "metadata": {},
   "outputs": [
    {
     "data": {
      "image/png": "[encoded data removed]",
      "text/plain": [
       "<Figure size 432x288 with 1 Axes>"
      ]
     },
     "metadata": {},
     "output_type": "display_data"
    }
   ],
   "source": [
    "x = data['number_children']\n",
    "\n",
    "sns.set(style=None)\n",
    "\n",
    "#plt.figure(figsize=(10, 6))\n",
    "\n",
    "ax = sns.distplot(x, bins=3, kde=False)\n",
    "plt.xticks([0,1,2])\n",
    "plt.show()"
   ]
  },
  {
   "cell_type": "code",
   "execution_count": 497,
   "metadata": {},
   "outputs": [
    {
     "data": {
      "text/plain": [
       "7"
      ]
     },
     "execution_count": 497,
     "metadata": {},
     "output_type": "execute_result"
    }
   ],
   "source": [
    "# only 7 people have children\n",
    "\n",
    "data['number_children'][(data['number_children'] != 0)].count()"
   ]
  },
  {
   "cell_type": "code",
   "execution_count": 558,
   "metadata": {},
   "outputs": [
    {
     "data": {
      "image/png": "[encoded data removed]",
      "text/plain": [
       "<Figure size 720x432 with 1 Axes>"
      ]
     },
     "metadata": {},
     "output_type": "display_data"
    }
   ],
   "source": [
    "# also not counting the values\n",
    "\n",
    "x = data['Children'].unique()\n",
    "y = data['Children'].value_counts()\n",
    "\n",
    "#sns.set(style=None)\n",
    "\n",
    "plt.figure(figsize=(10, 6))\n",
    "ax = sns.barplot(x,y)\n",
    "\n",
    "plt.savefig('Figures/children_barplot.jpg')\n",
    "\n",
    "plt.show()"
   ]
  },
  {
   "cell_type": "code",
   "execution_count": 499,
   "metadata": {},
   "outputs": [
    {
     "data": {
      "text/plain": [
       "45"
      ]
     },
     "execution_count": 499,
     "metadata": {},
     "output_type": "execute_result"
    }
   ],
   "source": [
    "data['Children'][(data['Children'] == 'No')].count()"
   ]
  },
  {
   "cell_type": "code",
   "execution_count": 500,
   "metadata": {},
   "outputs": [
    {
     "data": {
      "text/plain": [
       "7"
      ]
     },
     "execution_count": 500,
     "metadata": {},
     "output_type": "execute_result"
    }
   ],
   "source": [
    "data['Children'][(data['Children'] == 'Yes')].count()"
   ]
  },
  {
   "cell_type": "code",
   "execution_count": 501,
   "metadata": {},
   "outputs": [
    {
     "data": {
      "text/plain": [
       "array(['Grad Student', 'Art gallery assistant', 'Researcher',\n",
       "       'Conservator- restorer', 'Investigadora', 'Admin Manager',\n",
       "       'Museus worker gay', 'Civil Engineer ', 'Lead teacher',\n",
       "       'Arquiteto Paisagista', 'Conservadora restauradora',\n",
       "       'PhD student and singer', 'researcher', 'Engineer', 'Controller',\n",
       "       'Student', 'Researcher ', 'Unemployed', 'Housekeeper', 'Student ',\n",
       "       'project manager', 'Cultural Producer',\n",
       "       'Student/ Computer Engineer / Consultant', 'Phd student',\n",
       "       'Director', 'Architect', 'Consultant', 'PhD researcher', 'Teacher',\n",
       "       'HR manager', 'Marketing', 'linguist', 'Estudante ',\n",
       "       'Data Analyst', 'University professor ', 'civil engineer',\n",
       "       'Função pública ', 'Retired', 0, 'Uni. Prof', 'Artist & Coach',\n",
       "       'Medical doctor ', 'Teacher ', 'PhD Candidate', 'office worker'],\n",
       "      dtype=object)"
      ]
     },
     "execution_count": 501,
     "metadata": {},
     "output_type": "execute_result"
    }
   ],
   "source": [
    "data['Profession'].unique()"
   ]
  },
  {
   "cell_type": "markdown",
   "metadata": {},
   "source": [
    "# Correlations"
   ]
  },
  {
   "cell_type": "code",
   "execution_count": 502,
   "metadata": {},
   "outputs": [
    {
     "data": {
      "text/html": [
       "<div>\n",
       "<style scoped>\n",
       "    .dataframe tbody tr th:only-of-type {\n",
       "        vertical-align: middle;\n",
       "    }\n",
       "\n",
       "    .dataframe tbody tr th {\n",
       "        vertical-align: top;\n",
       "    }\n",
       "\n",
       "    .dataframe thead th {\n",
       "        text-align: right;\n",
       "    }\n",
       "</style>\n",
       "<table border=\"1\" class=\"dataframe\">\n",
       "  <thead>\n",
       "    <tr style=\"text-align: right;\">\n",
       "      <th></th>\n",
       "      <th>COV_threat_personal</th>\n",
       "      <th>COV_threat_others</th>\n",
       "      <th>adherence_recom</th>\n",
       "      <th>more_time_hobbies_LD</th>\n",
       "      <th>more_time_TV_LD</th>\n",
       "      <th>more_time_internet_LD</th>\n",
       "      <th>avg_sleep_preCOV</th>\n",
       "      <th>avg_sleep_postCOV</th>\n",
       "      <th>avg_cig_preCOV</th>\n",
       "      <th>avg_cig_postCOV</th>\n",
       "      <th>avg_phy-act_preCOV</th>\n",
       "      <th>avg_phy-act_postCOV</th>\n",
       "      <th>avg_hobbies_preCOV</th>\n",
       "      <th>avg_hobbies_postCOV</th>\n",
       "      <th>avg_work_preCOV</th>\n",
       "      <th>avg_work_postCOV</th>\n",
       "      <th>loss_income_%</th>\n",
       "      <th>Age</th>\n",
       "      <th>number_children</th>\n",
       "    </tr>\n",
       "  </thead>\n",
       "  <tbody>\n",
       "    <tr>\n",
       "      <th>COV_threat_personal</th>\n",
       "      <td>1.000000</td>\n",
       "      <td>0.704752</td>\n",
       "      <td>0.335623</td>\n",
       "      <td>-1.794333e-01</td>\n",
       "      <td>0.038513</td>\n",
       "      <td>0.165943</td>\n",
       "      <td>0.194097</td>\n",
       "      <td>0.037548</td>\n",
       "      <td>0.031748</td>\n",
       "      <td>0.061776</td>\n",
       "      <td>-0.122767</td>\n",
       "      <td>-0.041907</td>\n",
       "      <td>0.096313</td>\n",
       "      <td>-0.021372</td>\n",
       "      <td>-0.046547</td>\n",
       "      <td>0.037992</td>\n",
       "      <td>-0.128531</td>\n",
       "      <td>0.121753</td>\n",
       "      <td>3.492505e-02</td>\n",
       "    </tr>\n",
       "    <tr>\n",
       "      <th>COV_threat_others</th>\n",
       "      <td>0.704752</td>\n",
       "      <td>1.000000</td>\n",
       "      <td>0.323766</td>\n",
       "      <td>-1.074204e-01</td>\n",
       "      <td>0.076018</td>\n",
       "      <td>0.155031</td>\n",
       "      <td>0.146246</td>\n",
       "      <td>0.199344</td>\n",
       "      <td>0.010565</td>\n",
       "      <td>0.047975</td>\n",
       "      <td>-0.234703</td>\n",
       "      <td>-0.068264</td>\n",
       "      <td>-0.014570</td>\n",
       "      <td>0.037405</td>\n",
       "      <td>-0.074985</td>\n",
       "      <td>-0.068698</td>\n",
       "      <td>-0.042659</td>\n",
       "      <td>-0.089757</td>\n",
       "      <td>-2.016913e-01</td>\n",
       "    </tr>\n",
       "    <tr>\n",
       "      <th>adherence_recom</th>\n",
       "      <td>0.335623</td>\n",
       "      <td>0.323766</td>\n",
       "      <td>1.000000</td>\n",
       "      <td>2.843913e-01</td>\n",
       "      <td>0.245977</td>\n",
       "      <td>0.287766</td>\n",
       "      <td>0.082309</td>\n",
       "      <td>0.327396</td>\n",
       "      <td>-0.036569</td>\n",
       "      <td>-0.036819</td>\n",
       "      <td>-0.280561</td>\n",
       "      <td>-0.058771</td>\n",
       "      <td>-0.106271</td>\n",
       "      <td>-0.076102</td>\n",
       "      <td>0.049826</td>\n",
       "      <td>0.218682</td>\n",
       "      <td>-0.193910</td>\n",
       "      <td>-0.028660</td>\n",
       "      <td>-2.000334e-01</td>\n",
       "    </tr>\n",
       "    <tr>\n",
       "      <th>more_time_hobbies_LD</th>\n",
       "      <td>-0.179433</td>\n",
       "      <td>-0.107420</td>\n",
       "      <td>0.284391</td>\n",
       "      <td>1.000000e+00</td>\n",
       "      <td>0.347067</td>\n",
       "      <td>0.304956</td>\n",
       "      <td>0.179121</td>\n",
       "      <td>0.423565</td>\n",
       "      <td>0.031593</td>\n",
       "      <td>0.039893</td>\n",
       "      <td>0.011227</td>\n",
       "      <td>0.174167</td>\n",
       "      <td>0.083962</td>\n",
       "      <td>0.365162</td>\n",
       "      <td>0.073183</td>\n",
       "      <td>0.048336</td>\n",
       "      <td>0.015660</td>\n",
       "      <td>0.227864</td>\n",
       "      <td>-1.726604e-18</td>\n",
       "    </tr>\n",
       "    <tr>\n",
       "      <th>more_time_TV_LD</th>\n",
       "      <td>0.038513</td>\n",
       "      <td>0.076018</td>\n",
       "      <td>0.245977</td>\n",
       "      <td>3.470671e-01</td>\n",
       "      <td>1.000000</td>\n",
       "      <td>0.479201</td>\n",
       "      <td>0.135748</td>\n",
       "      <td>0.279877</td>\n",
       "      <td>-0.094252</td>\n",
       "      <td>-0.165283</td>\n",
       "      <td>-0.296331</td>\n",
       "      <td>-0.235633</td>\n",
       "      <td>-0.125129</td>\n",
       "      <td>0.093380</td>\n",
       "      <td>-0.028236</td>\n",
       "      <td>0.017483</td>\n",
       "      <td>-0.136680</td>\n",
       "      <td>0.345856</td>\n",
       "      <td>3.423940e-02</td>\n",
       "    </tr>\n",
       "    <tr>\n",
       "      <th>more_time_internet_LD</th>\n",
       "      <td>0.165943</td>\n",
       "      <td>0.155031</td>\n",
       "      <td>0.287766</td>\n",
       "      <td>3.049555e-01</td>\n",
       "      <td>0.479201</td>\n",
       "      <td>1.000000</td>\n",
       "      <td>0.190734</td>\n",
       "      <td>0.147029</td>\n",
       "      <td>0.047730</td>\n",
       "      <td>0.079765</td>\n",
       "      <td>-0.223309</td>\n",
       "      <td>-0.165651</td>\n",
       "      <td>0.062572</td>\n",
       "      <td>0.251941</td>\n",
       "      <td>-0.127170</td>\n",
       "      <td>-0.091762</td>\n",
       "      <td>-0.013366</td>\n",
       "      <td>0.051944</td>\n",
       "      <td>-1.351508e-01</td>\n",
       "    </tr>\n",
       "    <tr>\n",
       "      <th>avg_sleep_preCOV</th>\n",
       "      <td>0.194097</td>\n",
       "      <td>0.146246</td>\n",
       "      <td>0.082309</td>\n",
       "      <td>1.791212e-01</td>\n",
       "      <td>0.135748</td>\n",
       "      <td>0.190734</td>\n",
       "      <td>1.000000</td>\n",
       "      <td>0.585932</td>\n",
       "      <td>0.033384</td>\n",
       "      <td>0.041585</td>\n",
       "      <td>0.045055</td>\n",
       "      <td>0.341439</td>\n",
       "      <td>-0.005538</td>\n",
       "      <td>0.158624</td>\n",
       "      <td>-0.104804</td>\n",
       "      <td>-0.199247</td>\n",
       "      <td>-0.094428</td>\n",
       "      <td>0.072801</td>\n",
       "      <td>1.117459e-01</td>\n",
       "    </tr>\n",
       "    <tr>\n",
       "      <th>avg_sleep_postCOV</th>\n",
       "      <td>0.037548</td>\n",
       "      <td>0.199344</td>\n",
       "      <td>0.327396</td>\n",
       "      <td>4.235652e-01</td>\n",
       "      <td>0.279877</td>\n",
       "      <td>0.147029</td>\n",
       "      <td>0.585932</td>\n",
       "      <td>1.000000</td>\n",
       "      <td>-0.023982</td>\n",
       "      <td>-0.007165</td>\n",
       "      <td>-0.073591</td>\n",
       "      <td>0.143653</td>\n",
       "      <td>-0.185496</td>\n",
       "      <td>0.067518</td>\n",
       "      <td>0.040368</td>\n",
       "      <td>-0.131083</td>\n",
       "      <td>-0.042341</td>\n",
       "      <td>0.081694</td>\n",
       "      <td>6.880586e-02</td>\n",
       "    </tr>\n",
       "    <tr>\n",
       "      <th>avg_cig_preCOV</th>\n",
       "      <td>0.031748</td>\n",
       "      <td>0.010565</td>\n",
       "      <td>-0.036569</td>\n",
       "      <td>3.159334e-02</td>\n",
       "      <td>-0.094252</td>\n",
       "      <td>0.047730</td>\n",
       "      <td>0.033384</td>\n",
       "      <td>-0.023982</td>\n",
       "      <td>1.000000</td>\n",
       "      <td>0.955343</td>\n",
       "      <td>0.038534</td>\n",
       "      <td>-0.121025</td>\n",
       "      <td>0.058634</td>\n",
       "      <td>-0.102023</td>\n",
       "      <td>-0.059581</td>\n",
       "      <td>0.029812</td>\n",
       "      <td>-0.098671</td>\n",
       "      <td>0.102445</td>\n",
       "      <td>8.125930e-02</td>\n",
       "    </tr>\n",
       "    <tr>\n",
       "      <th>avg_cig_postCOV</th>\n",
       "      <td>0.061776</td>\n",
       "      <td>0.047975</td>\n",
       "      <td>-0.036819</td>\n",
       "      <td>3.989279e-02</td>\n",
       "      <td>-0.165283</td>\n",
       "      <td>0.079765</td>\n",
       "      <td>0.041585</td>\n",
       "      <td>-0.007165</td>\n",
       "      <td>0.955343</td>\n",
       "      <td>1.000000</td>\n",
       "      <td>0.070656</td>\n",
       "      <td>-0.117461</td>\n",
       "      <td>0.133880</td>\n",
       "      <td>-0.064446</td>\n",
       "      <td>-0.106327</td>\n",
       "      <td>-0.040558</td>\n",
       "      <td>-0.099346</td>\n",
       "      <td>0.065239</td>\n",
       "      <td>4.577798e-02</td>\n",
       "    </tr>\n",
       "    <tr>\n",
       "      <th>avg_phy-act_preCOV</th>\n",
       "      <td>-0.122767</td>\n",
       "      <td>-0.234703</td>\n",
       "      <td>-0.280561</td>\n",
       "      <td>1.122749e-02</td>\n",
       "      <td>-0.296331</td>\n",
       "      <td>-0.223309</td>\n",
       "      <td>0.045055</td>\n",
       "      <td>-0.073591</td>\n",
       "      <td>0.038534</td>\n",
       "      <td>0.070656</td>\n",
       "      <td>1.000000</td>\n",
       "      <td>0.578235</td>\n",
       "      <td>0.301054</td>\n",
       "      <td>0.348190</td>\n",
       "      <td>-0.059517</td>\n",
       "      <td>-0.104712</td>\n",
       "      <td>0.112437</td>\n",
       "      <td>0.014687</td>\n",
       "      <td>1.540136e-01</td>\n",
       "    </tr>\n",
       "    <tr>\n",
       "      <th>avg_phy-act_postCOV</th>\n",
       "      <td>-0.041907</td>\n",
       "      <td>-0.068264</td>\n",
       "      <td>-0.058771</td>\n",
       "      <td>1.741669e-01</td>\n",
       "      <td>-0.235633</td>\n",
       "      <td>-0.165651</td>\n",
       "      <td>0.341439</td>\n",
       "      <td>0.143653</td>\n",
       "      <td>-0.121025</td>\n",
       "      <td>-0.117461</td>\n",
       "      <td>0.578235</td>\n",
       "      <td>1.000000</td>\n",
       "      <td>0.222250</td>\n",
       "      <td>0.385584</td>\n",
       "      <td>0.045738</td>\n",
       "      <td>0.001053</td>\n",
       "      <td>-0.098122</td>\n",
       "      <td>0.003547</td>\n",
       "      <td>1.754911e-02</td>\n",
       "    </tr>\n",
       "    <tr>\n",
       "      <th>avg_hobbies_preCOV</th>\n",
       "      <td>0.096313</td>\n",
       "      <td>-0.014570</td>\n",
       "      <td>-0.106271</td>\n",
       "      <td>8.396204e-02</td>\n",
       "      <td>-0.125129</td>\n",
       "      <td>0.062572</td>\n",
       "      <td>-0.005538</td>\n",
       "      <td>-0.185496</td>\n",
       "      <td>0.058634</td>\n",
       "      <td>0.133880</td>\n",
       "      <td>0.301054</td>\n",
       "      <td>0.222250</td>\n",
       "      <td>1.000000</td>\n",
       "      <td>0.642623</td>\n",
       "      <td>-0.137675</td>\n",
       "      <td>-0.127267</td>\n",
       "      <td>-0.120191</td>\n",
       "      <td>0.313316</td>\n",
       "      <td>1.074746e-01</td>\n",
       "    </tr>\n",
       "    <tr>\n",
       "      <th>avg_hobbies_postCOV</th>\n",
       "      <td>-0.021372</td>\n",
       "      <td>0.037405</td>\n",
       "      <td>-0.076102</td>\n",
       "      <td>3.651624e-01</td>\n",
       "      <td>0.093380</td>\n",
       "      <td>0.251941</td>\n",
       "      <td>0.158624</td>\n",
       "      <td>0.067518</td>\n",
       "      <td>-0.102023</td>\n",
       "      <td>-0.064446</td>\n",
       "      <td>0.348190</td>\n",
       "      <td>0.385584</td>\n",
       "      <td>0.642623</td>\n",
       "      <td>1.000000</td>\n",
       "      <td>-0.127877</td>\n",
       "      <td>-0.179355</td>\n",
       "      <td>-0.020733</td>\n",
       "      <td>0.142614</td>\n",
       "      <td>-9.307506e-03</td>\n",
       "    </tr>\n",
       "    <tr>\n",
       "      <th>avg_work_preCOV</th>\n",
       "      <td>-0.046547</td>\n",
       "      <td>-0.074985</td>\n",
       "      <td>0.049826</td>\n",
       "      <td>7.318257e-02</td>\n",
       "      <td>-0.028236</td>\n",
       "      <td>-0.127170</td>\n",
       "      <td>-0.104804</td>\n",
       "      <td>0.040368</td>\n",
       "      <td>-0.059581</td>\n",
       "      <td>-0.106327</td>\n",
       "      <td>-0.059517</td>\n",
       "      <td>0.045738</td>\n",
       "      <td>-0.137675</td>\n",
       "      <td>-0.127877</td>\n",
       "      <td>1.000000</td>\n",
       "      <td>0.810416</td>\n",
       "      <td>-0.098589</td>\n",
       "      <td>-0.127478</td>\n",
       "      <td>-1.698433e-01</td>\n",
       "    </tr>\n",
       "    <tr>\n",
       "      <th>avg_work_postCOV</th>\n",
       "      <td>0.037992</td>\n",
       "      <td>-0.068698</td>\n",
       "      <td>0.218682</td>\n",
       "      <td>4.833596e-02</td>\n",
       "      <td>0.017483</td>\n",
       "      <td>-0.091762</td>\n",
       "      <td>-0.199247</td>\n",
       "      <td>-0.131083</td>\n",
       "      <td>0.029812</td>\n",
       "      <td>-0.040558</td>\n",
       "      <td>-0.104712</td>\n",
       "      <td>0.001053</td>\n",
       "      <td>-0.127267</td>\n",
       "      <td>-0.179355</td>\n",
       "      <td>0.810416</td>\n",
       "      <td>1.000000</td>\n",
       "      <td>-0.191119</td>\n",
       "      <td>-0.050710</td>\n",
       "      <td>-1.350965e-01</td>\n",
       "    </tr>\n",
       "    <tr>\n",
       "      <th>loss_income_%</th>\n",
       "      <td>-0.128531</td>\n",
       "      <td>-0.042659</td>\n",
       "      <td>-0.193910</td>\n",
       "      <td>1.566012e-02</td>\n",
       "      <td>-0.136680</td>\n",
       "      <td>-0.013366</td>\n",
       "      <td>-0.094428</td>\n",
       "      <td>-0.042341</td>\n",
       "      <td>-0.098671</td>\n",
       "      <td>-0.099346</td>\n",
       "      <td>0.112437</td>\n",
       "      <td>-0.098122</td>\n",
       "      <td>-0.120191</td>\n",
       "      <td>-0.020733</td>\n",
       "      <td>-0.098589</td>\n",
       "      <td>-0.191119</td>\n",
       "      <td>1.000000</td>\n",
       "      <td>-0.097613</td>\n",
       "      <td>-5.101935e-02</td>\n",
       "    </tr>\n",
       "    <tr>\n",
       "      <th>Age</th>\n",
       "      <td>0.121753</td>\n",
       "      <td>-0.089757</td>\n",
       "      <td>-0.028660</td>\n",
       "      <td>2.278635e-01</td>\n",
       "      <td>0.345856</td>\n",
       "      <td>0.051944</td>\n",
       "      <td>0.072801</td>\n",
       "      <td>0.081694</td>\n",
       "      <td>0.102445</td>\n",
       "      <td>0.065239</td>\n",
       "      <td>0.014687</td>\n",
       "      <td>0.003547</td>\n",
       "      <td>0.313316</td>\n",
       "      <td>0.142614</td>\n",
       "      <td>-0.127478</td>\n",
       "      <td>-0.050710</td>\n",
       "      <td>-0.097613</td>\n",
       "      <td>1.000000</td>\n",
       "      <td>5.935514e-01</td>\n",
       "    </tr>\n",
       "    <tr>\n",
       "      <th>number_children</th>\n",
       "      <td>0.034925</td>\n",
       "      <td>-0.201691</td>\n",
       "      <td>-0.200033</td>\n",
       "      <td>-1.726604e-18</td>\n",
       "      <td>0.034239</td>\n",
       "      <td>-0.135151</td>\n",
       "      <td>0.111746</td>\n",
       "      <td>0.068806</td>\n",
       "      <td>0.081259</td>\n",
       "      <td>0.045778</td>\n",
       "      <td>0.154014</td>\n",
       "      <td>0.017549</td>\n",
       "      <td>0.107475</td>\n",
       "      <td>-0.009308</td>\n",
       "      <td>-0.169843</td>\n",
       "      <td>-0.135097</td>\n",
       "      <td>-0.051019</td>\n",
       "      <td>0.593551</td>\n",
       "      <td>1.000000e+00</td>\n",
       "    </tr>\n",
       "  </tbody>\n",
       "</table>\n",
       "</div>"
      ],
      "text/plain": [
       "                       COV_threat_personal  COV_threat_others  \\\n",
       "COV_threat_personal               1.000000           0.704752   \n",
       "COV_threat_others                 0.704752           1.000000   \n",
       "adherence_recom                   0.335623           0.323766   \n",
       "more_time_hobbies_LD             -0.179433          -0.107420   \n",
       "more_time_TV_LD                   0.038513           0.076018   \n",
       "more_time_internet_LD             0.165943           0.155031   \n",
       "avg_sleep_preCOV                  0.194097           0.146246   \n",
       "avg_sleep_postCOV                 0.037548           0.199344   \n",
       "avg_cig_preCOV                    0.031748           0.010565   \n",
       "avg_cig_postCOV                   0.061776           0.047975   \n",
       "avg_phy-act_preCOV               -0.122767          -0.234703   \n",
       "avg_phy-act_postCOV              -0.041907          -0.068264   \n",
       "avg_hobbies_preCOV                0.096313          -0.014570   \n",
       "avg_hobbies_postCOV              -0.021372           0.037405   \n",
       "avg_work_preCOV                  -0.046547          -0.074985   \n",
       "avg_work_postCOV                  0.037992          -0.068698   \n",
       "loss_income_%                    -0.128531          -0.042659   \n",
       "Age                               0.121753          -0.089757   \n",
       "number_children                   0.034925          -0.201691   \n",
       "\n",
       "                       adherence_recom  more_time_hobbies_LD  more_time_TV_LD  \\\n",
       "COV_threat_personal           0.335623         -1.794333e-01         0.038513   \n",
       "COV_threat_others             0.323766         -1.074204e-01         0.076018   \n",
       "adherence_recom               1.000000          2.843913e-01         0.245977   \n",
       "more_time_hobbies_LD          0.284391          1.000000e+00         0.347067   \n",
       "more_time_TV_LD               0.245977          3.470671e-01         1.000000   \n",
       "more_time_internet_LD         0.287766          3.049555e-01         0.479201   \n",
       "avg_sleep_preCOV              0.082309          1.791212e-01         0.135748   \n",
       "avg_sleep_postCOV             0.327396          4.235652e-01         0.279877   \n",
       "avg_cig_preCOV               -0.036569          3.159334e-02        -0.094252   \n",
       "avg_cig_postCOV              -0.036819          3.989279e-02        -0.165283   \n",
       "avg_phy-act_preCOV           -0.280561          1.122749e-02        -0.296331   \n",
       "avg_phy-act_postCOV          -0.058771          1.741669e-01        -0.235633   \n",
       "avg_hobbies_preCOV           -0.106271          8.396204e-02        -0.125129   \n",
       "avg_hobbies_postCOV          -0.076102          3.651624e-01         0.093380   \n",
       "avg_work_preCOV               0.049826          7.318257e-02        -0.028236   \n",
       "avg_work_postCOV              0.218682          4.833596e-02         0.017483   \n",
       "loss_income_%                -0.193910          1.566012e-02        -0.136680   \n",
       "Age                          -0.028660          2.278635e-01         0.345856   \n",
       "number_children              -0.200033         -1.726604e-18         0.034239   \n",
       "\n",
       "                       more_time_internet_LD  avg_sleep_preCOV  \\\n",
       "COV_threat_personal                 0.165943          0.194097   \n",
       "COV_threat_others                   0.155031          0.146246   \n",
       "adherence_recom                     0.287766          0.082309   \n",
       "more_time_hobbies_LD                0.304956          0.179121   \n",
       "more_time_TV_LD                     0.479201          0.135748   \n",
       "more_time_internet_LD               1.000000          0.190734   \n",
       "avg_sleep_preCOV                    0.190734          1.000000   \n",
       "avg_sleep_postCOV                   0.147029          0.585932   \n",
       "avg_cig_preCOV                      0.047730          0.033384   \n",
       "avg_cig_postCOV                     0.079765          0.041585   \n",
       "avg_phy-act_preCOV                 -0.223309          0.045055   \n",
       "avg_phy-act_postCOV                -0.165651          0.341439   \n",
       "avg_hobbies_preCOV                  0.062572         -0.005538   \n",
       "avg_hobbies_postCOV                 0.251941          0.158624   \n",
       "avg_work_preCOV                    -0.127170         -0.104804   \n",
       "avg_work_postCOV                   -0.091762         -0.199247   \n",
       "loss_income_%                      -0.013366         -0.094428   \n",
       "Age                                 0.051944          0.072801   \n",
       "number_children                    -0.135151          0.111746   \n",
       "\n",
       "                       avg_sleep_postCOV  avg_cig_preCOV  avg_cig_postCOV  \\\n",
       "COV_threat_personal             0.037548        0.031748         0.061776   \n",
       "COV_threat_others               0.199344        0.010565         0.047975   \n",
       "adherence_recom                 0.327396       -0.036569        -0.036819   \n",
       "more_time_hobbies_LD            0.423565        0.031593         0.039893   \n",
       "more_time_TV_LD                 0.279877       -0.094252        -0.165283   \n",
       "more_time_internet_LD           0.147029        0.047730         0.079765   \n",
       "avg_sleep_preCOV                0.585932        0.033384         0.041585   \n",
       "avg_sleep_postCOV               1.000000       -0.023982        -0.007165   \n",
       "avg_cig_preCOV                 -0.023982        1.000000         0.955343   \n",
       "avg_cig_postCOV                -0.007165        0.955343         1.000000   \n",
       "avg_phy-act_preCOV             -0.073591        0.038534         0.070656   \n",
       "avg_phy-act_postCOV             0.143653       -0.121025        -0.117461   \n",
       "avg_hobbies_preCOV             -0.185496        0.058634         0.133880   \n",
       "avg_hobbies_postCOV             0.067518       -0.102023        -0.064446   \n",
       "avg_work_preCOV                 0.040368       -0.059581        -0.106327   \n",
       "avg_work_postCOV               -0.131083        0.029812        -0.040558   \n",
       "loss_income_%                  -0.042341       -0.098671        -0.099346   \n",
       "Age                             0.081694        0.102445         0.065239   \n",
       "number_children                 0.068806        0.081259         0.045778   \n",
       "\n",
       "                       avg_phy-act_preCOV  avg_phy-act_postCOV  \\\n",
       "COV_threat_personal             -0.122767            -0.041907   \n",
       "COV_threat_others               -0.234703            -0.068264   \n",
       "adherence_recom                 -0.280561            -0.058771   \n",
       "more_time_hobbies_LD             0.011227             0.174167   \n",
       "more_time_TV_LD                 -0.296331            -0.235633   \n",
       "more_time_internet_LD           -0.223309            -0.165651   \n",
       "avg_sleep_preCOV                 0.045055             0.341439   \n",
       "avg_sleep_postCOV               -0.073591             0.143653   \n",
       "avg_cig_preCOV                   0.038534            -0.121025   \n",
       "avg_cig_postCOV                  0.070656            -0.117461   \n",
       "avg_phy-act_preCOV               1.000000             0.578235   \n",
       "avg_phy-act_postCOV              0.578235             1.000000   \n",
       "avg_hobbies_preCOV               0.301054             0.222250   \n",
       "avg_hobbies_postCOV              0.348190             0.385584   \n",
       "avg_work_preCOV                 -0.059517             0.045738   \n",
       "avg_work_postCOV                -0.104712             0.001053   \n",
       "loss_income_%                    0.112437            -0.098122   \n",
       "Age                              0.014687             0.003547   \n",
       "number_children                  0.154014             0.017549   \n",
       "\n",
       "                       avg_hobbies_preCOV  avg_hobbies_postCOV  \\\n",
       "COV_threat_personal              0.096313            -0.021372   \n",
       "COV_threat_others               -0.014570             0.037405   \n",
       "adherence_recom                 -0.106271            -0.076102   \n",
       "more_time_hobbies_LD             0.083962             0.365162   \n",
       "more_time_TV_LD                 -0.125129             0.093380   \n",
       "more_time_internet_LD            0.062572             0.251941   \n",
       "avg_sleep_preCOV                -0.005538             0.158624   \n",
       "avg_sleep_postCOV               -0.185496             0.067518   \n",
       "avg_cig_preCOV                   0.058634            -0.102023   \n",
       "avg_cig_postCOV                  0.133880            -0.064446   \n",
       "avg_phy-act_preCOV               0.301054             0.348190   \n",
       "avg_phy-act_postCOV              0.222250             0.385584   \n",
       "avg_hobbies_preCOV               1.000000             0.642623   \n",
       "avg_hobbies_postCOV              0.642623             1.000000   \n",
       "avg_work_preCOV                 -0.137675            -0.127877   \n",
       "avg_work_postCOV                -0.127267            -0.179355   \n",
       "loss_income_%                   -0.120191            -0.020733   \n",
       "Age                              0.313316             0.142614   \n",
       "number_children                  0.107475            -0.009308   \n",
       "\n",
       "                       avg_work_preCOV  avg_work_postCOV  loss_income_%  \\\n",
       "COV_threat_personal          -0.046547          0.037992      -0.128531   \n",
       "COV_threat_others            -0.074985         -0.068698      -0.042659   \n",
       "adherence_recom               0.049826          0.218682      -0.193910   \n",
       "more_time_hobbies_LD          0.073183          0.048336       0.015660   \n",
       "more_time_TV_LD              -0.028236          0.017483      -0.136680   \n",
       "more_time_internet_LD        -0.127170         -0.091762      -0.013366   \n",
       "avg_sleep_preCOV             -0.104804         -0.199247      -0.094428   \n",
       "avg_sleep_postCOV             0.040368         -0.131083      -0.042341   \n",
       "avg_cig_preCOV               -0.059581          0.029812      -0.098671   \n",
       "avg_cig_postCOV              -0.106327         -0.040558      -0.099346   \n",
       "avg_phy-act_preCOV           -0.059517         -0.104712       0.112437   \n",
       "avg_phy-act_postCOV           0.045738          0.001053      -0.098122   \n",
       "avg_hobbies_preCOV           -0.137675         -0.127267      -0.120191   \n",
       "avg_hobbies_postCOV          -0.127877         -0.179355      -0.020733   \n",
       "avg_work_preCOV               1.000000          0.810416      -0.098589   \n",
       "avg_work_postCOV              0.810416          1.000000      -0.191119   \n",
       "loss_income_%                -0.098589         -0.191119       1.000000   \n",
       "Age                          -0.127478         -0.050710      -0.097613   \n",
       "number_children              -0.169843         -0.135097      -0.051019   \n",
       "\n",
       "                            Age  number_children  \n",
       "COV_threat_personal    0.121753     3.492505e-02  \n",
       "COV_threat_others     -0.089757    -2.016913e-01  \n",
       "adherence_recom       -0.028660    -2.000334e-01  \n",
       "more_time_hobbies_LD   0.227864    -1.726604e-18  \n",
       "more_time_TV_LD        0.345856     3.423940e-02  \n",
       "more_time_internet_LD  0.051944    -1.351508e-01  \n",
       "avg_sleep_preCOV       0.072801     1.117459e-01  \n",
       "avg_sleep_postCOV      0.081694     6.880586e-02  \n",
       "avg_cig_preCOV         0.102445     8.125930e-02  \n",
       "avg_cig_postCOV        0.065239     4.577798e-02  \n",
       "avg_phy-act_preCOV     0.014687     1.540136e-01  \n",
       "avg_phy-act_postCOV    0.003547     1.754911e-02  \n",
       "avg_hobbies_preCOV     0.313316     1.074746e-01  \n",
       "avg_hobbies_postCOV    0.142614    -9.307506e-03  \n",
       "avg_work_preCOV       -0.127478    -1.698433e-01  \n",
       "avg_work_postCOV      -0.050710    -1.350965e-01  \n",
       "loss_income_%         -0.097613    -5.101935e-02  \n",
       "Age                    1.000000     5.935514e-01  \n",
       "number_children        0.593551     1.000000e+00  "
      ]
     },
     "execution_count": 502,
     "metadata": {},
     "output_type": "execute_result"
    }
   ],
   "source": [
    "#the correlation is a number that goes from -1 to 1\n",
    "# 1 - very strong positive correlation: if one variable increases, so does the other\n",
    "# 0 - no correlation\n",
    "# -1 - very strong negative correlation: if one variable increases, the other decreases\n",
    "\n",
    "correlations = data.corr()\n",
    "correlations"
   ]
  },
  {
   "cell_type": "code",
   "execution_count": 503,
   "metadata": {},
   "outputs": [],
   "source": [
    "# I have to change some things: number of children turn into categorical\n",
    "# turn city of residence into country of residence (bigger groups per value)\n",
    "# does not show correlation with categorical variables"
   ]
  },
  {
   "cell_type": "code",
   "execution_count": 504,
   "metadata": {},
   "outputs": [
    {
     "data": {
      "image/png": "[encoded data removed]",
      "text/plain": [
       "<Figure size 1440x720 with 2 Axes>"
      ]
     },
     "metadata": {},
     "output_type": "display_data"
    }
   ],
   "source": [
    "fig, ax = plt.subplots(figsize=(20,10))\n",
    "sns.heatmap(data.corr(),annot=True, xticklabels = data.corr().columns,yticklabels = data.corr().columns)\n",
    "plt.show()"
   ]
  },
  {
   "cell_type": "code",
   "execution_count": null,
   "metadata": {},
   "outputs": [],
   "source": [
    "data2 = data.pivot_table(index = ['Category'])"
   ]
  },
  {
   "cell_type": "code",
   "execution_count": null,
   "metadata": {},
   "outputs": [],
   "source": [
    "fig, ax = plt.subplots(figsize=(20,10))\n",
    "sns.heatmap(data.corr(),annot=True, xticklabels = data.corr().columns,yticklabels = data.corr().columns)\n",
    "plt.show()"
   ]
  },
  {
   "cell_type": "markdown",
   "metadata": {},
   "source": [
    "# Dataframes for dependent t tests"
   ]
  },
  {
   "cell_type": "markdown",
   "metadata": {},
   "source": [
    "## Hours of sleep per night pre and post Covid-19"
   ]
  },
  {
   "cell_type": "code",
   "execution_count": 505,
   "metadata": {},
   "outputs": [
    {
     "data": {
      "text/html": [
       "<div>\n",
       "<style scoped>\n",
       "    .dataframe tbody tr th:only-of-type {\n",
       "        vertical-align: middle;\n",
       "    }\n",
       "\n",
       "    .dataframe tbody tr th {\n",
       "        vertical-align: top;\n",
       "    }\n",
       "\n",
       "    .dataframe thead th {\n",
       "        text-align: right;\n",
       "    }\n",
       "</style>\n",
       "<table border=\"1\" class=\"dataframe\">\n",
       "  <thead>\n",
       "    <tr style=\"text-align: right;\">\n",
       "      <th></th>\n",
       "      <th>respondent_id</th>\n",
       "      <th>A</th>\n",
       "      <th>D</th>\n",
       "      <th>Delta</th>\n",
       "    </tr>\n",
       "  </thead>\n",
       "  <tbody>\n",
       "    <tr>\n",
       "      <th>0</th>\n",
       "      <td>1</td>\n",
       "      <td>7</td>\n",
       "      <td>8</td>\n",
       "      <td>1</td>\n",
       "    </tr>\n",
       "    <tr>\n",
       "      <th>1</th>\n",
       "      <td>2</td>\n",
       "      <td>8</td>\n",
       "      <td>6</td>\n",
       "      <td>-2</td>\n",
       "    </tr>\n",
       "    <tr>\n",
       "      <th>2</th>\n",
       "      <td>3</td>\n",
       "      <td>7</td>\n",
       "      <td>8</td>\n",
       "      <td>1</td>\n",
       "    </tr>\n",
       "    <tr>\n",
       "      <th>3</th>\n",
       "      <td>4</td>\n",
       "      <td>8</td>\n",
       "      <td>8</td>\n",
       "      <td>0</td>\n",
       "    </tr>\n",
       "    <tr>\n",
       "      <th>4</th>\n",
       "      <td>5</td>\n",
       "      <td>8</td>\n",
       "      <td>8</td>\n",
       "      <td>0</td>\n",
       "    </tr>\n",
       "  </tbody>\n",
       "</table>\n",
       "</div>"
      ],
      "text/plain": [
       "  respondent_id  A  D  Delta\n",
       "0             1  7  8      1\n",
       "1             2  8  6     -2\n",
       "2             3  7  8      1\n",
       "3             4  8  8      0\n",
       "4             5  8  8      0"
      ]
     },
     "execution_count": 505,
     "metadata": {},
     "output_type": "execute_result"
    }
   ],
   "source": [
    "# create dictionary with data from dataframe data\n",
    "hours_sleep = { 'respondent_id' : data['respondent_id'],\n",
    "               'A' : data['avg_sleep_preCOV'],\n",
    "               'D' : data['avg_sleep_postCOV']}\n",
    "\n",
    "# turn dictionary into dataframe\n",
    "hours_sleep = pd.DataFrame(hours_sleep)\n",
    "\n",
    "# create new columns Delta and assign D-A value\n",
    "hours_sleep['Delta'] = hours_sleep['D'] - hours_sleep['A']\n",
    "\n",
    "hours_sleep.head()"
   ]
  },
  {
   "cell_type": "code",
   "execution_count": 506,
   "metadata": {},
   "outputs": [
    {
     "data": {
      "text/plain": [
       "respondent_id    2.374169e+92\n",
       "A                7.134615e+00\n",
       "D                7.269231e+00\n",
       "Delta            1.346154e-01\n",
       "dtype: float64"
      ]
     },
     "execution_count": 506,
     "metadata": {},
     "output_type": "execute_result"
    }
   ],
   "source": [
    "hours_sleep.mean()"
   ]
  },
  {
   "cell_type": "code",
   "execution_count": 507,
   "metadata": {},
   "outputs": [
    {
     "data": {
      "text/plain": [
       "A        1.25290\n",
       "D        1.28514\n",
       "Delta    1.15519\n",
       "dtype: float64"
      ]
     },
     "execution_count": 507,
     "metadata": {},
     "output_type": "execute_result"
    }
   ],
   "source": [
    "hours_sleep.std()"
   ]
  },
  {
   "cell_type": "code",
   "execution_count": 508,
   "metadata": {},
   "outputs": [
    {
     "data": {
      "text/plain": [
       "7     21\n",
       "8     14\n",
       "6      9\n",
       "9      4\n",
       "5      2\n",
       "10     1\n",
       "2      1\n",
       "Name: A, dtype: int64"
      ]
     },
     "execution_count": 508,
     "metadata": {},
     "output_type": "execute_result"
    }
   ],
   "source": [
    "hours_sleep['A'].value_counts()"
   ]
  },
  {
   "cell_type": "code",
   "execution_count": 509,
   "metadata": {},
   "outputs": [
    {
     "data": {
      "text/plain": [
       "8    22\n",
       "7    15\n",
       "9     5\n",
       "6     5\n",
       "5     4\n",
       "2     1\n",
       "Name: D, dtype: int64"
      ]
     },
     "execution_count": 509,
     "metadata": {},
     "output_type": "execute_result"
    }
   ],
   "source": [
    "hours_sleep['D'].value_counts()"
   ]
  },
  {
   "cell_type": "markdown",
   "metadata": {},
   "source": [
    "## Number of cigaretters per day pre and post Covid-19"
   ]
  },
  {
   "cell_type": "code",
   "execution_count": 510,
   "metadata": {},
   "outputs": [
    {
     "data": {
      "text/html": [
       "<div>\n",
       "<style scoped>\n",
       "    .dataframe tbody tr th:only-of-type {\n",
       "        vertical-align: middle;\n",
       "    }\n",
       "\n",
       "    .dataframe tbody tr th {\n",
       "        vertical-align: top;\n",
       "    }\n",
       "\n",
       "    .dataframe thead th {\n",
       "        text-align: right;\n",
       "    }\n",
       "</style>\n",
       "<table border=\"1\" class=\"dataframe\">\n",
       "  <thead>\n",
       "    <tr style=\"text-align: right;\">\n",
       "      <th></th>\n",
       "      <th>respondent_id</th>\n",
       "      <th>A</th>\n",
       "      <th>D</th>\n",
       "      <th>Delta</th>\n",
       "    </tr>\n",
       "  </thead>\n",
       "  <tbody>\n",
       "    <tr>\n",
       "      <th>0</th>\n",
       "      <td>1</td>\n",
       "      <td>0</td>\n",
       "      <td>0</td>\n",
       "      <td>0</td>\n",
       "    </tr>\n",
       "    <tr>\n",
       "      <th>1</th>\n",
       "      <td>2</td>\n",
       "      <td>0</td>\n",
       "      <td>0</td>\n",
       "      <td>0</td>\n",
       "    </tr>\n",
       "    <tr>\n",
       "      <th>2</th>\n",
       "      <td>3</td>\n",
       "      <td>0</td>\n",
       "      <td>0</td>\n",
       "      <td>0</td>\n",
       "    </tr>\n",
       "    <tr>\n",
       "      <th>3</th>\n",
       "      <td>4</td>\n",
       "      <td>0</td>\n",
       "      <td>0</td>\n",
       "      <td>0</td>\n",
       "    </tr>\n",
       "    <tr>\n",
       "      <th>4</th>\n",
       "      <td>5</td>\n",
       "      <td>0</td>\n",
       "      <td>0</td>\n",
       "      <td>0</td>\n",
       "    </tr>\n",
       "  </tbody>\n",
       "</table>\n",
       "</div>"
      ],
      "text/plain": [
       "  respondent_id  A  D  Delta\n",
       "0             1  0  0      0\n",
       "1             2  0  0      0\n",
       "2             3  0  0      0\n",
       "3             4  0  0      0\n",
       "4             5  0  0      0"
      ]
     },
     "execution_count": 510,
     "metadata": {},
     "output_type": "execute_result"
    }
   ],
   "source": [
    "# create dictionary with data from dataframe data\n",
    "n_cig = { 'respondent_id' : data['respondent_id'],\n",
    "               'A' : data['avg_cig_preCOV'],\n",
    "               'D' : data['avg_cig_postCOV']}\n",
    "\n",
    "# turn dictionary into dataframe\n",
    "n_cig = pd.DataFrame(n_cig)\n",
    "\n",
    "# create new columns Delta and assign D-A value\n",
    "n_cig['Delta'] = n_cig['D'] - n_cig['A']\n",
    "\n",
    "n_cig.head()"
   ]
  },
  {
   "cell_type": "code",
   "execution_count": 511,
   "metadata": {},
   "outputs": [
    {
     "data": {
      "text/plain": [
       "respondent_id    2.374169e+92\n",
       "A                7.884615e-01\n",
       "D                9.615385e-01\n",
       "Delta            1.730769e-01\n",
       "dtype: float64"
      ]
     },
     "execution_count": 511,
     "metadata": {},
     "output_type": "execute_result"
    }
   ],
   "source": [
    "n_cig.mean()"
   ]
  },
  {
   "cell_type": "code",
   "execution_count": 512,
   "metadata": {},
   "outputs": [
    {
     "data": {
      "text/plain": [
       "A        2.569325\n",
       "D        3.112036\n",
       "Delta    1.004327\n",
       "dtype: float64"
      ]
     },
     "execution_count": 512,
     "metadata": {},
     "output_type": "execute_result"
    }
   ],
   "source": [
    "n_cig.std()"
   ]
  },
  {
   "cell_type": "code",
   "execution_count": 513,
   "metadata": {},
   "outputs": [
    {
     "data": {
      "text/plain": [
       "0     46\n",
       "4      2\n",
       "13     1\n",
       "10     1\n",
       "8      1\n",
       "2      1\n",
       "Name: A, dtype: int64"
      ]
     },
     "execution_count": 513,
     "metadata": {},
     "output_type": "execute_result"
    }
   ],
   "source": [
    "n_cig['A'].value_counts()"
   ]
  },
  {
   "cell_type": "code",
   "execution_count": 514,
   "metadata": {},
   "outputs": [
    {
     "data": {
      "text/plain": [
       "0     46\n",
       "8      2\n",
       "17     1\n",
       "10     1\n",
       "4      1\n",
       "3      1\n",
       "Name: D, dtype: int64"
      ]
     },
     "execution_count": 514,
     "metadata": {},
     "output_type": "execute_result"
    }
   ],
   "source": [
    "# most people remain the same, as they are not smokers; those who are seem to be smoking more\n",
    "\n",
    "n_cig['D'].value_counts()"
   ]
  },
  {
   "cell_type": "markdown",
   "metadata": {},
   "source": [
    "## Hours of physical activity per week pre and post Covid-19"
   ]
  },
  {
   "cell_type": "code",
   "execution_count": 515,
   "metadata": {},
   "outputs": [
    {
     "data": {
      "text/html": [
       "<div>\n",
       "<style scoped>\n",
       "    .dataframe tbody tr th:only-of-type {\n",
       "        vertical-align: middle;\n",
       "    }\n",
       "\n",
       "    .dataframe tbody tr th {\n",
       "        vertical-align: top;\n",
       "    }\n",
       "\n",
       "    .dataframe thead th {\n",
       "        text-align: right;\n",
       "    }\n",
       "</style>\n",
       "<table border=\"1\" class=\"dataframe\">\n",
       "  <thead>\n",
       "    <tr style=\"text-align: right;\">\n",
       "      <th></th>\n",
       "      <th>respondent_id</th>\n",
       "      <th>A</th>\n",
       "      <th>D</th>\n",
       "      <th>Delta</th>\n",
       "    </tr>\n",
       "  </thead>\n",
       "  <tbody>\n",
       "    <tr>\n",
       "      <th>0</th>\n",
       "      <td>1</td>\n",
       "      <td>0</td>\n",
       "      <td>0</td>\n",
       "      <td>0</td>\n",
       "    </tr>\n",
       "    <tr>\n",
       "      <th>1</th>\n",
       "      <td>2</td>\n",
       "      <td>2</td>\n",
       "      <td>0</td>\n",
       "      <td>-2</td>\n",
       "    </tr>\n",
       "    <tr>\n",
       "      <th>2</th>\n",
       "      <td>3</td>\n",
       "      <td>0</td>\n",
       "      <td>0</td>\n",
       "      <td>0</td>\n",
       "    </tr>\n",
       "    <tr>\n",
       "      <th>3</th>\n",
       "      <td>4</td>\n",
       "      <td>2</td>\n",
       "      <td>4</td>\n",
       "      <td>2</td>\n",
       "    </tr>\n",
       "    <tr>\n",
       "      <th>4</th>\n",
       "      <td>5</td>\n",
       "      <td>2</td>\n",
       "      <td>0</td>\n",
       "      <td>-2</td>\n",
       "    </tr>\n",
       "  </tbody>\n",
       "</table>\n",
       "</div>"
      ],
      "text/plain": [
       "  respondent_id  A  D  Delta\n",
       "0             1  0  0      0\n",
       "1             2  2  0     -2\n",
       "2             3  0  0      0\n",
       "3             4  2  4      2\n",
       "4             5  2  0     -2"
      ]
     },
     "execution_count": 515,
     "metadata": {},
     "output_type": "execute_result"
    }
   ],
   "source": [
    "# create dictionary with data from dataframe data\n",
    "hours_physact = { 'respondent_id' : data['respondent_id'],\n",
    "               'A' : data['avg_phy-act_preCOV'],\n",
    "               'D' : data['avg_phy-act_postCOV']}\n",
    "\n",
    "# turn dictionary into dataframe\n",
    "hours_physact = pd.DataFrame(hours_physact)\n",
    "\n",
    "# create new columns Delta and assign D-A value\n",
    "hours_physact['Delta'] = hours_physact['D'] - hours_physact['A']\n",
    "\n",
    "hours_physact.head()"
   ]
  },
  {
   "cell_type": "code",
   "execution_count": 516,
   "metadata": {},
   "outputs": [
    {
     "data": {
      "text/plain": [
       "respondent_id    2.374169e+92\n",
       "A                2.807692e+00\n",
       "D                2.711538e+00\n",
       "Delta           -9.615385e-02\n",
       "dtype: float64"
      ]
     },
     "execution_count": 516,
     "metadata": {},
     "output_type": "execute_result"
    }
   ],
   "source": [
    "hours_physact.mean()"
   ]
  },
  {
   "cell_type": "code",
   "execution_count": 517,
   "metadata": {},
   "outputs": [
    {
     "data": {
      "text/plain": [
       "A        2.551727\n",
       "D        2.659327\n",
       "Delta    2.394926\n",
       "dtype: float64"
      ]
     },
     "execution_count": 517,
     "metadata": {},
     "output_type": "execute_result"
    }
   ],
   "source": [
    "hours_physact.std()"
   ]
  },
  {
   "cell_type": "code",
   "execution_count": 518,
   "metadata": {},
   "outputs": [
    {
     "data": {
      "text/plain": [
       "0     12\n",
       "2     11\n",
       "4      7\n",
       "1      6\n",
       "6      5\n",
       "5      4\n",
       "3      4\n",
       "10     2\n",
       "8      1\n",
       "Name: A, dtype: int64"
      ]
     },
     "execution_count": 518,
     "metadata": {},
     "output_type": "execute_result"
    }
   ],
   "source": [
    "hours_physact['A'].value_counts()"
   ]
  },
  {
   "cell_type": "code",
   "execution_count": 519,
   "metadata": {},
   "outputs": [
    {
     "data": {
      "text/plain": [
       "0     13\n",
       "1     10\n",
       "2      7\n",
       "4      6\n",
       "6      5\n",
       "3      4\n",
       "7      2\n",
       "5      2\n",
       "10     1\n",
       "9      1\n",
       "8      1\n",
       "Name: D, dtype: int64"
      ]
     },
     "execution_count": 519,
     "metadata": {},
     "output_type": "execute_result"
    }
   ],
   "source": [
    "# more people give lower values\n",
    "\n",
    "hours_physact['D'].value_counts()"
   ]
  },
  {
   "cell_type": "markdown",
   "metadata": {},
   "source": [
    "## Hours dedicated to hobbies per week pre and post Covid-19 "
   ]
  },
  {
   "cell_type": "code",
   "execution_count": 520,
   "metadata": {},
   "outputs": [
    {
     "data": {
      "text/html": [
       "<div>\n",
       "<style scoped>\n",
       "    .dataframe tbody tr th:only-of-type {\n",
       "        vertical-align: middle;\n",
       "    }\n",
       "\n",
       "    .dataframe tbody tr th {\n",
       "        vertical-align: top;\n",
       "    }\n",
       "\n",
       "    .dataframe thead th {\n",
       "        text-align: right;\n",
       "    }\n",
       "</style>\n",
       "<table border=\"1\" class=\"dataframe\">\n",
       "  <thead>\n",
       "    <tr style=\"text-align: right;\">\n",
       "      <th></th>\n",
       "      <th>respondent_id</th>\n",
       "      <th>A</th>\n",
       "      <th>D</th>\n",
       "      <th>Delta</th>\n",
       "    </tr>\n",
       "  </thead>\n",
       "  <tbody>\n",
       "    <tr>\n",
       "      <th>0</th>\n",
       "      <td>1</td>\n",
       "      <td>6</td>\n",
       "      <td>6</td>\n",
       "      <td>0</td>\n",
       "    </tr>\n",
       "    <tr>\n",
       "      <th>1</th>\n",
       "      <td>2</td>\n",
       "      <td>6</td>\n",
       "      <td>5</td>\n",
       "      <td>-1</td>\n",
       "    </tr>\n",
       "    <tr>\n",
       "      <th>2</th>\n",
       "      <td>3</td>\n",
       "      <td>1</td>\n",
       "      <td>7</td>\n",
       "      <td>6</td>\n",
       "    </tr>\n",
       "    <tr>\n",
       "      <th>3</th>\n",
       "      <td>4</td>\n",
       "      <td>4</td>\n",
       "      <td>4</td>\n",
       "      <td>0</td>\n",
       "    </tr>\n",
       "    <tr>\n",
       "      <th>4</th>\n",
       "      <td>5</td>\n",
       "      <td>2</td>\n",
       "      <td>2</td>\n",
       "      <td>0</td>\n",
       "    </tr>\n",
       "  </tbody>\n",
       "</table>\n",
       "</div>"
      ],
      "text/plain": [
       "  respondent_id  A  D  Delta\n",
       "0             1  6  6      0\n",
       "1             2  6  5     -1\n",
       "2             3  1  7      6\n",
       "3             4  4  4      0\n",
       "4             5  2  2      0"
      ]
     },
     "execution_count": 520,
     "metadata": {},
     "output_type": "execute_result"
    }
   ],
   "source": [
    "# create dictionary with data from dataframe data\n",
    "hours_hobbies = { 'respondent_id' : data['respondent_id'],\n",
    "               'A' : data['avg_hobbies_preCOV'],\n",
    "               'D' : data['avg_hobbies_postCOV']}\n",
    "\n",
    "# turn dictionary into dataframe\n",
    "hours_hobbies = pd.DataFrame(hours_hobbies)\n",
    "\n",
    "# create new columns Delta and assign D-A value\n",
    "hours_hobbies['Delta'] = hours_hobbies['D'] - hours_hobbies['A']\n",
    "\n",
    "hours_hobbies.head()"
   ]
  },
  {
   "cell_type": "code",
   "execution_count": 521,
   "metadata": {},
   "outputs": [
    {
     "data": {
      "text/plain": [
       "respondent_id    2.374169e+92\n",
       "A                3.980769e+00\n",
       "D                4.653846e+00\n",
       "Delta            6.730769e-01\n",
       "dtype: float64"
      ]
     },
     "execution_count": 521,
     "metadata": {},
     "output_type": "execute_result"
    }
   ],
   "source": [
    "hours_hobbies.mean()"
   ]
  },
  {
   "cell_type": "code",
   "execution_count": 522,
   "metadata": {},
   "outputs": [
    {
     "data": {
      "text/plain": [
       "A        2.445407\n",
       "D        2.902903\n",
       "Delta    2.298517\n",
       "dtype: float64"
      ]
     },
     "execution_count": 522,
     "metadata": {},
     "output_type": "execute_result"
    }
   ],
   "source": [
    "hours_hobbies.std()"
   ]
  },
  {
   "cell_type": "code",
   "execution_count": 523,
   "metadata": {},
   "outputs": [
    {
     "data": {
      "text/plain": [
       "4     9\n",
       "3     9\n",
       "2     9\n",
       "5     7\n",
       "6     5\n",
       "0     4\n",
       "10    3\n",
       "7     3\n",
       "1     2\n",
       "8     1\n",
       "Name: A, dtype: int64"
      ]
     },
     "execution_count": 523,
     "metadata": {},
     "output_type": "execute_result"
    }
   ],
   "source": [
    "hours_hobbies['A'].value_counts()"
   ]
  },
  {
   "cell_type": "code",
   "execution_count": 524,
   "metadata": {},
   "outputs": [
    {
     "data": {
      "text/plain": [
       "2     8\n",
       "5     7\n",
       "3     7\n",
       "6     6\n",
       "10    5\n",
       "7     5\n",
       "1     4\n",
       "8     3\n",
       "4     3\n",
       "0     3\n",
       "9     1\n",
       "Name: D, dtype: int64"
      ]
     },
     "execution_count": 524,
     "metadata": {},
     "output_type": "execute_result"
    }
   ],
   "source": [
    "hours_hobbies['D'].value_counts()"
   ]
  },
  {
   "cell_type": "markdown",
   "metadata": {},
   "source": [
    "## Minutes of commute per week pre and post Covid-19 "
   ]
  },
  {
   "cell_type": "code",
   "execution_count": 525,
   "metadata": {},
   "outputs": [],
   "source": [
    "# This is a categorical value"
   ]
  },
  {
   "cell_type": "code",
   "execution_count": 526,
   "metadata": {},
   "outputs": [
    {
     "data": {
      "text/plain": [
       "Between 30 and 60 minutes     23\n",
       "Less than 30 minutes          15\n",
       "Between 60 and 90 minutes     10\n",
       "Between 90 and 120 minutes     2\n",
       "More than 120 minutes          2\n",
       "Name: avg_commute_preCOV, dtype: int64"
      ]
     },
     "execution_count": 526,
     "metadata": {},
     "output_type": "execute_result"
    }
   ],
   "source": [
    "data['avg_commute_preCOV'].value_counts()"
   ]
  },
  {
   "cell_type": "code",
   "execution_count": 527,
   "metadata": {},
   "outputs": [
    {
     "data": {
      "text/plain": [
       "Less than 30 minutes          34\n",
       "Between 30 and 60 minutes     12\n",
       "Between 60 and 90 minutes      4\n",
       "Between 90 and 120 minutes     1\n",
       "More than 120 minutes          1\n",
       "Name: avg_commute_postCOV, dtype: int64"
      ]
     },
     "execution_count": 527,
     "metadata": {},
     "output_type": "execute_result"
    }
   ],
   "source": [
    "data['avg_commute_postCOV'].value_counts()"
   ]
  },
  {
   "cell_type": "markdown",
   "metadata": {},
   "source": [
    "## Hours of work per day pre and post Covid-19 "
   ]
  },
  {
   "cell_type": "code",
   "execution_count": 528,
   "metadata": {},
   "outputs": [
    {
     "data": {
      "text/html": [
       "<div>\n",
       "<style scoped>\n",
       "    .dataframe tbody tr th:only-of-type {\n",
       "        vertical-align: middle;\n",
       "    }\n",
       "\n",
       "    .dataframe tbody tr th {\n",
       "        vertical-align: top;\n",
       "    }\n",
       "\n",
       "    .dataframe thead th {\n",
       "        text-align: right;\n",
       "    }\n",
       "</style>\n",
       "<table border=\"1\" class=\"dataframe\">\n",
       "  <thead>\n",
       "    <tr style=\"text-align: right;\">\n",
       "      <th></th>\n",
       "      <th>respondent_id</th>\n",
       "      <th>A</th>\n",
       "      <th>D</th>\n",
       "      <th>Delta</th>\n",
       "    </tr>\n",
       "  </thead>\n",
       "  <tbody>\n",
       "    <tr>\n",
       "      <th>0</th>\n",
       "      <td>1</td>\n",
       "      <td>8</td>\n",
       "      <td>10</td>\n",
       "      <td>2</td>\n",
       "    </tr>\n",
       "    <tr>\n",
       "      <th>1</th>\n",
       "      <td>2</td>\n",
       "      <td>8</td>\n",
       "      <td>8</td>\n",
       "      <td>0</td>\n",
       "    </tr>\n",
       "    <tr>\n",
       "      <th>2</th>\n",
       "      <td>3</td>\n",
       "      <td>7</td>\n",
       "      <td>7</td>\n",
       "      <td>0</td>\n",
       "    </tr>\n",
       "    <tr>\n",
       "      <th>3</th>\n",
       "      <td>4</td>\n",
       "      <td>8</td>\n",
       "      <td>8</td>\n",
       "      <td>0</td>\n",
       "    </tr>\n",
       "    <tr>\n",
       "      <th>4</th>\n",
       "      <td>5</td>\n",
       "      <td>8</td>\n",
       "      <td>7</td>\n",
       "      <td>-1</td>\n",
       "    </tr>\n",
       "  </tbody>\n",
       "</table>\n",
       "</div>"
      ],
      "text/plain": [
       "  respondent_id  A   D  Delta\n",
       "0             1  8  10      2\n",
       "1             2  8   8      0\n",
       "2             3  7   7      0\n",
       "3             4  8   8      0\n",
       "4             5  8   7     -1"
      ]
     },
     "execution_count": 528,
     "metadata": {},
     "output_type": "execute_result"
    }
   ],
   "source": [
    "# create dictionary with data from dataframe data\n",
    "hours_work = { 'respondent_id' : data['respondent_id'],\n",
    "               'A' : data['avg_work_preCOV'],\n",
    "               'D' : data['avg_work_postCOV']}\n",
    "\n",
    "# turn dictionary into dataframe\n",
    "hours_work = pd.DataFrame(hours_work)\n",
    "\n",
    "# create new columns Delta and assign D-A value\n",
    "hours_work['Delta'] = hours_work['D'] - hours_work['A']\n",
    "\n",
    "hours_work.head()"
   ]
  },
  {
   "cell_type": "code",
   "execution_count": 529,
   "metadata": {},
   "outputs": [
    {
     "data": {
      "text/plain": [
       "respondent_id    2.374169e+92\n",
       "A                6.826923e+00\n",
       "D                6.961538e+00\n",
       "Delta            1.346154e-01\n",
       "dtype: float64"
      ]
     },
     "execution_count": 529,
     "metadata": {},
     "output_type": "execute_result"
    }
   ],
   "source": [
    "hours_work.mean()"
   ]
  },
  {
   "cell_type": "code",
   "execution_count": 530,
   "metadata": {},
   "outputs": [
    {
     "data": {
      "text/plain": [
       "A        2.805605\n",
       "D        2.963580\n",
       "Delta    1.782583\n",
       "dtype: float64"
      ]
     },
     "execution_count": 530,
     "metadata": {},
     "output_type": "execute_result"
    }
   ],
   "source": [
    "hours_work.std()"
   ]
  },
  {
   "cell_type": "code",
   "execution_count": 531,
   "metadata": {},
   "outputs": [
    {
     "data": {
      "text/plain": [
       "8     17\n",
       "9      8\n",
       "7      8\n",
       "10     5\n",
       "5      4\n",
       "0      4\n",
       "6      2\n",
       "2      2\n",
       "4      1\n",
       "1      1\n",
       "Name: A, dtype: int64"
      ]
     },
     "execution_count": 531,
     "metadata": {},
     "output_type": "execute_result"
    }
   ],
   "source": [
    "hours_work['A'].value_counts()"
   ]
  },
  {
   "cell_type": "code",
   "execution_count": 532,
   "metadata": {},
   "outputs": [
    {
     "data": {
      "text/plain": [
       "10    12\n",
       "8      9\n",
       "7      8\n",
       "9      6\n",
       "6      5\n",
       "5      4\n",
       "0      4\n",
       "4      2\n",
       "1      2\n",
       "Name: D, dtype: int64"
      ]
     },
     "execution_count": 532,
     "metadata": {},
     "output_type": "execute_result"
    }
   ],
   "source": [
    "# more people reporting 10 hours of work per day\n",
    "# scale really should be higher\n",
    "\n",
    "hours_work['D'].value_counts()"
   ]
  },
  {
   "cell_type": "markdown",
   "metadata": {},
   "source": [
    "# Dependent t tests"
   ]
  },
  {
   "cell_type": "markdown",
   "metadata": {},
   "source": [
    "## hours of sleep pre and post Covid-19"
   ]
  },
  {
   "cell_type": "code",
   "execution_count": 533,
   "metadata": {},
   "outputs": [],
   "source": [
    "hours_sleep\n",
    "\n",
    "from scipy.stats import t\n",
    "\n",
    "# Null hypothesis: no change in mean hours of sleep\n",
    "# Alternative hypothesis: change in mean hours of sleep\n",
    "\n",
    "sample_mean = np.mean(hours_sleep['Delta'])\n",
    "\n",
    "sample_std = np.std(hours_sleep['Delta'])\n",
    "\n",
    "# loc = 0 because we always assume null hypothesis\n",
    "# difference between confidence interval and hypothesis testing\n",
    "t_dist = t(df = len(hours_sleep['Delta']) - 1, loc = 0, scale = sample_std/np.sqrt(len(hours_sleep['Delta'])) )\n",
    "\n",
    "# t_dist = t(df = len(trucks) - 1, loc = sample_mean, scale = sample_std/np.sqrt(len(trucks)))\n"
   ]
  },
  {
   "cell_type": "code",
   "execution_count": 534,
   "metadata": {},
   "outputs": [
    {
     "data": {
      "text/plain": [
       "(-0.3184996368586612, 0.3184996368586612)"
      ]
     },
     "execution_count": 534,
     "metadata": {},
     "output_type": "execute_result"
    }
   ],
   "source": [
    "t_dist.interval(0.95)"
   ]
  },
  {
   "cell_type": "code",
   "execution_count": 535,
   "metadata": {},
   "outputs": [
    {
     "data": {
      "text/html": [
       "<div>\n",
       "<style scoped>\n",
       "    .dataframe tbody tr th:only-of-type {\n",
       "        vertical-align: middle;\n",
       "    }\n",
       "\n",
       "    .dataframe tbody tr th {\n",
       "        vertical-align: top;\n",
       "    }\n",
       "\n",
       "    .dataframe thead th {\n",
       "        text-align: right;\n",
       "    }\n",
       "</style>\n",
       "<table border=\"1\" class=\"dataframe\">\n",
       "  <thead>\n",
       "    <tr style=\"text-align: right;\">\n",
       "      <th></th>\n",
       "      <th>respondent_id</th>\n",
       "      <th>A</th>\n",
       "      <th>D</th>\n",
       "      <th>Delta</th>\n",
       "    </tr>\n",
       "  </thead>\n",
       "  <tbody>\n",
       "    <tr>\n",
       "      <th>0</th>\n",
       "      <td>1</td>\n",
       "      <td>7</td>\n",
       "      <td>8</td>\n",
       "      <td>1</td>\n",
       "    </tr>\n",
       "    <tr>\n",
       "      <th>1</th>\n",
       "      <td>2</td>\n",
       "      <td>8</td>\n",
       "      <td>6</td>\n",
       "      <td>-2</td>\n",
       "    </tr>\n",
       "    <tr>\n",
       "      <th>2</th>\n",
       "      <td>3</td>\n",
       "      <td>7</td>\n",
       "      <td>8</td>\n",
       "      <td>1</td>\n",
       "    </tr>\n",
       "    <tr>\n",
       "      <th>3</th>\n",
       "      <td>4</td>\n",
       "      <td>8</td>\n",
       "      <td>8</td>\n",
       "      <td>0</td>\n",
       "    </tr>\n",
       "    <tr>\n",
       "      <th>4</th>\n",
       "      <td>5</td>\n",
       "      <td>8</td>\n",
       "      <td>8</td>\n",
       "      <td>0</td>\n",
       "    </tr>\n",
       "  </tbody>\n",
       "</table>\n",
       "</div>"
      ],
      "text/plain": [
       "  respondent_id  A  D  Delta\n",
       "0             1  7  8      1\n",
       "1             2  8  6     -2\n",
       "2             3  7  8      1\n",
       "3             4  8  8      0\n",
       "4             5  8  8      0"
      ]
     },
     "execution_count": 535,
     "metadata": {},
     "output_type": "execute_result"
    }
   ],
   "source": [
    "hours_sleep.head()"
   ]
  },
  {
   "cell_type": "code",
   "execution_count": 536,
   "metadata": {},
   "outputs": [
    {
     "data": {
      "text/plain": [
       "0.1346153846153846"
      ]
     },
     "execution_count": 536,
     "metadata": {},
     "output_type": "execute_result"
    }
   ],
   "source": [
    "# Null hypothesis cannot be rejected\n",
    "# No difference in mean hours of sleep per night\n",
    "\n",
    "sample_mean"
   ]
  },
  {
   "cell_type": "code",
   "execution_count": 537,
   "metadata": {},
   "outputs": [],
   "source": [
    "# p_value = 2*(1-t_dist.cdf(sample_mean))"
   ]
  },
  {
   "cell_type": "markdown",
   "metadata": {},
   "source": [
    "## Number of cigaretters per day"
   ]
  },
  {
   "cell_type": "code",
   "execution_count": 579,
   "metadata": {},
   "outputs": [
    {
     "name": "stdout",
     "output_type": "stream",
     "text": [
      "0.17307692307692307\n"
     ]
    },
    {
     "data": {
      "text/plain": [
       "(-0.2769048441768778, 0.2769048441768778)"
      ]
     },
     "execution_count": 579,
     "metadata": {},
     "output_type": "execute_result"
    }
   ],
   "source": [
    "n_cig\n",
    "\n",
    "from scipy.stats import t\n",
    "\n",
    "# Null hypothesis: no change in mean hours of sleep\n",
    "# Alternative hypothesis: change in mean hours of sleep\n",
    "\n",
    "delta = n_cig['Delta']\n",
    "\n",
    "sample_mean = np.mean(n_cig['Delta'])\n",
    "\n",
    "sample_std = np.std(n_cig['Delta'])\n",
    "\n",
    "# loc = 0 because we always assume null hypothesis\n",
    "# difference between confidence interval and hypothesis testing\n",
    "t_dist = t(df = len(delta) - 1, loc = 0, scale = sample_std/np.sqrt(len(delta)) )\n",
    "\n",
    "print(sample_mean)\n",
    "t_dist.interval(0.95)"
   ]
  },
  {
   "cell_type": "code",
   "execution_count": 581,
   "metadata": {},
   "outputs": [
    {
     "data": {
      "text/plain": [
       "0     46\n",
       "8      2\n",
       "17     1\n",
       "10     1\n",
       "4      1\n",
       "3      1\n",
       "Name: avg_cig_postCOV, dtype: int64"
      ]
     },
     "execution_count": 581,
     "metadata": {},
     "output_type": "execute_result"
    }
   ],
   "source": [
    "data['avg_cig_postCOV'].value_counts()"
   ]
  },
  {
   "cell_type": "markdown",
   "metadata": {},
   "source": [
    "## Hours of physical activity per week"
   ]
  },
  {
   "cell_type": "code",
   "execution_count": 585,
   "metadata": {},
   "outputs": [
    {
     "name": "stdout",
     "output_type": "stream",
     "text": [
      "-0.09615384615384616\n"
     ]
    },
    {
     "data": {
      "text/plain": [
       "(-0.6603094965907057, 0.6603094965907057)"
      ]
     },
     "execution_count": 585,
     "metadata": {},
     "output_type": "execute_result"
    }
   ],
   "source": [
    "hours_physact\n",
    "\n",
    "from scipy.stats import t\n",
    "\n",
    "# Null hypothesis: no change in mean hours of sleep\n",
    "# Alternative hypothesis: change in mean hours of sleep\n",
    "\n",
    "delta = hours_physact['Delta']\n",
    "\n",
    "sample_mean = np.mean(hours_physact['Delta'])\n",
    "\n",
    "sample_std = np.std(hours_physact['Delta'])\n",
    "\n",
    "# loc = 0 because we always assume null hypothesis\n",
    "# difference between confidence interval and hypothesis testing\n",
    "t_dist = t(df = len(delta) - 1, loc = 0, scale = sample_std/np.sqrt(len(delta)) )\n",
    "\n",
    "print(sample_mean)\n",
    "t_dist.interval(0.95)"
   ]
  },
  {
   "cell_type": "markdown",
   "metadata": {},
   "source": [
    "## Hours dedicated to hobbies per week"
   ]
  },
  {
   "cell_type": "code",
   "execution_count": 586,
   "metadata": {},
   "outputs": [
    {
     "name": "stdout",
     "output_type": "stream",
     "text": [
      "0.6730769230769231\n"
     ]
    },
    {
     "data": {
      "text/plain": [
       "(-0.6337284826248419, 0.6337284826248419)"
      ]
     },
     "execution_count": 586,
     "metadata": {},
     "output_type": "execute_result"
    }
   ],
   "source": [
    "hours_hobbies\n",
    "\n",
    "from scipy.stats import t\n",
    "\n",
    "# Null hypothesis: no change in mean hours of sleep\n",
    "# Alternative hypothesis: change in mean hours of sleep\n",
    "\n",
    "delta = hours_hobbies['Delta']\n",
    "\n",
    "sample_mean = np.mean(hours_hobbies['Delta'])\n",
    "\n",
    "sample_std = np.std(hours_hobbies['Delta'])\n",
    "\n",
    "# loc = 0 because we always assume null hypothesis\n",
    "# difference between confidence interval and hypothesis testing\n",
    "t_dist = t(df = len(delta) - 1, loc = 0, scale = sample_std/np.sqrt(len(delta)) )\n",
    "\n",
    "print(sample_mean)\n",
    "t_dist.interval(0.95)"
   ]
  },
  {
   "cell_type": "markdown",
   "metadata": {},
   "source": [
    "## Hours of work per day"
   ]
  },
  {
   "cell_type": "code",
   "execution_count": 587,
   "metadata": {},
   "outputs": [
    {
     "name": "stdout",
     "output_type": "stream",
     "text": [
      "0.1346153846153846\n"
     ]
    },
    {
     "data": {
      "text/plain": [
       "(-0.4914792163674422, 0.4914792163674422)"
      ]
     },
     "execution_count": 587,
     "metadata": {},
     "output_type": "execute_result"
    }
   ],
   "source": [
    "hours_work\n",
    "\n",
    "from scipy.stats import t\n",
    "\n",
    "# Null hypothesis: no change in mean hours of sleep\n",
    "# Alternative hypothesis: change in mean hours of sleep\n",
    "\n",
    "delta = hours_work['Delta']\n",
    "\n",
    "sample_mean = np.mean(hours_work['Delta'])\n",
    "\n",
    "sample_std = np.std(hours_work['Delta'])\n",
    "\n",
    "# loc = 0 because we always assume null hypothesis\n",
    "# difference between confidence interval and hypothesis testing\n",
    "t_dist = t(df = len(delta) - 1, loc = 0, scale = sample_std/np.sqrt(len(delta)) )\n",
    "\n",
    "print(sample_mean)\n",
    "t_dist.interval(0.95)"
   ]
  },
  {
   "cell_type": "markdown",
   "metadata": {},
   "source": [
    "## Hours of work per day by transition to remote (yes/no)"
   ]
  },
  {
   "cell_type": "code",
   "execution_count": null,
   "metadata": {},
   "outputs": [],
   "source": []
  },
  {
   "cell_type": "markdown",
   "metadata": {},
   "source": [
    "## Minutes of commute: categorical variable"
   ]
  },
  {
   "cell_type": "code",
   "execution_count": 538,
   "metadata": {},
   "outputs": [
    {
     "data": {
      "text/plain": [
       "Index(['respondent_id', 'COV_threat_personal', 'COV_threat_others',\n",
       "       'adherence_recom', 'more_time_hobbies_LD', 'more_time_TV_LD',\n",
       "       'more_time_internet_LD', 'avg_sleep_preCOV', 'avg_sleep_postCOV',\n",
       "       'avg_cig_preCOV', 'avg_cig_postCOV', 'avg_phy-act_preCOV',\n",
       "       'avg_phy-act_postCOV', 'avg_hobbies_preCOV', 'avg_hobbies_postCOV',\n",
       "       'avg_commute_preCOV', 'avg_commute_postCOV', 'avg_work_preCOV',\n",
       "       'avg_work_postCOV', 'work_remote_LD', 'work_reduced_LD', 'loss_income',\n",
       "       'loss_income_%', 'Gender', 'Age', 'Country', 'Marital status',\n",
       "       'number_children', 'Profession', 'comments', 'Children'],\n",
       "      dtype='object')"
      ]
     },
     "execution_count": 538,
     "metadata": {},
     "output_type": "execute_result"
    }
   ],
   "source": [
    "data.columns"
   ]
  },
  {
   "cell_type": "code",
   "execution_count": 539,
   "metadata": {},
   "outputs": [
    {
     "data": {
      "text/plain": [
       "array(['Between 30 and 60 minutes', 'Less than 30 minutes',\n",
       "       'Between 90 and 120 minutes', 'Between 60 and 90 minutes',\n",
       "       'More than 120 minutes'], dtype=object)"
      ]
     },
     "execution_count": 539,
     "metadata": {},
     "output_type": "execute_result"
    }
   ],
   "source": [
    "data['avg_commute_preCOV'].unique()"
   ]
  },
  {
   "cell_type": "code",
   "execution_count": 540,
   "metadata": {},
   "outputs": [],
   "source": [
    "data1 = pd.DataFrame(data['avg_commute_preCOV'])\n",
    "data2 = pd.DataFrame(data['avg_commute_postCOV'])\n",
    "\n",
    "data1.columns = ['Variable']\n",
    "data2.columns = ['Variable']\n",
    "\n",
    "data1['type'] = 'pre'\n",
    "data2['type'] = 'post'\n"
   ]
  },
  {
   "cell_type": "code",
   "execution_count": 541,
   "metadata": {},
   "outputs": [
    {
     "data": {
      "text/html": [
       "<div>\n",
       "<style scoped>\n",
       "    .dataframe tbody tr th:only-of-type {\n",
       "        vertical-align: middle;\n",
       "    }\n",
       "\n",
       "    .dataframe tbody tr th {\n",
       "        vertical-align: top;\n",
       "    }\n",
       "\n",
       "    .dataframe thead th {\n",
       "        text-align: right;\n",
       "    }\n",
       "</style>\n",
       "<table border=\"1\" class=\"dataframe\">\n",
       "  <thead>\n",
       "    <tr style=\"text-align: right;\">\n",
       "      <th></th>\n",
       "      <th>Variable</th>\n",
       "      <th>type</th>\n",
       "    </tr>\n",
       "  </thead>\n",
       "  <tbody>\n",
       "    <tr>\n",
       "      <th>0</th>\n",
       "      <td>Less than 30 minutes</td>\n",
       "      <td>post</td>\n",
       "    </tr>\n",
       "    <tr>\n",
       "      <th>1</th>\n",
       "      <td>Between 30 and 60 minutes</td>\n",
       "      <td>post</td>\n",
       "    </tr>\n",
       "    <tr>\n",
       "      <th>2</th>\n",
       "      <td>Between 30 and 60 minutes</td>\n",
       "      <td>post</td>\n",
       "    </tr>\n",
       "    <tr>\n",
       "      <th>3</th>\n",
       "      <td>Between 30 and 60 minutes</td>\n",
       "      <td>post</td>\n",
       "    </tr>\n",
       "    <tr>\n",
       "      <th>4</th>\n",
       "      <td>Between 60 and 90 minutes</td>\n",
       "      <td>post</td>\n",
       "    </tr>\n",
       "    <tr>\n",
       "      <th>5</th>\n",
       "      <td>Between 30 and 60 minutes</td>\n",
       "      <td>post</td>\n",
       "    </tr>\n",
       "    <tr>\n",
       "      <th>6</th>\n",
       "      <td>Less than 30 minutes</td>\n",
       "      <td>post</td>\n",
       "    </tr>\n",
       "    <tr>\n",
       "      <th>7</th>\n",
       "      <td>Less than 30 minutes</td>\n",
       "      <td>post</td>\n",
       "    </tr>\n",
       "    <tr>\n",
       "      <th>8</th>\n",
       "      <td>Less than 30 minutes</td>\n",
       "      <td>post</td>\n",
       "    </tr>\n",
       "    <tr>\n",
       "      <th>9</th>\n",
       "      <td>More than 120 minutes</td>\n",
       "      <td>post</td>\n",
       "    </tr>\n",
       "    <tr>\n",
       "      <th>10</th>\n",
       "      <td>Between 30 and 60 minutes</td>\n",
       "      <td>post</td>\n",
       "    </tr>\n",
       "    <tr>\n",
       "      <th>11</th>\n",
       "      <td>Less than 30 minutes</td>\n",
       "      <td>post</td>\n",
       "    </tr>\n",
       "    <tr>\n",
       "      <th>12</th>\n",
       "      <td>Less than 30 minutes</td>\n",
       "      <td>post</td>\n",
       "    </tr>\n",
       "    <tr>\n",
       "      <th>13</th>\n",
       "      <td>Less than 30 minutes</td>\n",
       "      <td>post</td>\n",
       "    </tr>\n",
       "    <tr>\n",
       "      <th>14</th>\n",
       "      <td>Less than 30 minutes</td>\n",
       "      <td>post</td>\n",
       "    </tr>\n",
       "    <tr>\n",
       "      <th>15</th>\n",
       "      <td>Less than 30 minutes</td>\n",
       "      <td>post</td>\n",
       "    </tr>\n",
       "    <tr>\n",
       "      <th>16</th>\n",
       "      <td>Less than 30 minutes</td>\n",
       "      <td>post</td>\n",
       "    </tr>\n",
       "    <tr>\n",
       "      <th>17</th>\n",
       "      <td>Less than 30 minutes</td>\n",
       "      <td>post</td>\n",
       "    </tr>\n",
       "    <tr>\n",
       "      <th>18</th>\n",
       "      <td>Between 30 and 60 minutes</td>\n",
       "      <td>post</td>\n",
       "    </tr>\n",
       "    <tr>\n",
       "      <th>19</th>\n",
       "      <td>Less than 30 minutes</td>\n",
       "      <td>post</td>\n",
       "    </tr>\n",
       "    <tr>\n",
       "      <th>20</th>\n",
       "      <td>Less than 30 minutes</td>\n",
       "      <td>post</td>\n",
       "    </tr>\n",
       "    <tr>\n",
       "      <th>21</th>\n",
       "      <td>Between 60 and 90 minutes</td>\n",
       "      <td>post</td>\n",
       "    </tr>\n",
       "    <tr>\n",
       "      <th>22</th>\n",
       "      <td>Between 30 and 60 minutes</td>\n",
       "      <td>post</td>\n",
       "    </tr>\n",
       "    <tr>\n",
       "      <th>23</th>\n",
       "      <td>Between 60 and 90 minutes</td>\n",
       "      <td>post</td>\n",
       "    </tr>\n",
       "    <tr>\n",
       "      <th>24</th>\n",
       "      <td>Less than 30 minutes</td>\n",
       "      <td>post</td>\n",
       "    </tr>\n",
       "    <tr>\n",
       "      <th>25</th>\n",
       "      <td>Less than 30 minutes</td>\n",
       "      <td>post</td>\n",
       "    </tr>\n",
       "    <tr>\n",
       "      <th>26</th>\n",
       "      <td>Between 30 and 60 minutes</td>\n",
       "      <td>post</td>\n",
       "    </tr>\n",
       "    <tr>\n",
       "      <th>27</th>\n",
       "      <td>Between 30 and 60 minutes</td>\n",
       "      <td>post</td>\n",
       "    </tr>\n",
       "    <tr>\n",
       "      <th>28</th>\n",
       "      <td>Less than 30 minutes</td>\n",
       "      <td>post</td>\n",
       "    </tr>\n",
       "    <tr>\n",
       "      <th>29</th>\n",
       "      <td>Less than 30 minutes</td>\n",
       "      <td>post</td>\n",
       "    </tr>\n",
       "    <tr>\n",
       "      <th>30</th>\n",
       "      <td>Less than 30 minutes</td>\n",
       "      <td>post</td>\n",
       "    </tr>\n",
       "    <tr>\n",
       "      <th>31</th>\n",
       "      <td>Less than 30 minutes</td>\n",
       "      <td>post</td>\n",
       "    </tr>\n",
       "    <tr>\n",
       "      <th>32</th>\n",
       "      <td>Less than 30 minutes</td>\n",
       "      <td>post</td>\n",
       "    </tr>\n",
       "    <tr>\n",
       "      <th>33</th>\n",
       "      <td>Less than 30 minutes</td>\n",
       "      <td>post</td>\n",
       "    </tr>\n",
       "    <tr>\n",
       "      <th>34</th>\n",
       "      <td>Between 60 and 90 minutes</td>\n",
       "      <td>post</td>\n",
       "    </tr>\n",
       "    <tr>\n",
       "      <th>35</th>\n",
       "      <td>Less than 30 minutes</td>\n",
       "      <td>post</td>\n",
       "    </tr>\n",
       "    <tr>\n",
       "      <th>36</th>\n",
       "      <td>Between 90 and 120 minutes</td>\n",
       "      <td>post</td>\n",
       "    </tr>\n",
       "    <tr>\n",
       "      <th>37</th>\n",
       "      <td>Less than 30 minutes</td>\n",
       "      <td>post</td>\n",
       "    </tr>\n",
       "    <tr>\n",
       "      <th>38</th>\n",
       "      <td>Between 30 and 60 minutes</td>\n",
       "      <td>post</td>\n",
       "    </tr>\n",
       "    <tr>\n",
       "      <th>39</th>\n",
       "      <td>Less than 30 minutes</td>\n",
       "      <td>post</td>\n",
       "    </tr>\n",
       "    <tr>\n",
       "      <th>40</th>\n",
       "      <td>Less than 30 minutes</td>\n",
       "      <td>post</td>\n",
       "    </tr>\n",
       "    <tr>\n",
       "      <th>41</th>\n",
       "      <td>Between 30 and 60 minutes</td>\n",
       "      <td>post</td>\n",
       "    </tr>\n",
       "    <tr>\n",
       "      <th>42</th>\n",
       "      <td>Less than 30 minutes</td>\n",
       "      <td>post</td>\n",
       "    </tr>\n",
       "    <tr>\n",
       "      <th>43</th>\n",
       "      <td>Less than 30 minutes</td>\n",
       "      <td>post</td>\n",
       "    </tr>\n",
       "    <tr>\n",
       "      <th>44</th>\n",
       "      <td>Less than 30 minutes</td>\n",
       "      <td>post</td>\n",
       "    </tr>\n",
       "    <tr>\n",
       "      <th>45</th>\n",
       "      <td>Less than 30 minutes</td>\n",
       "      <td>post</td>\n",
       "    </tr>\n",
       "    <tr>\n",
       "      <th>46</th>\n",
       "      <td>Less than 30 minutes</td>\n",
       "      <td>post</td>\n",
       "    </tr>\n",
       "    <tr>\n",
       "      <th>47</th>\n",
       "      <td>Between 30 and 60 minutes</td>\n",
       "      <td>post</td>\n",
       "    </tr>\n",
       "    <tr>\n",
       "      <th>48</th>\n",
       "      <td>Less than 30 minutes</td>\n",
       "      <td>post</td>\n",
       "    </tr>\n",
       "    <tr>\n",
       "      <th>49</th>\n",
       "      <td>Less than 30 minutes</td>\n",
       "      <td>post</td>\n",
       "    </tr>\n",
       "    <tr>\n",
       "      <th>50</th>\n",
       "      <td>Less than 30 minutes</td>\n",
       "      <td>post</td>\n",
       "    </tr>\n",
       "    <tr>\n",
       "      <th>51</th>\n",
       "      <td>Less than 30 minutes</td>\n",
       "      <td>post</td>\n",
       "    </tr>\n",
       "  </tbody>\n",
       "</table>\n",
       "</div>"
      ],
      "text/plain": [
       "                      Variable  type\n",
       "0         Less than 30 minutes  post\n",
       "1    Between 30 and 60 minutes  post\n",
       "2    Between 30 and 60 minutes  post\n",
       "3    Between 30 and 60 minutes  post\n",
       "4    Between 60 and 90 minutes  post\n",
       "5    Between 30 and 60 minutes  post\n",
       "6         Less than 30 minutes  post\n",
       "7         Less than 30 minutes  post\n",
       "8         Less than 30 minutes  post\n",
       "9        More than 120 minutes  post\n",
       "10   Between 30 and 60 minutes  post\n",
       "11        Less than 30 minutes  post\n",
       "12        Less than 30 minutes  post\n",
       "13        Less than 30 minutes  post\n",
       "14        Less than 30 minutes  post\n",
       "15        Less than 30 minutes  post\n",
       "16        Less than 30 minutes  post\n",
       "17        Less than 30 minutes  post\n",
       "18   Between 30 and 60 minutes  post\n",
       "19        Less than 30 minutes  post\n",
       "20        Less than 30 minutes  post\n",
       "21   Between 60 and 90 minutes  post\n",
       "22   Between 30 and 60 minutes  post\n",
       "23   Between 60 and 90 minutes  post\n",
       "24        Less than 30 minutes  post\n",
       "25        Less than 30 minutes  post\n",
       "26   Between 30 and 60 minutes  post\n",
       "27   Between 30 and 60 minutes  post\n",
       "28        Less than 30 minutes  post\n",
       "29        Less than 30 minutes  post\n",
       "30        Less than 30 minutes  post\n",
       "31        Less than 30 minutes  post\n",
       "32        Less than 30 minutes  post\n",
       "33        Less than 30 minutes  post\n",
       "34   Between 60 and 90 minutes  post\n",
       "35        Less than 30 minutes  post\n",
       "36  Between 90 and 120 minutes  post\n",
       "37        Less than 30 minutes  post\n",
       "38   Between 30 and 60 minutes  post\n",
       "39        Less than 30 minutes  post\n",
       "40        Less than 30 minutes  post\n",
       "41   Between 30 and 60 minutes  post\n",
       "42        Less than 30 minutes  post\n",
       "43        Less than 30 minutes  post\n",
       "44        Less than 30 minutes  post\n",
       "45        Less than 30 minutes  post\n",
       "46        Less than 30 minutes  post\n",
       "47   Between 30 and 60 minutes  post\n",
       "48        Less than 30 minutes  post\n",
       "49        Less than 30 minutes  post\n",
       "50        Less than 30 minutes  post\n",
       "51        Less than 30 minutes  post"
      ]
     },
     "execution_count": 541,
     "metadata": {},
     "output_type": "execute_result"
    }
   ],
   "source": [
    "data2"
   ]
  },
  {
   "cell_type": "code",
   "execution_count": 542,
   "metadata": {},
   "outputs": [],
   "source": [
    "categorical_test = pd.concat([data1,data2], axis = 0)\n",
    "categorical_test['dummy'] = \"random\"\n"
   ]
  },
  {
   "cell_type": "code",
   "execution_count": 543,
   "metadata": {},
   "outputs": [],
   "source": [
    "contingency = categorical_test.pivot_table(index = ['Variable'], columns = ['type'], values = ['dummy'], aggfunc=['count'])\n"
   ]
  },
  {
   "cell_type": "code",
   "execution_count": 544,
   "metadata": {},
   "outputs": [
    {
     "data": {
      "text/plain": [
       "(14.062585034013605,\n",
       " 0.007097965814544832,\n",
       " 4,\n",
       " array([[17.5, 17.5],\n",
       "        [ 7. ,  7. ],\n",
       "        [ 1.5,  1.5],\n",
       "        [24.5, 24.5],\n",
       "        [ 1.5,  1.5]]))"
      ]
     },
     "execution_count": 544,
     "metadata": {},
     "output_type": "execute_result"
    }
   ],
   "source": [
    "\n",
    "# returns an array of results\n",
    "# - the value of chi-squared observed\n",
    "# p-value for this chi-squared\n",
    "# degrees of freedom of test\n",
    "# expected quantities sold, assuming independence\n",
    "\n",
    "# in this example we would accept H0 at significance level of 0.1%\n",
    "# p value of about 0.15%\n",
    "# reject at signficance level of 1%\n",
    "\n",
    "from scipy.stats import chi2_contingency\n",
    "\n",
    "chi2_contingency(contingency)"
   ]
  },
  {
   "cell_type": "code",
   "execution_count": 592,
   "metadata": {},
   "outputs": [
    {
     "data": {
      "text/plain": [
       "Index(['respondent_id', 'COV_threat_personal', 'COV_threat_others',\n",
       "       'adherence_recom', 'more_time_hobbies_LD', 'more_time_TV_LD',\n",
       "       'more_time_internet_LD', 'avg_sleep_preCOV', 'avg_sleep_postCOV',\n",
       "       'avg_cig_preCOV', 'avg_cig_postCOV', 'avg_phy-act_preCOV',\n",
       "       'avg_phy-act_postCOV', 'avg_hobbies_preCOV', 'avg_hobbies_postCOV',\n",
       "       'avg_commute_preCOV', 'avg_commute_postCOV', 'avg_work_preCOV',\n",
       "       'avg_work_postCOV', 'work_remote_LD', 'work_reduced_LD', 'loss_income',\n",
       "       'loss_income_%', 'Gender', 'Age', 'Country', 'Marital status',\n",
       "       'number_children', 'Profession', 'comments', 'Children'],\n",
       "      dtype='object')"
      ]
     },
     "execution_count": 592,
     "metadata": {},
     "output_type": "execute_result"
    }
   ],
   "source": [
    "data.columns"
   ]
  },
  {
   "cell_type": "markdown",
   "metadata": {},
   "source": [
    "# Linear and multilinear regressions"
   ]
  },
  {
   "cell_type": "code",
   "execution_count": 622,
   "metadata": {},
   "outputs": [
    {
     "data": {
      "text/html": [
       "<table class=\"simpletable\">\n",
       "<caption>OLS Regression Results</caption>\n",
       "<tr>\n",
       "  <th>Dep. Variable:</th>     <td>adherence_recom</td> <th>  R-squared (uncentered):</th>      <td>   0.918</td>\n",
       "</tr>\n",
       "<tr>\n",
       "  <th>Model:</th>                   <td>OLS</td>       <th>  Adj. R-squared (uncentered):</th> <td>   0.914</td>\n",
       "</tr>\n",
       "<tr>\n",
       "  <th>Method:</th>             <td>Least Squares</td>  <th>  F-statistic:       </th>          <td>   278.6</td>\n",
       "</tr>\n",
       "<tr>\n",
       "  <th>Date:</th>             <td>Thu, 06 Aug 2020</td> <th>  Prob (F-statistic):</th>          <td>7.75e-28</td>\n",
       "</tr>\n",
       "<tr>\n",
       "  <th>Time:</th>                 <td>17:43:01</td>     <th>  Log-Likelihood:    </th>          <td> -69.372</td>\n",
       "</tr>\n",
       "<tr>\n",
       "  <th>No. Observations:</th>      <td>    52</td>      <th>  AIC:               </th>          <td>   142.7</td>\n",
       "</tr>\n",
       "<tr>\n",
       "  <th>Df Residuals:</th>          <td>    50</td>      <th>  BIC:               </th>          <td>   146.6</td>\n",
       "</tr>\n",
       "<tr>\n",
       "  <th>Df Model:</th>              <td>     2</td>      <th>                     </th>              <td> </td>   \n",
       "</tr>\n",
       "<tr>\n",
       "  <th>Covariance Type:</th>      <td>nonrobust</td>    <th>                     </th>              <td> </td>   \n",
       "</tr>\n",
       "</table>\n",
       "<table class=\"simpletable\">\n",
       "<tr>\n",
       "           <td></td>              <th>coef</th>     <th>std err</th>      <th>t</th>      <th>P>|t|</th>  <th>[0.025</th>    <th>0.975]</th>  \n",
       "</tr>\n",
       "<tr>\n",
       "  <th>COV_threat_personal</th> <td>    0.2284</td> <td>    0.187</td> <td>    1.219</td> <td> 0.229</td> <td>   -0.148</td> <td>    0.605</td>\n",
       "</tr>\n",
       "<tr>\n",
       "  <th>COV_threat_others</th>   <td>    0.6858</td> <td>    0.160</td> <td>    4.281</td> <td> 0.000</td> <td>    0.364</td> <td>    1.008</td>\n",
       "</tr>\n",
       "</table>\n",
       "<table class=\"simpletable\">\n",
       "<tr>\n",
       "  <th>Omnibus:</th>       <td> 0.974</td> <th>  Durbin-Watson:     </th> <td>   1.875</td>\n",
       "</tr>\n",
       "<tr>\n",
       "  <th>Prob(Omnibus):</th> <td> 0.614</td> <th>  Jarque-Bera (JB):  </th> <td>   1.034</td>\n",
       "</tr>\n",
       "<tr>\n",
       "  <th>Skew:</th>          <td> 0.289</td> <th>  Prob(JB):          </th> <td>   0.596</td>\n",
       "</tr>\n",
       "<tr>\n",
       "  <th>Kurtosis:</th>      <td> 2.621</td> <th>  Cond. No.          </th> <td>    8.62</td>\n",
       "</tr>\n",
       "</table><br/><br/>Warnings:<br/>[1] Standard Errors assume that the covariance matrix of the errors is correctly specified."
      ],
      "text/plain": [
       "<class 'statsmodels.iolib.summary.Summary'>\n",
       "\"\"\"\n",
       "                                 OLS Regression Results                                \n",
       "=======================================================================================\n",
       "Dep. Variable:        adherence_recom   R-squared (uncentered):                   0.918\n",
       "Model:                            OLS   Adj. R-squared (uncentered):              0.914\n",
       "Method:                 Least Squares   F-statistic:                              278.6\n",
       "Date:                Thu, 06 Aug 2020   Prob (F-statistic):                    7.75e-28\n",
       "Time:                        17:43:01   Log-Likelihood:                         -69.372\n",
       "No. Observations:                  52   AIC:                                      142.7\n",
       "Df Residuals:                      50   BIC:                                      146.6\n",
       "Df Model:                           2                                                  \n",
       "Covariance Type:            nonrobust                                                  \n",
       "=======================================================================================\n",
       "                          coef    std err          t      P>|t|      [0.025      0.975]\n",
       "---------------------------------------------------------------------------------------\n",
       "COV_threat_personal     0.2284      0.187      1.219      0.229      -0.148       0.605\n",
       "COV_threat_others       0.6858      0.160      4.281      0.000       0.364       1.008\n",
       "==============================================================================\n",
       "Omnibus:                        0.974   Durbin-Watson:                   1.875\n",
       "Prob(Omnibus):                  0.614   Jarque-Bera (JB):                1.034\n",
       "Skew:                           0.289   Prob(JB):                        0.596\n",
       "Kurtosis:                       2.621   Cond. No.                         8.62\n",
       "==============================================================================\n",
       "\n",
       "Warnings:\n",
       "[1] Standard Errors assume that the covariance matrix of the errors is correctly specified.\n",
       "\"\"\""
      ]
     },
     "execution_count": 622,
     "metadata": {},
     "output_type": "execute_result"
    }
   ],
   "source": [
    "# multilinear regression\n",
    "# 'COV_threat_personal', 'COV_threat_others' predict 'adherence_recom', see R-squared\n",
    "# However, 'COV_threat_personal', 'COV_threat_others' are strongly correlated between themselves\n",
    "\n",
    "import statsmodels.api as sm \n",
    "\n",
    "X = data[['COV_threat_personal', 'COV_threat_others']]\n",
    "y = data['adherence_recom']\n",
    "\n",
    "# fitting the model to take our X variables and calculate y\n",
    "model = sm.OLS(y,X).fit()\n",
    "\n",
    "model.summary()"
   ]
  },
  {
   "cell_type": "code",
   "execution_count": 646,
   "metadata": {},
   "outputs": [
    {
     "data": {
      "text/plain": [
       "Index(['respondent_id', 'COV_threat_personal', 'COV_threat_others',\n",
       "       'adherence_recom', 'more_time_hobbies_LD', 'more_time_TV_LD',\n",
       "       'more_time_internet_LD', 'avg_sleep_preCOV', 'avg_sleep_postCOV',\n",
       "       'avg_cig_preCOV', 'avg_cig_postCOV', 'avg_phy-act_preCOV',\n",
       "       'avg_phy-act_postCOV', 'avg_hobbies_preCOV', 'avg_hobbies_postCOV',\n",
       "       'avg_commute_preCOV', 'avg_commute_postCOV', 'avg_work_preCOV',\n",
       "       'avg_work_postCOV', 'work_remote_LD', 'work_reduced_LD', 'loss_income',\n",
       "       'loss_income_%', 'Gender', 'Age', 'Country', 'Marital status',\n",
       "       'number_children', 'Profession', 'comments', 'Children'],\n",
       "      dtype='object')"
      ]
     },
     "execution_count": 646,
     "metadata": {},
     "output_type": "execute_result"
    }
   ],
   "source": [
    "data.columns"
   ]
  },
  {
   "cell_type": "code",
   "execution_count": 647,
   "metadata": {},
   "outputs": [
    {
     "ename": "ValueError",
     "evalue": "Pandas data cast to numpy dtype of object. Check input data with np.asarray(data).",
     "output_type": "error",
     "traceback": [
      "\u001b[0;31m---------------------------------------------------------------------------\u001b[0m",
      "\u001b[0;31mValueError\u001b[0m                                Traceback (most recent call last)",
      "\u001b[0;32m<ipython-input-647-197439f649ba>\u001b[0m in \u001b[0;36m<module>\u001b[0;34m\u001b[0m\n\u001b[1;32m      9\u001b[0m \u001b[0;34m\u001b[0m\u001b[0m\n\u001b[1;32m     10\u001b[0m \u001b[0;31m# fitting the model to take our X variables and calculate y\u001b[0m\u001b[0;34m\u001b[0m\u001b[0;34m\u001b[0m\u001b[0;34m\u001b[0m\u001b[0m\n\u001b[0;32m---> 11\u001b[0;31m \u001b[0mmodel\u001b[0m \u001b[0;34m=\u001b[0m \u001b[0msm\u001b[0m\u001b[0;34m.\u001b[0m\u001b[0mOLS\u001b[0m\u001b[0;34m(\u001b[0m\u001b[0my\u001b[0m\u001b[0;34m,\u001b[0m\u001b[0mX\u001b[0m\u001b[0;34m)\u001b[0m\u001b[0;34m.\u001b[0m\u001b[0mfit\u001b[0m\u001b[0;34m(\u001b[0m\u001b[0;34m)\u001b[0m\u001b[0;34m\u001b[0m\u001b[0;34m\u001b[0m\u001b[0m\n\u001b[0m\u001b[1;32m     12\u001b[0m \u001b[0;34m\u001b[0m\u001b[0m\n\u001b[1;32m     13\u001b[0m \u001b[0mmodel\u001b[0m\u001b[0;34m.\u001b[0m\u001b[0msummary\u001b[0m\u001b[0;34m(\u001b[0m\u001b[0;34m)\u001b[0m\u001b[0;34m\u001b[0m\u001b[0;34m\u001b[0m\u001b[0m\n",
      "\u001b[0;32m/opt/anaconda3/lib/python3.7/site-packages/statsmodels/regression/linear_model.py\u001b[0m in \u001b[0;36m__init__\u001b[0;34m(self, endog, exog, missing, hasconst, **kwargs)\u001b[0m\n\u001b[1;32m    857\u001b[0m                  **kwargs):\n\u001b[1;32m    858\u001b[0m         super(OLS, self).__init__(endog, exog, missing=missing,\n\u001b[0;32m--> 859\u001b[0;31m                                   hasconst=hasconst, **kwargs)\n\u001b[0m\u001b[1;32m    860\u001b[0m         \u001b[0;32mif\u001b[0m \u001b[0;34m\"weights\"\u001b[0m \u001b[0;32min\u001b[0m \u001b[0mself\u001b[0m\u001b[0;34m.\u001b[0m\u001b[0m_init_keys\u001b[0m\u001b[0;34m:\u001b[0m\u001b[0;34m\u001b[0m\u001b[0;34m\u001b[0m\u001b[0m\n\u001b[1;32m    861\u001b[0m             \u001b[0mself\u001b[0m\u001b[0;34m.\u001b[0m\u001b[0m_init_keys\u001b[0m\u001b[0;34m.\u001b[0m\u001b[0mremove\u001b[0m\u001b[0;34m(\u001b[0m\u001b[0;34m\"weights\"\u001b[0m\u001b[0;34m)\u001b[0m\u001b[0;34m\u001b[0m\u001b[0;34m\u001b[0m\u001b[0m\n",
      "\u001b[0;32m/opt/anaconda3/lib/python3.7/site-packages/statsmodels/regression/linear_model.py\u001b[0m in \u001b[0;36m__init__\u001b[0;34m(self, endog, exog, weights, missing, hasconst, **kwargs)\u001b[0m\n\u001b[1;32m    700\u001b[0m             \u001b[0mweights\u001b[0m \u001b[0;34m=\u001b[0m \u001b[0mweights\u001b[0m\u001b[0;34m.\u001b[0m\u001b[0msqueeze\u001b[0m\u001b[0;34m(\u001b[0m\u001b[0;34m)\u001b[0m\u001b[0;34m\u001b[0m\u001b[0;34m\u001b[0m\u001b[0m\n\u001b[1;32m    701\u001b[0m         super(WLS, self).__init__(endog, exog, missing=missing,\n\u001b[0;32m--> 702\u001b[0;31m                                   weights=weights, hasconst=hasconst, **kwargs)\n\u001b[0m\u001b[1;32m    703\u001b[0m         \u001b[0mnobs\u001b[0m \u001b[0;34m=\u001b[0m \u001b[0mself\u001b[0m\u001b[0;34m.\u001b[0m\u001b[0mexog\u001b[0m\u001b[0;34m.\u001b[0m\u001b[0mshape\u001b[0m\u001b[0;34m[\u001b[0m\u001b[0;36m0\u001b[0m\u001b[0;34m]\u001b[0m\u001b[0;34m\u001b[0m\u001b[0;34m\u001b[0m\u001b[0m\n\u001b[1;32m    704\u001b[0m         \u001b[0mweights\u001b[0m \u001b[0;34m=\u001b[0m \u001b[0mself\u001b[0m\u001b[0;34m.\u001b[0m\u001b[0mweights\u001b[0m\u001b[0;34m\u001b[0m\u001b[0;34m\u001b[0m\u001b[0m\n",
      "\u001b[0;32m/opt/anaconda3/lib/python3.7/site-packages/statsmodels/regression/linear_model.py\u001b[0m in \u001b[0;36m__init__\u001b[0;34m(self, endog, exog, **kwargs)\u001b[0m\n\u001b[1;32m    188\u001b[0m     \"\"\"\n\u001b[1;32m    189\u001b[0m     \u001b[0;32mdef\u001b[0m \u001b[0m__init__\u001b[0m\u001b[0;34m(\u001b[0m\u001b[0mself\u001b[0m\u001b[0;34m,\u001b[0m \u001b[0mendog\u001b[0m\u001b[0;34m,\u001b[0m \u001b[0mexog\u001b[0m\u001b[0;34m,\u001b[0m \u001b[0;34m**\u001b[0m\u001b[0mkwargs\u001b[0m\u001b[0;34m)\u001b[0m\u001b[0;34m:\u001b[0m\u001b[0;34m\u001b[0m\u001b[0;34m\u001b[0m\u001b[0m\n\u001b[0;32m--> 190\u001b[0;31m         \u001b[0msuper\u001b[0m\u001b[0;34m(\u001b[0m\u001b[0mRegressionModel\u001b[0m\u001b[0;34m,\u001b[0m \u001b[0mself\u001b[0m\u001b[0;34m)\u001b[0m\u001b[0;34m.\u001b[0m\u001b[0m__init__\u001b[0m\u001b[0;34m(\u001b[0m\u001b[0mendog\u001b[0m\u001b[0;34m,\u001b[0m \u001b[0mexog\u001b[0m\u001b[0;34m,\u001b[0m \u001b[0;34m**\u001b[0m\u001b[0mkwargs\u001b[0m\u001b[0;34m)\u001b[0m\u001b[0;34m\u001b[0m\u001b[0;34m\u001b[0m\u001b[0m\n\u001b[0m\u001b[1;32m    191\u001b[0m         \u001b[0mself\u001b[0m\u001b[0;34m.\u001b[0m\u001b[0m_data_attr\u001b[0m\u001b[0;34m.\u001b[0m\u001b[0mextend\u001b[0m\u001b[0;34m(\u001b[0m\u001b[0;34m[\u001b[0m\u001b[0;34m'pinv_wexog'\u001b[0m\u001b[0;34m,\u001b[0m \u001b[0;34m'wendog'\u001b[0m\u001b[0;34m,\u001b[0m \u001b[0;34m'wexog'\u001b[0m\u001b[0;34m,\u001b[0m \u001b[0;34m'weights'\u001b[0m\u001b[0;34m]\u001b[0m\u001b[0;34m)\u001b[0m\u001b[0;34m\u001b[0m\u001b[0;34m\u001b[0m\u001b[0m\n\u001b[1;32m    192\u001b[0m \u001b[0;34m\u001b[0m\u001b[0m\n",
      "\u001b[0;32m/opt/anaconda3/lib/python3.7/site-packages/statsmodels/base/model.py\u001b[0m in \u001b[0;36m__init__\u001b[0;34m(self, endog, exog, **kwargs)\u001b[0m\n\u001b[1;32m    234\u001b[0m \u001b[0;34m\u001b[0m\u001b[0m\n\u001b[1;32m    235\u001b[0m     \u001b[0;32mdef\u001b[0m \u001b[0m__init__\u001b[0m\u001b[0;34m(\u001b[0m\u001b[0mself\u001b[0m\u001b[0;34m,\u001b[0m \u001b[0mendog\u001b[0m\u001b[0;34m,\u001b[0m \u001b[0mexog\u001b[0m\u001b[0;34m=\u001b[0m\u001b[0;32mNone\u001b[0m\u001b[0;34m,\u001b[0m \u001b[0;34m**\u001b[0m\u001b[0mkwargs\u001b[0m\u001b[0;34m)\u001b[0m\u001b[0;34m:\u001b[0m\u001b[0;34m\u001b[0m\u001b[0;34m\u001b[0m\u001b[0m\n\u001b[0;32m--> 236\u001b[0;31m         \u001b[0msuper\u001b[0m\u001b[0;34m(\u001b[0m\u001b[0mLikelihoodModel\u001b[0m\u001b[0;34m,\u001b[0m \u001b[0mself\u001b[0m\u001b[0;34m)\u001b[0m\u001b[0;34m.\u001b[0m\u001b[0m__init__\u001b[0m\u001b[0;34m(\u001b[0m\u001b[0mendog\u001b[0m\u001b[0;34m,\u001b[0m \u001b[0mexog\u001b[0m\u001b[0;34m,\u001b[0m \u001b[0;34m**\u001b[0m\u001b[0mkwargs\u001b[0m\u001b[0;34m)\u001b[0m\u001b[0;34m\u001b[0m\u001b[0;34m\u001b[0m\u001b[0m\n\u001b[0m\u001b[1;32m    237\u001b[0m         \u001b[0mself\u001b[0m\u001b[0;34m.\u001b[0m\u001b[0minitialize\u001b[0m\u001b[0;34m(\u001b[0m\u001b[0;34m)\u001b[0m\u001b[0;34m\u001b[0m\u001b[0;34m\u001b[0m\u001b[0m\n\u001b[1;32m    238\u001b[0m \u001b[0;34m\u001b[0m\u001b[0m\n",
      "\u001b[0;32m/opt/anaconda3/lib/python3.7/site-packages/statsmodels/base/model.py\u001b[0m in \u001b[0;36m__init__\u001b[0;34m(self, endog, exog, **kwargs)\u001b[0m\n\u001b[1;32m     75\u001b[0m         \u001b[0mhasconst\u001b[0m \u001b[0;34m=\u001b[0m \u001b[0mkwargs\u001b[0m\u001b[0;34m.\u001b[0m\u001b[0mpop\u001b[0m\u001b[0;34m(\u001b[0m\u001b[0;34m'hasconst'\u001b[0m\u001b[0;34m,\u001b[0m \u001b[0;32mNone\u001b[0m\u001b[0;34m)\u001b[0m\u001b[0;34m\u001b[0m\u001b[0;34m\u001b[0m\u001b[0m\n\u001b[1;32m     76\u001b[0m         self.data = self._handle_data(endog, exog, missing, hasconst,\n\u001b[0;32m---> 77\u001b[0;31m                                       **kwargs)\n\u001b[0m\u001b[1;32m     78\u001b[0m         \u001b[0mself\u001b[0m\u001b[0;34m.\u001b[0m\u001b[0mk_constant\u001b[0m \u001b[0;34m=\u001b[0m \u001b[0mself\u001b[0m\u001b[0;34m.\u001b[0m\u001b[0mdata\u001b[0m\u001b[0;34m.\u001b[0m\u001b[0mk_constant\u001b[0m\u001b[0;34m\u001b[0m\u001b[0;34m\u001b[0m\u001b[0m\n\u001b[1;32m     79\u001b[0m         \u001b[0mself\u001b[0m\u001b[0;34m.\u001b[0m\u001b[0mexog\u001b[0m \u001b[0;34m=\u001b[0m \u001b[0mself\u001b[0m\u001b[0;34m.\u001b[0m\u001b[0mdata\u001b[0m\u001b[0;34m.\u001b[0m\u001b[0mexog\u001b[0m\u001b[0;34m\u001b[0m\u001b[0;34m\u001b[0m\u001b[0m\n",
      "\u001b[0;32m/opt/anaconda3/lib/python3.7/site-packages/statsmodels/base/model.py\u001b[0m in \u001b[0;36m_handle_data\u001b[0;34m(self, endog, exog, missing, hasconst, **kwargs)\u001b[0m\n\u001b[1;32m     98\u001b[0m \u001b[0;34m\u001b[0m\u001b[0m\n\u001b[1;32m     99\u001b[0m     \u001b[0;32mdef\u001b[0m \u001b[0m_handle_data\u001b[0m\u001b[0;34m(\u001b[0m\u001b[0mself\u001b[0m\u001b[0;34m,\u001b[0m \u001b[0mendog\u001b[0m\u001b[0;34m,\u001b[0m \u001b[0mexog\u001b[0m\u001b[0;34m,\u001b[0m \u001b[0mmissing\u001b[0m\u001b[0;34m,\u001b[0m \u001b[0mhasconst\u001b[0m\u001b[0;34m,\u001b[0m \u001b[0;34m**\u001b[0m\u001b[0mkwargs\u001b[0m\u001b[0;34m)\u001b[0m\u001b[0;34m:\u001b[0m\u001b[0;34m\u001b[0m\u001b[0;34m\u001b[0m\u001b[0m\n\u001b[0;32m--> 100\u001b[0;31m         \u001b[0mdata\u001b[0m \u001b[0;34m=\u001b[0m \u001b[0mhandle_data\u001b[0m\u001b[0;34m(\u001b[0m\u001b[0mendog\u001b[0m\u001b[0;34m,\u001b[0m \u001b[0mexog\u001b[0m\u001b[0;34m,\u001b[0m \u001b[0mmissing\u001b[0m\u001b[0;34m,\u001b[0m \u001b[0mhasconst\u001b[0m\u001b[0;34m,\u001b[0m \u001b[0;34m**\u001b[0m\u001b[0mkwargs\u001b[0m\u001b[0;34m)\u001b[0m\u001b[0;34m\u001b[0m\u001b[0;34m\u001b[0m\u001b[0m\n\u001b[0m\u001b[1;32m    101\u001b[0m         \u001b[0;31m# kwargs arrays could have changed, easier to just attach here\u001b[0m\u001b[0;34m\u001b[0m\u001b[0;34m\u001b[0m\u001b[0;34m\u001b[0m\u001b[0m\n\u001b[1;32m    102\u001b[0m         \u001b[0;32mfor\u001b[0m \u001b[0mkey\u001b[0m \u001b[0;32min\u001b[0m \u001b[0mkwargs\u001b[0m\u001b[0;34m:\u001b[0m\u001b[0;34m\u001b[0m\u001b[0;34m\u001b[0m\u001b[0m\n",
      "\u001b[0;32m/opt/anaconda3/lib/python3.7/site-packages/statsmodels/base/data.py\u001b[0m in \u001b[0;36mhandle_data\u001b[0;34m(endog, exog, missing, hasconst, **kwargs)\u001b[0m\n\u001b[1;32m    670\u001b[0m     \u001b[0mklass\u001b[0m \u001b[0;34m=\u001b[0m \u001b[0mhandle_data_class_factory\u001b[0m\u001b[0;34m(\u001b[0m\u001b[0mendog\u001b[0m\u001b[0;34m,\u001b[0m \u001b[0mexog\u001b[0m\u001b[0;34m)\u001b[0m\u001b[0;34m\u001b[0m\u001b[0;34m\u001b[0m\u001b[0m\n\u001b[1;32m    671\u001b[0m     return klass(endog, exog=exog, missing=missing, hasconst=hasconst,\n\u001b[0;32m--> 672\u001b[0;31m                  **kwargs)\n\u001b[0m",
      "\u001b[0;32m/opt/anaconda3/lib/python3.7/site-packages/statsmodels/base/data.py\u001b[0m in \u001b[0;36m__init__\u001b[0;34m(self, endog, exog, missing, hasconst, **kwargs)\u001b[0m\n\u001b[1;32m     81\u001b[0m             \u001b[0mself\u001b[0m\u001b[0;34m.\u001b[0m\u001b[0morig_endog\u001b[0m \u001b[0;34m=\u001b[0m \u001b[0mendog\u001b[0m\u001b[0;34m\u001b[0m\u001b[0;34m\u001b[0m\u001b[0m\n\u001b[1;32m     82\u001b[0m             \u001b[0mself\u001b[0m\u001b[0;34m.\u001b[0m\u001b[0morig_exog\u001b[0m \u001b[0;34m=\u001b[0m \u001b[0mexog\u001b[0m\u001b[0;34m\u001b[0m\u001b[0;34m\u001b[0m\u001b[0m\n\u001b[0;32m---> 83\u001b[0;31m             \u001b[0mself\u001b[0m\u001b[0;34m.\u001b[0m\u001b[0mendog\u001b[0m\u001b[0;34m,\u001b[0m \u001b[0mself\u001b[0m\u001b[0;34m.\u001b[0m\u001b[0mexog\u001b[0m \u001b[0;34m=\u001b[0m \u001b[0mself\u001b[0m\u001b[0;34m.\u001b[0m\u001b[0m_convert_endog_exog\u001b[0m\u001b[0;34m(\u001b[0m\u001b[0mendog\u001b[0m\u001b[0;34m,\u001b[0m \u001b[0mexog\u001b[0m\u001b[0;34m)\u001b[0m\u001b[0;34m\u001b[0m\u001b[0;34m\u001b[0m\u001b[0m\n\u001b[0m\u001b[1;32m     84\u001b[0m \u001b[0;34m\u001b[0m\u001b[0m\n\u001b[1;32m     85\u001b[0m         \u001b[0mself\u001b[0m\u001b[0;34m.\u001b[0m\u001b[0mconst_idx\u001b[0m \u001b[0;34m=\u001b[0m \u001b[0;32mNone\u001b[0m\u001b[0;34m\u001b[0m\u001b[0;34m\u001b[0m\u001b[0m\n",
      "\u001b[0;32m/opt/anaconda3/lib/python3.7/site-packages/statsmodels/base/data.py\u001b[0m in \u001b[0;36m_convert_endog_exog\u001b[0;34m(self, endog, exog)\u001b[0m\n\u001b[1;32m    506\u001b[0m         \u001b[0mexog\u001b[0m \u001b[0;34m=\u001b[0m \u001b[0mexog\u001b[0m \u001b[0;32mif\u001b[0m \u001b[0mexog\u001b[0m \u001b[0;32mis\u001b[0m \u001b[0;32mNone\u001b[0m \u001b[0;32melse\u001b[0m \u001b[0mnp\u001b[0m\u001b[0;34m.\u001b[0m\u001b[0masarray\u001b[0m\u001b[0;34m(\u001b[0m\u001b[0mexog\u001b[0m\u001b[0;34m)\u001b[0m\u001b[0;34m\u001b[0m\u001b[0;34m\u001b[0m\u001b[0m\n\u001b[1;32m    507\u001b[0m         \u001b[0;32mif\u001b[0m \u001b[0mendog\u001b[0m\u001b[0;34m.\u001b[0m\u001b[0mdtype\u001b[0m \u001b[0;34m==\u001b[0m \u001b[0mobject\u001b[0m \u001b[0;32mor\u001b[0m \u001b[0mexog\u001b[0m \u001b[0;32mis\u001b[0m \u001b[0;32mnot\u001b[0m \u001b[0;32mNone\u001b[0m \u001b[0;32mand\u001b[0m \u001b[0mexog\u001b[0m\u001b[0;34m.\u001b[0m\u001b[0mdtype\u001b[0m \u001b[0;34m==\u001b[0m \u001b[0mobject\u001b[0m\u001b[0;34m:\u001b[0m\u001b[0;34m\u001b[0m\u001b[0;34m\u001b[0m\u001b[0m\n\u001b[0;32m--> 508\u001b[0;31m             raise ValueError(\"Pandas data cast to numpy dtype of object. \"\n\u001b[0m\u001b[1;32m    509\u001b[0m                              \"Check input data with np.asarray(data).\")\n\u001b[1;32m    510\u001b[0m         \u001b[0;32mreturn\u001b[0m \u001b[0msuper\u001b[0m\u001b[0;34m(\u001b[0m\u001b[0mPandasData\u001b[0m\u001b[0;34m,\u001b[0m \u001b[0mself\u001b[0m\u001b[0;34m)\u001b[0m\u001b[0;34m.\u001b[0m\u001b[0m_convert_endog_exog\u001b[0m\u001b[0;34m(\u001b[0m\u001b[0mendog\u001b[0m\u001b[0;34m,\u001b[0m \u001b[0mexog\u001b[0m\u001b[0;34m)\u001b[0m\u001b[0;34m\u001b[0m\u001b[0;34m\u001b[0m\u001b[0m\n",
      "\u001b[0;31mValueError\u001b[0m: Pandas data cast to numpy dtype of object. Check input data with np.asarray(data)."
     ]
    }
   ],
   "source": [
    "# multilinear regression\n",
    "# Categorical variables\n",
    "\n",
    "import statsmodels.api as sm \n",
    "\n",
    "X = data[['Gender', 'Age', 'Country', 'Children']]\n",
    "y = data['adherence_recom']\n",
    "\n",
    "# fitting the model to take our X variables and calculate y\n",
    "model = sm.OLS(y,X).fit()\n",
    "\n",
    "model.summary()"
   ]
  },
  {
   "cell_type": "code",
   "execution_count": 623,
   "metadata": {},
   "outputs": [
    {
     "data": {
      "text/html": [
       "<table class=\"simpletable\">\n",
       "<caption>OLS Regression Results</caption>\n",
       "<tr>\n",
       "  <th>Dep. Variable:</th>    <td>COV_threat_others</td> <th>  R-squared (uncentered):</th>      <td>   0.946</td>\n",
       "</tr>\n",
       "<tr>\n",
       "  <th>Model:</th>                   <td>OLS</td>        <th>  Adj. R-squared (uncentered):</th> <td>   0.945</td>\n",
       "</tr>\n",
       "<tr>\n",
       "  <th>Method:</th>             <td>Least Squares</td>   <th>  F-statistic:       </th>          <td>   897.7</td>\n",
       "</tr>\n",
       "<tr>\n",
       "  <th>Date:</th>             <td>Thu, 06 Aug 2020</td>  <th>  Prob (F-statistic):</th>          <td>4.83e-34</td>\n",
       "</tr>\n",
       "<tr>\n",
       "  <th>Time:</th>                 <td>17:43:19</td>      <th>  Log-Likelihood:    </th>          <td> -62.884</td>\n",
       "</tr>\n",
       "<tr>\n",
       "  <th>No. Observations:</th>      <td>    52</td>       <th>  AIC:               </th>          <td>   127.8</td>\n",
       "</tr>\n",
       "<tr>\n",
       "  <th>Df Residuals:</th>          <td>    51</td>       <th>  BIC:               </th>          <td>   129.7</td>\n",
       "</tr>\n",
       "<tr>\n",
       "  <th>Df Model:</th>              <td>     1</td>       <th>                     </th>              <td> </td>   \n",
       "</tr>\n",
       "<tr>\n",
       "  <th>Covariance Type:</th>      <td>nonrobust</td>     <th>                     </th>              <td> </td>   \n",
       "</tr>\n",
       "</table>\n",
       "<table class=\"simpletable\">\n",
       "<tr>\n",
       "           <td></td>              <th>coef</th>     <th>std err</th>      <th>t</th>      <th>P>|t|</th>  <th>[0.025</th>    <th>0.975]</th>  \n",
       "</tr>\n",
       "<tr>\n",
       "  <th>COV_threat_personal</th> <td>    1.1376</td> <td>    0.038</td> <td>   29.961</td> <td> 0.000</td> <td>    1.061</td> <td>    1.214</td>\n",
       "</tr>\n",
       "</table>\n",
       "<table class=\"simpletable\">\n",
       "<tr>\n",
       "  <th>Omnibus:</th>       <td>13.621</td> <th>  Durbin-Watson:     </th> <td>   2.009</td>\n",
       "</tr>\n",
       "<tr>\n",
       "  <th>Prob(Omnibus):</th> <td> 0.001</td> <th>  Jarque-Bera (JB):  </th> <td>  14.458</td>\n",
       "</tr>\n",
       "<tr>\n",
       "  <th>Skew:</th>          <td> 1.167</td> <th>  Prob(JB):          </th> <td>0.000725</td>\n",
       "</tr>\n",
       "<tr>\n",
       "  <th>Kurtosis:</th>      <td> 4.107</td> <th>  Cond. No.          </th> <td>    1.00</td>\n",
       "</tr>\n",
       "</table><br/><br/>Warnings:<br/>[1] Standard Errors assume that the covariance matrix of the errors is correctly specified."
      ],
      "text/plain": [
       "<class 'statsmodels.iolib.summary.Summary'>\n",
       "\"\"\"\n",
       "                                 OLS Regression Results                                \n",
       "=======================================================================================\n",
       "Dep. Variable:      COV_threat_others   R-squared (uncentered):                   0.946\n",
       "Model:                            OLS   Adj. R-squared (uncentered):              0.945\n",
       "Method:                 Least Squares   F-statistic:                              897.7\n",
       "Date:                Thu, 06 Aug 2020   Prob (F-statistic):                    4.83e-34\n",
       "Time:                        17:43:19   Log-Likelihood:                         -62.884\n",
       "No. Observations:                  52   AIC:                                      127.8\n",
       "Df Residuals:                      51   BIC:                                      129.7\n",
       "Df Model:                           1                                                  \n",
       "Covariance Type:            nonrobust                                                  \n",
       "=======================================================================================\n",
       "                          coef    std err          t      P>|t|      [0.025      0.975]\n",
       "---------------------------------------------------------------------------------------\n",
       "COV_threat_personal     1.1376      0.038     29.961      0.000       1.061       1.214\n",
       "==============================================================================\n",
       "Omnibus:                       13.621   Durbin-Watson:                   2.009\n",
       "Prob(Omnibus):                  0.001   Jarque-Bera (JB):               14.458\n",
       "Skew:                           1.167   Prob(JB):                     0.000725\n",
       "Kurtosis:                       4.107   Cond. No.                         1.00\n",
       "==============================================================================\n",
       "\n",
       "Warnings:\n",
       "[1] Standard Errors assume that the covariance matrix of the errors is correctly specified.\n",
       "\"\"\""
      ]
     },
     "execution_count": 623,
     "metadata": {},
     "output_type": "execute_result"
    }
   ],
   "source": [
    "# linear regression\n",
    "\n",
    "import statsmodels.api as sm \n",
    "\n",
    "x = data['COV_threat_personal']\n",
    "y = data['COV_threat_others']\n",
    "\n",
    "# fitting the model to take our X variables and calculate y\n",
    "model = sm.OLS(y,x).fit()\n",
    "\n",
    "model.summary()"
   ]
  },
  {
   "cell_type": "code",
   "execution_count": 624,
   "metadata": {},
   "outputs": [
    {
     "data": {
      "text/html": [
       "<table class=\"simpletable\">\n",
       "<caption>OLS Regression Results</caption>\n",
       "<tr>\n",
       "  <th>Dep. Variable:</th>     <td>adherence_recom</td> <th>  R-squared (uncentered):</th>      <td>   0.887</td>\n",
       "</tr>\n",
       "<tr>\n",
       "  <th>Model:</th>                   <td>OLS</td>       <th>  Adj. R-squared (uncentered):</th> <td>   0.885</td>\n",
       "</tr>\n",
       "<tr>\n",
       "  <th>Method:</th>             <td>Least Squares</td>  <th>  F-statistic:       </th>          <td>   402.3</td>\n",
       "</tr>\n",
       "<tr>\n",
       "  <th>Date:</th>             <td>Thu, 06 Aug 2020</td> <th>  Prob (F-statistic):</th>          <td>7.51e-26</td>\n",
       "</tr>\n",
       "<tr>\n",
       "  <th>Time:</th>                 <td>17:43:44</td>     <th>  Log-Likelihood:    </th>          <td> -77.491</td>\n",
       "</tr>\n",
       "<tr>\n",
       "  <th>No. Observations:</th>      <td>    52</td>      <th>  AIC:               </th>          <td>   157.0</td>\n",
       "</tr>\n",
       "<tr>\n",
       "  <th>Df Residuals:</th>          <td>    51</td>      <th>  BIC:               </th>          <td>   158.9</td>\n",
       "</tr>\n",
       "<tr>\n",
       "  <th>Df Model:</th>              <td>     1</td>      <th>                     </th>              <td> </td>   \n",
       "</tr>\n",
       "<tr>\n",
       "  <th>Covariance Type:</th>      <td>nonrobust</td>    <th>                     </th>              <td> </td>   \n",
       "</tr>\n",
       "</table>\n",
       "<table class=\"simpletable\">\n",
       "<tr>\n",
       "           <td></td>              <th>coef</th>     <th>std err</th>      <th>t</th>      <th>P>|t|</th>  <th>[0.025</th>    <th>0.975]</th>  \n",
       "</tr>\n",
       "<tr>\n",
       "  <th>COV_threat_personal</th> <td>    1.0086</td> <td>    0.050</td> <td>   20.058</td> <td> 0.000</td> <td>    0.908</td> <td>    1.110</td>\n",
       "</tr>\n",
       "</table>\n",
       "<table class=\"simpletable\">\n",
       "<tr>\n",
       "  <th>Omnibus:</th>       <td> 0.457</td> <th>  Durbin-Watson:     </th> <td>   2.227</td>\n",
       "</tr>\n",
       "<tr>\n",
       "  <th>Prob(Omnibus):</th> <td> 0.796</td> <th>  Jarque-Bera (JB):  </th> <td>   0.597</td>\n",
       "</tr>\n",
       "<tr>\n",
       "  <th>Skew:</th>          <td> 0.065</td> <th>  Prob(JB):          </th> <td>   0.742</td>\n",
       "</tr>\n",
       "<tr>\n",
       "  <th>Kurtosis:</th>      <td> 2.491</td> <th>  Cond. No.          </th> <td>    1.00</td>\n",
       "</tr>\n",
       "</table><br/><br/>Warnings:<br/>[1] Standard Errors assume that the covariance matrix of the errors is correctly specified."
      ],
      "text/plain": [
       "<class 'statsmodels.iolib.summary.Summary'>\n",
       "\"\"\"\n",
       "                                 OLS Regression Results                                \n",
       "=======================================================================================\n",
       "Dep. Variable:        adherence_recom   R-squared (uncentered):                   0.887\n",
       "Model:                            OLS   Adj. R-squared (uncentered):              0.885\n",
       "Method:                 Least Squares   F-statistic:                              402.3\n",
       "Date:                Thu, 06 Aug 2020   Prob (F-statistic):                    7.51e-26\n",
       "Time:                        17:43:44   Log-Likelihood:                         -77.491\n",
       "No. Observations:                  52   AIC:                                      157.0\n",
       "Df Residuals:                      51   BIC:                                      158.9\n",
       "Df Model:                           1                                                  \n",
       "Covariance Type:            nonrobust                                                  \n",
       "=======================================================================================\n",
       "                          coef    std err          t      P>|t|      [0.025      0.975]\n",
       "---------------------------------------------------------------------------------------\n",
       "COV_threat_personal     1.0086      0.050     20.058      0.000       0.908       1.110\n",
       "==============================================================================\n",
       "Omnibus:                        0.457   Durbin-Watson:                   2.227\n",
       "Prob(Omnibus):                  0.796   Jarque-Bera (JB):                0.597\n",
       "Skew:                           0.065   Prob(JB):                        0.742\n",
       "Kurtosis:                       2.491   Cond. No.                         1.00\n",
       "==============================================================================\n",
       "\n",
       "Warnings:\n",
       "[1] Standard Errors assume that the covariance matrix of the errors is correctly specified.\n",
       "\"\"\""
      ]
     },
     "execution_count": 624,
     "metadata": {},
     "output_type": "execute_result"
    }
   ],
   "source": [
    "\n",
    "import statsmodels.api as sm \n",
    "\n",
    "x = data['COV_threat_personal']\n",
    "y = data['adherence_recom']\n",
    "\n",
    "# fitting the model to take our X variables and calculate y\n",
    "model = sm.OLS(y,x).fit()\n",
    "\n",
    "model.summary()"
   ]
  },
  {
   "cell_type": "code",
   "execution_count": 625,
   "metadata": {},
   "outputs": [
    {
     "data": {
      "text/html": [
       "<table class=\"simpletable\">\n",
       "<caption>OLS Regression Results</caption>\n",
       "<tr>\n",
       "  <th>Dep. Variable:</th>     <td>adherence_recom</td> <th>  R-squared (uncentered):</th>      <td>   0.915</td>\n",
       "</tr>\n",
       "<tr>\n",
       "  <th>Model:</th>                   <td>OLS</td>       <th>  Adj. R-squared (uncentered):</th> <td>   0.914</td>\n",
       "</tr>\n",
       "<tr>\n",
       "  <th>Method:</th>             <td>Least Squares</td>  <th>  F-statistic:       </th>          <td>   550.6</td>\n",
       "</tr>\n",
       "<tr>\n",
       "  <th>Date:</th>             <td>Thu, 06 Aug 2020</td> <th>  Prob (F-statistic):</th>          <td>5.44e-29</td>\n",
       "</tr>\n",
       "<tr>\n",
       "  <th>Time:</th>                 <td>17:44:01</td>     <th>  Log-Likelihood:    </th>          <td> -70.134</td>\n",
       "</tr>\n",
       "<tr>\n",
       "  <th>No. Observations:</th>      <td>    52</td>      <th>  AIC:               </th>          <td>   142.3</td>\n",
       "</tr>\n",
       "<tr>\n",
       "  <th>Df Residuals:</th>          <td>    51</td>      <th>  BIC:               </th>          <td>   144.2</td>\n",
       "</tr>\n",
       "<tr>\n",
       "  <th>Df Model:</th>              <td>     1</td>      <th>                     </th>              <td> </td>   \n",
       "</tr>\n",
       "<tr>\n",
       "  <th>Covariance Type:</th>      <td>nonrobust</td>    <th>                     </th>              <td> </td>   \n",
       "</tr>\n",
       "</table>\n",
       "<table class=\"simpletable\">\n",
       "<tr>\n",
       "          <td></td>             <th>coef</th>     <th>std err</th>      <th>t</th>      <th>P>|t|</th>  <th>[0.025</th>    <th>0.975]</th>  \n",
       "</tr>\n",
       "<tr>\n",
       "  <th>COV_threat_others</th> <td>    0.8758</td> <td>    0.037</td> <td>   23.464</td> <td> 0.000</td> <td>    0.801</td> <td>    0.951</td>\n",
       "</tr>\n",
       "</table>\n",
       "<table class=\"simpletable\">\n",
       "<tr>\n",
       "  <th>Omnibus:</th>       <td> 1.319</td> <th>  Durbin-Watson:     </th> <td>   1.741</td>\n",
       "</tr>\n",
       "<tr>\n",
       "  <th>Prob(Omnibus):</th> <td> 0.517</td> <th>  Jarque-Bera (JB):  </th> <td>   1.341</td>\n",
       "</tr>\n",
       "<tr>\n",
       "  <th>Skew:</th>          <td> 0.325</td> <th>  Prob(JB):          </th> <td>   0.512</td>\n",
       "</tr>\n",
       "<tr>\n",
       "  <th>Kurtosis:</th>      <td> 2.556</td> <th>  Cond. No.          </th> <td>    1.00</td>\n",
       "</tr>\n",
       "</table><br/><br/>Warnings:<br/>[1] Standard Errors assume that the covariance matrix of the errors is correctly specified."
      ],
      "text/plain": [
       "<class 'statsmodels.iolib.summary.Summary'>\n",
       "\"\"\"\n",
       "                                 OLS Regression Results                                \n",
       "=======================================================================================\n",
       "Dep. Variable:        adherence_recom   R-squared (uncentered):                   0.915\n",
       "Model:                            OLS   Adj. R-squared (uncentered):              0.914\n",
       "Method:                 Least Squares   F-statistic:                              550.6\n",
       "Date:                Thu, 06 Aug 2020   Prob (F-statistic):                    5.44e-29\n",
       "Time:                        17:44:01   Log-Likelihood:                         -70.134\n",
       "No. Observations:                  52   AIC:                                      142.3\n",
       "Df Residuals:                      51   BIC:                                      144.2\n",
       "Df Model:                           1                                                  \n",
       "Covariance Type:            nonrobust                                                  \n",
       "=====================================================================================\n",
       "                        coef    std err          t      P>|t|      [0.025      0.975]\n",
       "-------------------------------------------------------------------------------------\n",
       "COV_threat_others     0.8758      0.037     23.464      0.000       0.801       0.951\n",
       "==============================================================================\n",
       "Omnibus:                        1.319   Durbin-Watson:                   1.741\n",
       "Prob(Omnibus):                  0.517   Jarque-Bera (JB):                1.341\n",
       "Skew:                           0.325   Prob(JB):                        0.512\n",
       "Kurtosis:                       2.556   Cond. No.                         1.00\n",
       "==============================================================================\n",
       "\n",
       "Warnings:\n",
       "[1] Standard Errors assume that the covariance matrix of the errors is correctly specified.\n",
       "\"\"\""
      ]
     },
     "execution_count": 625,
     "metadata": {},
     "output_type": "execute_result"
    }
   ],
   "source": [
    "import statsmodels.api as sm \n",
    "\n",
    "x = data['COV_threat_others']\n",
    "y = data['adherence_recom']\n",
    "\n",
    "# fitting the model to take our X variables and calculate y\n",
    "model = sm.OLS(y,x).fit()\n",
    "\n",
    "model.summary()"
   ]
  },
  {
   "cell_type": "code",
   "execution_count": null,
   "metadata": {},
   "outputs": [],
   "source": []
  }
 ],
 "metadata": {
  "kernelspec": {
   "display_name": "Python 3",
   "language": "python",
   "name": "python3"
  },
  "language_info": {
   "codemirror_mode": {
    "name": "ipython",
    "version": 3
   },
   "file_extension": ".py",
   "mimetype": "text/x-python",
   "name": "python",
   "nbconvert_exporter": "python",
   "pygments_lexer": "ipython3",
   "version": "3.7.6"
  }
 },
 "nbformat": 4,
 "nbformat_minor": 4
}
